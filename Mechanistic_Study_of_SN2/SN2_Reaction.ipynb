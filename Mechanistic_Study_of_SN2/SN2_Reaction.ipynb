{
 "cells": [
  {
   "cell_type": "markdown",
   "id": "0dcf4b25",
   "metadata": {},
   "source": [
    "## Computational Mechanistic Study of an S<sub>N</sub>2 Reaction"
   ]
  },
  {
   "cell_type": "markdown",
   "id": "75857659",
   "metadata": {},
   "source": [
    "The S<sub>N</sub>2 (bimolecular nucleophilic substitution) reaction is a fundamental mechanism in organic chemistry, characterized by a concerted substitution where the nucleophile attacks the electrophilic carbon from the opposite side of the leaving group. This results in inversion of stereochemistry and transition through a single transition state.\n",
    "\n",
    "In this computational study, the reaction between fluoride anion and methyl chloride:\n",
    "**<p style=\"text-align:center;\"> F<sup>-</sup> + CH<sub>3</sub>Cl -> Cl<sup>-</sup> + CH<sub>3</sub>F </p>**\n",
    "in the gas phase is investigated. The process involves: \n",
    "- **Geometry optimization** of reactants, products, and transition state (TS)\n",
    "- **Frequency analysis** to confirm the nature of the stationary points\n",
    "- **Intrinsic Reaction Coordinate** (IRC) calculation to confirm the connectivity between TS and minima\n",
    "- **Energy calculations** at different levels of theory"
   ]
  },
  {
   "cell_type": "markdown",
   "id": "7c66980a",
   "metadata": {},
   "source": [
    "### Tools and Methods\n",
    "\n",
    "All calculations were carried out using Psi4, an open-source quantum chemistry software package designed for efficient ab initio electronic structure calculations. Psi4 supports a wide range of methods including Hartree–Fock (HF), post-HF (e.g. MP2), and density functional theory (DFT)\n",
    "\n",
    "The following Python modules were used to support the computational analysis and visualization:\n",
    "- `psi4`: for quantum chemistry calculations,\n",
    "- `numpy` and `pandas`: for data processing and analysis,\n",
    "- `matplotlib`: for plotting energy profiles and data visualization,\n",
    "- `py3Dmol`: for interactive 3D molecular visualization."
   ]
  },
  {
   "cell_type": "markdown",
   "id": "93407e31",
   "metadata": {},
   "source": [
    "### Methodology\n",
    "\n",
    "In computational chemistry, it is general practice to:\n",
    "- Use lower-level methods and smaller basis sets for geometry optimizations to reduce computational cost.\n",
    "- Perform single-point energy calculations using higher-level methods and larger basis sets on the optimized geometry to achieve more accurate energies.\n",
    "\n",
    "In this study, the following **model chemistry** is employed:\n",
    "**<p style=\"text-align:center;\"> MP2/6-31++G(d,p)//HF/6-31+G(d) </p>**\n",
    "This notation indicates that:\n",
    "- **Geometry optimization** is performed at the **HF** level, using the **6-31+G(d)** basis set.\n",
    "- **Single-point energy calculation** is conducted at the **MP2** level, using the **6-31++G(d,p)** basis set.\n",
    "\n",
    "Basis Set Rationale:\n",
    "- **6-31+G(d)** (= 6-31+G*): A split-valence basis set with one set of polarization functions (d) and diffuse functions (+) added. The inclusion of diffuse functions is essential for accurately describing anionic species such as F⁻ and Cl⁻.\n",
    "\n",
    "- **6-31++G(d,p)** (= 6-31++G**): Adds diffuse functions to both hydrogen and heavier atoms (++), and includes polarization functions (d on heavy atoms, p on hydrogen) for improved electron distribution flexibility.\n"
   ]
  },
  {
   "cell_type": "code",
   "execution_count": 2,
   "id": "4e578eee",
   "metadata": {},
   "outputs": [],
   "source": [
    "import psi4\n",
    "import numpy as np\n",
    "import pandas as pd\n",
    "import matplotlib.pyplot as plt\n",
    "import py3Dmol"
   ]
  },
  {
   "cell_type": "markdown",
   "id": "d58a91ea",
   "metadata": {},
   "source": [
    "The memory and CPU threads were set for efficient computation. All output was directed to a dedicated file (output.dat) for logging and further analysis."
   ]
  },
  {
   "cell_type": "code",
   "execution_count": null,
   "id": "64dccc95",
   "metadata": {},
   "outputs": [
    {
     "name": "stdout",
     "output_type": "stream",
     "text": [
      "\n",
      "  Memory set to   1.863 GiB by Python driver.\n",
      "  Threads set to 2 by Python driver.\n"
     ]
    }
   ],
   "source": [
    "psi4.set_memory('2GB')\n",
    "psi4.set_num_threads(2)\n",
    "psi4.core.set_output_file('output.dat', False)"
   ]
  },
  {
   "cell_type": "markdown",
   "id": "a4d5ba86",
   "metadata": {},
   "source": [
    "### Geometry Optimization, Frequency Calculation, and Energy Evaluation\n",
    "\n",
    "Reactant and product molecules are defined using internal coordinates (Z-matrix) with neutral charge and singlet spin multiplicity (0 1)."
   ]
  },
  {
   "cell_type": "code",
   "execution_count": 4,
   "id": "666ad967",
   "metadata": {},
   "outputs": [],
   "source": [
    "CH3Cl = psi4.geometry(\"\"\" \n",
    "0 1\n",
    "C\n",
    "H 1 1.09\n",
    "H 1 1.09 2 109.5\n",
    "H 1 1.09 2 109.5 3 120.0\n",
    "Cl 1 1.78 2 109.5 3 -120.0                                                   \n",
    "\"\"\")\n",
    "\n",
    "CH3F = psi4.geometry(\"\"\" \n",
    "0 1\n",
    "C\n",
    "H 1 1.09\n",
    "H 1 1.09 2 109.5\n",
    "H 1 1.09 2 109.5 3 120.0\n",
    "F 1 1.38 2 109.5 3 -120.0                                                   \n",
    "\"\"\")\n",
    "\n",
    "molecules = {'CH3Cl': CH3Cl, 'CH3F': CH3F}\n",
    "\n",
    "scale_factor = 0.911"
   ]
  },
  {
   "cell_type": "markdown",
   "id": "5a40407c",
   "metadata": {},
   "source": [
    "For each molecular species, the following steps are performed:\n",
    "1. Geometry optimization using the Hartree–Fock method with the 6-31+G(d) basis set.\n",
    "2. Frequency analysis at the same level of theory to:\n",
    "    - Confirm whether the optimized structure is a minimum (i.e., all vibrational frequencies are real).\n",
    "    - Compute the zero-point vibrational energy (ZPE).\n",
    "3. Single-point energy calculation at the MP2/6-31++G(d,p) level to obtain the correlated electronic energy.\n",
    "4. Zero-point corrected energy  is then calculated as:\n",
    "$$ E^0 = E_{e} + ZPE_{scaled} $$\n",
    "\n",
    "Notes on Frequency Calculations:\n",
    "- Frequency calculations are only valid at stationary points on the potential energy surface (PES), meaning the structure must first be optimized.\n",
    "- The same method and basis set used for geometry optimization must be used for the frequency job to ensure consistent energy derivatives.\n",
    "- The results of the frequency calculation can be found under the \"Harmonic Vibrational Analysis\" section and the ZPE under the \"Thermochemistry Energy Analysis\" section of the output file. (Here: ZPE is parsed programmatically from the output file)\n",
    "- Harmonic vibrational frequencies and ZPE values calculated at the HF level systematically overestimate real values due to the neglect of electron correlation. For this reason, it is standard practice to apply an empirical scaling factor. A value of 0.911 is used for HF/6-31+G(d).\n",
    "\n"
   ]
  },
  {
   "cell_type": "code",
   "execution_count": null,
   "id": "e388a150",
   "metadata": {},
   "outputs": [
    {
     "name": "stdout",
     "output_type": "stream",
     "text": [
      "Optimizer: Optimization complete!\n",
      "E_e(CH3Cl) = -499.39681 hartrees\n",
      "ZPE(CH3Cl) = 0.04177 hartrees (unscaled)\n",
      "E_0(CH3Cl) = -499.35875 hartrees\n"
     ]
    },
    {
     "name": "stderr",
     "output_type": "stream",
     "text": [
      "\tPrevious geometry is closer to target in internal coordinates, so using that one.\n",
      "\n",
      "\tBest geometry has RMS(Delta(q)) = 5.42e-06\n",
      "\n"
     ]
    },
    {
     "name": "stdout",
     "output_type": "stream",
     "text": [
      "Optimizer: Optimization complete!\n",
      "E_e(CH3F) = -139.38428 hartrees\n",
      "ZPE(CH3F) = 0.04234 hartrees (unscaled)\n",
      "E_0(CH3F) = -139.34571 hartrees\n"
     ]
    }
   ],
   "source": [
    "Ee_dict = {}\n",
    "ZPE_dict = {}\n",
    "E0_dict = {}\n",
    "\n",
    "# Function for parsing the ZPE from the frequency job output\n",
    "def extract_ZPE():\n",
    "    with open('output.dat', 'r') as f:\n",
    "        lines = f.read().splitlines()\n",
    "    for line in lines:\n",
    "        if 'Correction ZPVE to E_e' in line:\n",
    "            ZPE = float(line.split()[-4])\n",
    "    return ZPE\n",
    "\n",
    "for key, val in molecules.items():\n",
    "    # Geometry optimization and Frequency job at HF level\n",
    "    psi4.optimize('HF/6-31+G*', molecule = val)\n",
    "    psi4.frequency('HF/6-31+G*')\n",
    "\n",
    "    # ZPE\n",
    "    ZPE = extract_ZPE()\n",
    "    ZPE_dict[key] = ZPE\n",
    "\n",
    "    # Energy calculation at MP2 level\n",
    "    Ee = psi4.energy('MP2/6-31++G**', molecule = val)\n",
    "    Ee_dict[key] = Ee\n",
    "\n",
    "    # Calculate zero-point corrected Energy\n",
    "    E0 = Ee + ZPE * scale_factor\n",
    "    E0_dict[key] = E0\n",
    "\n",
    "    psi4.core.clean()\n",
    "\n",
    "    print(f'E_e({key}) = {round(Ee, 5)} hartrees')\n",
    "    print(f'ZPE({key}) = {round(ZPE, 5)} hartrees (unscaled)')\n",
    "    print(f'E_0({key}) = {round(E0, 5)} hartrees')"
   ]
  },
  {
   "cell_type": "code",
   "execution_count": 6,
   "id": "7768dc7a",
   "metadata": {},
   "outputs": [],
   "source": [
    "CH3Cl.print_in_input_format()\n",
    "CH3F.print_in_input_format()"
   ]
  },
  {
   "cell_type": "markdown",
   "id": "1b34dc54",
   "metadata": {},
   "source": [
    "For atomic anions (Cl</sup>⁻</sup> and F</sup>⁻</sup>), only single-point energy calculations are performed using MP2/6-31++G(d,p), as these species consist of a single atom and have no molecular geometry or vibrational modes."
   ]
  },
  {
   "cell_type": "code",
   "execution_count": 7,
   "id": "5d577194",
   "metadata": {},
   "outputs": [
    {
     "name": "stdout",
     "output_type": "stream",
     "text": [
      "E_e(Cl-) = -459.68151 hartrees\n",
      "E_e(F-) = -99.62606 hartrees\n"
     ]
    }
   ],
   "source": [
    "Cl_ion = psi4.geometry(\"\"\" \n",
    "-1 1\n",
    "Cl\n",
    "\"\"\")\n",
    "\n",
    "F_ion = psi4.geometry(\"\"\" \n",
    "-1 1\n",
    "F\n",
    "\"\"\")\n",
    "\n",
    "ions = {'Cl-': Cl_ion, 'F-': F_ion}\n",
    "\n",
    "for key, val in ions.items():\n",
    "    Ee = psi4.energy('MP2/6-31++G**', molecule = val)\n",
    "    Ee_dict[key] = Ee\n",
    "\n",
    "    psi4.core.clean()\n",
    "\n",
    "    print(f'E_e({key}) = {round(Ee, 5)} hartrees')"
   ]
  },
  {
   "cell_type": "markdown",
   "id": "c02e4410",
   "metadata": {},
   "source": [
    "The following table summarizes the electronic energies ($E_e$), zero-point vibrational energies ($ZPE$, unscaled), and ZPE-corrected energies ($E^0$) of the reactants and products involved in the S<sub>N</sub>2 reaction:"
   ]
  },
  {
   "cell_type": "code",
   "execution_count": 8,
   "id": "6b6924af",
   "metadata": {},
   "outputs": [
    {
     "data": {
      "text/html": [
       "<div>\n",
       "<style scoped>\n",
       "    .dataframe tbody tr th:only-of-type {\n",
       "        vertical-align: middle;\n",
       "    }\n",
       "\n",
       "    .dataframe tbody tr th {\n",
       "        vertical-align: top;\n",
       "    }\n",
       "\n",
       "    .dataframe thead th {\n",
       "        text-align: right;\n",
       "    }\n",
       "</style>\n",
       "<table border=\"1\" class=\"dataframe\">\n",
       "  <thead>\n",
       "    <tr style=\"text-align: right;\">\n",
       "      <th></th>\n",
       "      <th>System</th>\n",
       "      <th>E_e (Eh)</th>\n",
       "      <th>ZPE (Eh) *unscaled</th>\n",
       "      <th>E^0 (Eh)</th>\n",
       "    </tr>\n",
       "  </thead>\n",
       "  <tbody>\n",
       "    <tr>\n",
       "      <th>0</th>\n",
       "      <td>Cl-</td>\n",
       "      <td>-459.681511</td>\n",
       "      <td>0.0</td>\n",
       "      <td>-</td>\n",
       "    </tr>\n",
       "    <tr>\n",
       "      <th>1</th>\n",
       "      <td>F-</td>\n",
       "      <td>-99.626056</td>\n",
       "      <td>0,0</td>\n",
       "      <td>-</td>\n",
       "    </tr>\n",
       "    <tr>\n",
       "      <th>2</th>\n",
       "      <td>CH3Cl</td>\n",
       "      <td>-499.396809</td>\n",
       "      <td>0.041772</td>\n",
       "      <td>-499.358755</td>\n",
       "    </tr>\n",
       "    <tr>\n",
       "      <th>3</th>\n",
       "      <td>CH3F</td>\n",
       "      <td>-139.384283</td>\n",
       "      <td>0.042342</td>\n",
       "      <td>-139.345709</td>\n",
       "    </tr>\n",
       "  </tbody>\n",
       "</table>\n",
       "</div>"
      ],
      "text/plain": [
       "  System    E_e (Eh) ZPE (Eh) *unscaled    E^0 (Eh)\n",
       "0    Cl- -459.681511                0.0           -\n",
       "1     F-  -99.626056                0,0           -\n",
       "2  CH3Cl -499.396809           0.041772 -499.358755\n",
       "3   CH3F -139.384283           0.042342 -139.345709"
      ]
     },
     "execution_count": 8,
     "metadata": {},
     "output_type": "execute_result"
    }
   ],
   "source": [
    "system = ['Cl-', 'F-', 'CH3Cl', 'CH3F']\n",
    "Ee_list = [Ee_dict['Cl-'], Ee_dict['F-'], Ee_dict['CH3Cl'], Ee_dict['CH3F']]\n",
    "ZPE_list = ['0.0', '0,0', ZPE_dict['CH3Cl'], ZPE_dict['CH3F']]\n",
    "E0_list = ['-', '-', E0_dict['CH3Cl'], E0_dict['CH3F']]\n",
    "\n",
    "dict = {'System': system, 'E_e (Eh)': Ee_list, 'ZPE (Eh) *unscaled': ZPE_list, 'E^0 (Eh)': E0_list}\n",
    "df = pd.DataFrame(dict)\n",
    "\n",
    "df"
   ]
  },
  {
   "cell_type": "markdown",
   "id": "836f3f60",
   "metadata": {},
   "source": [
    "### Optimization of Transition Structure\n",
    "\n",
    "The geometry of the transition state (TS) for the S<sub>N</sub>2 reaction is optimized using HF theory with the 6-31+G(d) basis set. The optimization is performed using the `'opt_type': 'ts'` option, which directs Psi4 to locate a first-order saddle point (i.e., a structure with exactly one imaginary frequency).The `'full_hess_every': 0` option instructs Psi4 to compute the full Hessian matrix only at the first optimization step. This is typical for TS optimizations, as a full Hessian helps identify the nature of the stationary point early in the optimization process.\n",
    "\n",
    "Initial Geometry Considerations:\n",
    "- The reacting complex has an overall charge of –1\n",
    "- Initial bond distances of C–F and C–Cl are set as the sum of the respective covalent radii plus 0.5 Å\n",
    "- The F–C–H angle is set to 89.9° instead of an exact 90° to allow for asymmetry; the angle is expected to bend slightly more towards F due to its smaller atomic radius.\n",
    "- The Cl atom is placed linearly opposite F along the Cl–C–F axis."
   ]
  },
  {
   "cell_type": "code",
   "execution_count": 9,
   "id": "3c04631e",
   "metadata": {},
   "outputs": [
    {
     "name": "stderr",
     "output_type": "stream",
     "text": [
      "AlgError: Exception created. Mesg: Angle: [ 0.00000000 -4.68959350  0.00000000], [ 0.00000000 -1.23139469  0.00000000], [ 0.00000000  3.07718088  0.00000000] is to close to zero in oofp\n",
      "\n",
      "Skipping OOFP (2, 1, 0, 5)\n",
      "AlgError: Exception created. Mesg: Angle: [ 0.00000000 -4.68959350  0.00000000], [ 0.00000000 -1.23139469  0.00000000], [ 0.00000000  3.07718088  0.00000000] is to close to zero in oofp\n",
      "\n",
      "Skipping OOFP (3, 1, 0, 5)\n",
      "AlgError: Exception created. Mesg: Angle: [ 0.00000000 -4.68959350  0.00000000], [ 0.00000000 -1.23139469  0.00000000], [ 0.00000000  3.07718088  0.00000000] is to close to zero in oofp\n",
      "\n",
      "Skipping OOFP (4, 1, 0, 5)\n"
     ]
    },
    {
     "name": "stdout",
     "output_type": "stream",
     "text": [
      "Warning: thermodynamics relations excluded imaginary frequencies: ['531.1356i' '43.6144i' '43.6144i']\n",
      "Warning: used thermodynamics relations inappropriate for low-frequency modes: ['289.8512' '289.8512' '307.1539' '540.6979']\n"
     ]
    },
    {
     "name": "stderr",
     "output_type": "stream",
     "text": [
      "\tChange in internal coordinate of 5.23e-01 exceeds limit of 5.00e-01.\n",
      "\tSkipping Hessian update for step 1.\n",
      "\tChange in internal coordinate of 5.58e-01 exceeds limit of 5.00e-01.\n",
      "\tSkipping Hessian update for step 1.\n",
      "\tPrevious geometry is closer to target in internal coordinates, so using that one.\n",
      "\n",
      "\tBest geometry has RMS(Delta(q)) = 3.64e-06\n",
      "\n",
      "\tEnergy ratio indicates iffy step.\n",
      "\tIntrafrag trust radius decreased to   0.25.\n",
      "\tPrevious geometry is closer to target in internal coordinates, so using that one.\n",
      "\n",
      "\tBest geometry has RMS(Delta(q)) = 7.64e-07\n",
      "\n"
     ]
    },
    {
     "name": "stdout",
     "output_type": "stream",
     "text": [
      "Optimizer: Optimization complete!\n"
     ]
    }
   ],
   "source": [
    "ts = psi4.geometry(\"\"\" \n",
    "-1 1\n",
    "F                   \n",
    "C 1 1.83\n",
    "H 2 1.09 1 89.9\n",
    "H 2 1.09 1 89.9 3 120.0\n",
    "H 2 1.09 1 89.9 3 -120.0                                      \n",
    "Cl 2 2.28 1 180.0 3 0.0  \n",
    "symmetry c1                 \n",
    "\"\"\")\n",
    "\n",
    "psi4.set_options({'basis': '6-31+G*',\n",
    "                  'opt_type': 'ts',\n",
    "                  'full_hess_every': 0\n",
    "                  })\n",
    "\n",
    "psi4.optimize('HF', molecule=ts)\n",
    "psi4.core.clean()"
   ]
  },
  {
   "cell_type": "markdown",
   "id": "650a2dc1",
   "metadata": {},
   "source": [
    "A frequency analysis is then performed to confirm the nature of the optimized structure. The `'normal_modes_write': True` option is included to allow export of the vibrational modes for visualization in software such as Molden."
   ]
  },
  {
   "cell_type": "code",
   "execution_count": 10,
   "id": "8a2dcac0",
   "metadata": {},
   "outputs": [
    {
     "name": "stdout",
     "output_type": "stream",
     "text": [
      "Warning: thermodynamics relations excluded imaginary frequencies: ['441.9498i']\n",
      "Warning: used thermodynamics relations inappropriate for low-frequency modes: ['231.9758' '231.9758' '269.2221']\n"
     ]
    }
   ],
   "source": [
    "psi4.set_options({'normal_modes_write': True})\n",
    "\n",
    "psi4.frequency('HF', molecule=ts)\n",
    "\n",
    "ZPE = extract_ZPE()\n",
    "ZPE_dict['TS'] = ZPE\n",
    "\n",
    "psi4.core.clean()"
   ]
  },
  {
   "cell_type": "markdown",
   "id": "d2c8c5f2",
   "metadata": {},
   "source": [
    "The frequency analysis reveals exactly one imaginary frequency: 441.9498i cm<sup>-1</sup>, confirming that the structure corresponds to a transition state.\n",
    "\n",
    "Visualization of the corresponding vibrational mode in **Molden** shows significant movement of the carbon atom along the Cl–C–F axis, indicating this is the reaction coordinate for the S<sub>N</sub>2 reaction.\n",
    "\n",
    "<br>\n",
    "\n",
    "<img src=\"media/TS_animation.gif\" width=\"500\">\n",
    "\n",
    "<br>"
   ]
  },
  {
   "cell_type": "markdown",
   "id": "2d6529ef",
   "metadata": {},
   "source": [
    "The optimized transition structure is visualized using `py3Dmol`, allowing interactive inspection of the geometry in 3D. Users can rotate, zoom, and move the molecule using the cursor."
   ]
  },
  {
   "cell_type": "code",
   "execution_count": 11,
   "id": "2ab9775e",
   "metadata": {},
   "outputs": [
    {
     "data": {
      "application/3dmoljs_load.v0": "<div id=\"3dmolviewer_17464258349772673\"  style=\"position: relative; width: 400px; height: 300px;\">\n        <p id=\"3dmolwarning_17464258349772673\" style=\"background-color:#ffcccc;color:black\">3Dmol.js failed to load for some reason.  Please check your browser console for error messages.<br></p>\n        </div>\n<script>\n\nvar loadScriptAsync = function(uri){\n  return new Promise((resolve, reject) => {\n    //this is to ignore the existence of requirejs amd\n    var savedexports, savedmodule;\n    if (typeof exports !== 'undefined') savedexports = exports;\n    else exports = {}\n    if (typeof module !== 'undefined') savedmodule = module;\n    else module = {}\n\n    var tag = document.createElement('script');\n    tag.src = uri;\n    tag.async = true;\n    tag.onload = () => {\n        exports = savedexports;\n        module = savedmodule;\n        resolve();\n    };\n  var firstScriptTag = document.getElementsByTagName('script')[0];\n  firstScriptTag.parentNode.insertBefore(tag, firstScriptTag);\n});\n};\n\nif(typeof $3Dmolpromise === 'undefined') {\n$3Dmolpromise = null;\n  $3Dmolpromise = loadScriptAsync('https://cdnjs.cloudflare.com/ajax/libs/3Dmol/2.4.2/3Dmol-min.js');\n}\n\nvar viewer_17464258349772673 = null;\nvar warn = document.getElementById(\"3dmolwarning_17464258349772673\");\nif(warn) {\n    warn.parentNode.removeChild(warn);\n}\n$3Dmolpromise.then(function() {\nviewer_17464258349772673 = $3Dmol.createViewer(document.getElementById(\"3dmolviewer_17464258349772673\"),{backgroundColor:\"white\"});\nviewer_17464258349772673.zoomTo();\n\tviewer_17464258349772673.addModel(\"6\\n\\n F    0.000000348393   -0.000000158223   -2.617382514783\\n C    0.000000348393   -0.000000158223   -0.490674279526\\n H    0.000000348393   -1.053466131670   -0.623911568187\\n H    0.912328757036    0.526732780568   -0.623911504863\\n H   -0.912327966825    0.526732917333   -0.623911632390\\nCL   -0.000000341651    0.000000152760    1.644336496080\\n\",\"xyz\");\n\tviewer_17464258349772673.setStyle({\"stick\": {}, \"sphere\": {\"scale\": 0.3, \"colorscheme\": \"cyanCarbon\"}});\n\tviewer_17464258349772673.setBackgroundColor(\"#9880d1\");\n\tviewer_17464258349772673.zoomTo();\nviewer_17464258349772673.render();\n});\n</script>",
      "text/html": [
       "<div id=\"3dmolviewer_17464258349772673\"  style=\"position: relative; width: 400px; height: 300px;\">\n",
       "        <p id=\"3dmolwarning_17464258349772673\" style=\"background-color:#ffcccc;color:black\">3Dmol.js failed to load for some reason.  Please check your browser console for error messages.<br></p>\n",
       "        </div>\n",
       "<script>\n",
       "\n",
       "var loadScriptAsync = function(uri){\n",
       "  return new Promise((resolve, reject) => {\n",
       "    //this is to ignore the existence of requirejs amd\n",
       "    var savedexports, savedmodule;\n",
       "    if (typeof exports !== 'undefined') savedexports = exports;\n",
       "    else exports = {}\n",
       "    if (typeof module !== 'undefined') savedmodule = module;\n",
       "    else module = {}\n",
       "\n",
       "    var tag = document.createElement('script');\n",
       "    tag.src = uri;\n",
       "    tag.async = true;\n",
       "    tag.onload = () => {\n",
       "        exports = savedexports;\n",
       "        module = savedmodule;\n",
       "        resolve();\n",
       "    };\n",
       "  var firstScriptTag = document.getElementsByTagName('script')[0];\n",
       "  firstScriptTag.parentNode.insertBefore(tag, firstScriptTag);\n",
       "});\n",
       "};\n",
       "\n",
       "if(typeof $3Dmolpromise === 'undefined') {\n",
       "$3Dmolpromise = null;\n",
       "  $3Dmolpromise = loadScriptAsync('https://cdnjs.cloudflare.com/ajax/libs/3Dmol/2.4.2/3Dmol-min.js');\n",
       "}\n",
       "\n",
       "var viewer_17464258349772673 = null;\n",
       "var warn = document.getElementById(\"3dmolwarning_17464258349772673\");\n",
       "if(warn) {\n",
       "    warn.parentNode.removeChild(warn);\n",
       "}\n",
       "$3Dmolpromise.then(function() {\n",
       "viewer_17464258349772673 = $3Dmol.createViewer(document.getElementById(\"3dmolviewer_17464258349772673\"),{backgroundColor:\"white\"});\n",
       "viewer_17464258349772673.zoomTo();\n",
       "\tviewer_17464258349772673.addModel(\"6\\n\\n F    0.000000348393   -0.000000158223   -2.617382514783\\n C    0.000000348393   -0.000000158223   -0.490674279526\\n H    0.000000348393   -1.053466131670   -0.623911568187\\n H    0.912328757036    0.526732780568   -0.623911504863\\n H   -0.912327966825    0.526732917333   -0.623911632390\\nCL   -0.000000341651    0.000000152760    1.644336496080\\n\",\"xyz\");\n",
       "\tviewer_17464258349772673.setStyle({\"stick\": {}, \"sphere\": {\"scale\": 0.3, \"colorscheme\": \"cyanCarbon\"}});\n",
       "\tviewer_17464258349772673.setBackgroundColor(\"#9880d1\");\n",
       "\tviewer_17464258349772673.zoomTo();\n",
       "viewer_17464258349772673.render();\n",
       "});\n",
       "</script>"
      ]
     },
     "metadata": {},
     "output_type": "display_data"
    }
   ],
   "source": [
    "ts_xyz = ts.save_string_xyz_file()\n",
    "\n",
    "view = py3Dmol.view(width=400, height=300)\n",
    "view.addModel(ts_xyz, 'xyz')\n",
    "view.setStyle({'stick': {}, 'sphere': {\"scale\": 0.3, 'colorscheme':'cyanCarbon'}})\n",
    "view.setBackgroundColor('#9880d1')\n",
    "view.zoomTo()\n",
    "view.show()"
   ]
  },
  {
   "cell_type": "markdown",
   "id": "07bd046d",
   "metadata": {},
   "source": [
    "Key bond lengths and angles are extracted from the Z-matrix of the optimized structure found in the output file.\n",
    "\n",
    "Bond lengths [Å]  \n",
    "- C-Cl: 2.133   \n",
    "- C-F: 2.127  \n",
    "- C-H: 1.062  \n",
    "\n",
    "Angles [°]  \n",
    "- Cl-C-F: 180.0  \n",
    "- Cl-C-H: 97.3"
   ]
  },
  {
   "cell_type": "markdown",
   "id": "9e601b1b",
   "metadata": {},
   "source": [
    "### Intrinsic Reaction Coordinate Calculation\n",
    "\n",
    "To verify that the located TS connects the expected starting and ending structures, an **Intrinsic Reaction Coordinate (IRC)** calculation was performed using the `'opt_type': 'irc'` option.\n",
    "\n",
    "The direction of the IRC path is determined by the sign of the largest component of the vibrational normal mode corresponding to the imaginary frequency at the TS geometry. In this case, the largest component is the positive displacement of the carbon atom along the *z*-axis, indicating motion toward the Cl atom. Thus, the reaction directions are defined as:\n",
    "- **Forward**: Cl⁻ + CH<sub>3</sub>F → CH<sub>3</sub>Cl + F⁻\n",
    "- **Backward**: F⁻ + CH<sub>3</sub>Cl → CH<sub>3</sub>F + Cl⁻\n",
    "\n",
    "The IRC was computed in the forward direction using the `'irc_direction': 'forward'` option."
   ]
  },
  {
   "cell_type": "code",
   "execution_count": 12,
   "id": "64f27f65",
   "metadata": {},
   "outputs": [
    {
     "name": "stdout",
     "output_type": "stream",
     "text": [
      "Warning: thermodynamics relations excluded imaginary frequencies: ['441.9498i']\n",
      "Warning: used thermodynamics relations inappropriate for low-frequency modes: ['231.9758' '231.9758' '269.2221']\n"
     ]
    },
    {
     "name": "stderr",
     "output_type": "stream",
     "text": [
      "\tDenominators (dg)(dq) or (dq)(dq) are very small.\n",
      "\tSkipping Hessian update for step 4.\n",
      "\tDenominators (dg)(dq) or (dq)(dq) are very small.\n",
      "\tSkipping Hessian update for step 7.\n",
      "\tDenominators (dg)(dq) or (dq)(dq) are very small.\n",
      "\tSkipping Hessian update for step 10.\n",
      "\tDenominators (dg)(dq) or (dq)(dq) are very small.\n",
      "\tSkipping Hessian update for step 9.\n",
      "\tDenominators (dg)(dq) or (dq)(dq) are very small.\n",
      "\tSkipping Hessian update for step 13.\n",
      "\tDenominators (dg)(dq) or (dq)(dq) are very small.\n",
      "\tSkipping Hessian update for step 17.\n",
      "\tDenominators (dg)(dq) or (dq)(dq) are very small.\n",
      "\tSkipping Hessian update for step 23.\n",
      "\tDenominators (dg)(dq) or (dq)(dq) are very small.\n",
      "\tSkipping Hessian update for step 27.\n"
     ]
    },
    {
     "name": "stdout",
     "output_type": "stream",
     "text": [
      "Optimizer: Optimization complete!\n"
     ]
    }
   ],
   "source": [
    "irc_for = ts.clone()\n",
    "\n",
    "psi4.core.clean_options()\n",
    "psi4.set_options({'basis': '6-31+G*',\n",
    "                  'opt_type': 'irc',\n",
    "                  'irc_direction': 'forward',\n",
    "                  'irc_step_size': 0.20,\n",
    "                  'full_hess_every': 0,\n",
    "                  'geom_maxiter': 100,\n",
    "                  'opt_coordinates': 'cartesian'})\n",
    "\n",
    "psi4.optimize('HF', molecule = irc_for)\n",
    "psi4.core.clean()"
   ]
  },
  {
   "cell_type": "markdown",
   "id": "fa06cb5a",
   "metadata": {},
   "source": [
    "The resulting structure from the IRC is an intermediate minimum (Min 1). This structure is re-optimized with `'opt_type': 'min'` to confirm it as a local minimum."
   ]
  },
  {
   "cell_type": "code",
   "execution_count": 13,
   "id": "700b02c5",
   "metadata": {},
   "outputs": [
    {
     "name": "stderr",
     "output_type": "stream",
     "text": [
      "\tPrevious geometry is closer to target in internal coordinates, so using that one.\n",
      "\n",
      "\tBest geometry has RMS(Delta(q)) = 1.97e-06\n",
      "\n",
      "\tPrevious geometry is closer to target in internal coordinates, so using that one.\n",
      "\n",
      "\tBest geometry has RMS(Delta(q)) = 6.08e-07\n",
      "\n"
     ]
    },
    {
     "name": "stdout",
     "output_type": "stream",
     "text": [
      "Optimizer: Optimization complete!\n"
     ]
    }
   ],
   "source": [
    "min1 = irc_for.clone()\n",
    "\n",
    "psi4.core.clean_options()\n",
    "psi4.set_options({'basis': '6-31+G*',\n",
    "                  'opt_type': 'min'})\n",
    "\n",
    "psi4.optimize('HF', molecule = min1)\n",
    "psi4.core.clean()"
   ]
  },
  {
   "cell_type": "markdown",
   "id": "ac4ae571",
   "metadata": {},
   "source": [
    "A frequency calculation was performed on the optimized Min 1 to confirm that it is a true minimum (i.e., 0 imaginary frequencies) and to extract its ZPE."
   ]
  },
  {
   "cell_type": "code",
   "execution_count": 14,
   "id": "b173b680",
   "metadata": {},
   "outputs": [
    {
     "name": "stdout",
     "output_type": "stream",
     "text": [
      "Warning: used thermodynamics relations inappropriate for low-frequency modes: ['102.9348' '103.2134' '162.5964' '560.8012']\n"
     ]
    }
   ],
   "source": [
    "psi4.frequency('HF', molecule=min1)\n",
    "\n",
    "ZPE = extract_ZPE()\n",
    "ZPE_dict['Min 1'] = ZPE\n",
    "\n",
    "psi4.core.clean()"
   ]
  },
  {
   "cell_type": "markdown",
   "id": "037b70d6",
   "metadata": {},
   "source": [
    "The optimized Min 1 structure is visualized with `py3Dmol`. The resulting geometry shows that a C–Cl covalent bond is formed and the C–F bond is broken, consistent with CH<sub>3</sub>Cl + F⁻ as the product."
   ]
  },
  {
   "cell_type": "code",
   "execution_count": 15,
   "id": "4f3c39b2",
   "metadata": {},
   "outputs": [
    {
     "data": {
      "application/3dmoljs_load.v0": "<div id=\"3dmolviewer_17464264830329201\"  style=\"position: relative; width: 400px; height: 300px;\">\n        <p id=\"3dmolwarning_17464264830329201\" style=\"background-color:#ffcccc;color:black\">3Dmol.js failed to load for some reason.  Please check your browser console for error messages.<br></p>\n        </div>\n<script>\n\nvar loadScriptAsync = function(uri){\n  return new Promise((resolve, reject) => {\n    //this is to ignore the existence of requirejs amd\n    var savedexports, savedmodule;\n    if (typeof exports !== 'undefined') savedexports = exports;\n    else exports = {}\n    if (typeof module !== 'undefined') savedmodule = module;\n    else module = {}\n\n    var tag = document.createElement('script');\n    tag.src = uri;\n    tag.async = true;\n    tag.onload = () => {\n        exports = savedexports;\n        module = savedmodule;\n        resolve();\n    };\n  var firstScriptTag = document.getElementsByTagName('script')[0];\n  firstScriptTag.parentNode.insertBefore(tag, firstScriptTag);\n});\n};\n\nif(typeof $3Dmolpromise === 'undefined') {\n$3Dmolpromise = null;\n  $3Dmolpromise = loadScriptAsync('https://cdnjs.cloudflare.com/ajax/libs/3Dmol/2.4.2/3Dmol-min.js');\n}\n\nvar viewer_17464264830329201 = null;\nvar warn = document.getElementById(\"3dmolwarning_17464264830329201\");\nif(warn) {\n    warn.parentNode.removeChild(warn);\n}\n$3Dmolpromise.then(function() {\nviewer_17464264830329201 = $3Dmol.createViewer(document.getElementById(\"3dmolviewer_17464264830329201\"),{backgroundColor:\"white\"});\nviewer_17464264830329201.zoomTo();\n\tviewer_17464264830329201.addModel(\"6\\n\\n F    0.002563071175   -0.001619509219   -2.803679264150\\n C    0.002563071175   -0.001619509219   -0.218818096972\\n H    0.002563071175   -1.025349649433   -0.530069435343\\n H    0.889871526043    0.508720551986   -0.530422655291\\n H   -0.881993840273    0.510011819680   -0.535925940037\\nCL   -0.002572963163    0.001626340400    1.644324929361\\n\",\"xyz\");\n\tviewer_17464264830329201.setStyle({\"stick\": {}, \"sphere\": {\"scale\": 0.3, \"colorscheme\": \"cyanCarbon\"}});\n\tviewer_17464264830329201.setBackgroundColor(\"#9880d1\");\n\tviewer_17464264830329201.zoomTo();\nviewer_17464264830329201.render();\n});\n</script>",
      "text/html": [
       "<div id=\"3dmolviewer_17464264830329201\"  style=\"position: relative; width: 400px; height: 300px;\">\n",
       "        <p id=\"3dmolwarning_17464264830329201\" style=\"background-color:#ffcccc;color:black\">3Dmol.js failed to load for some reason.  Please check your browser console for error messages.<br></p>\n",
       "        </div>\n",
       "<script>\n",
       "\n",
       "var loadScriptAsync = function(uri){\n",
       "  return new Promise((resolve, reject) => {\n",
       "    //this is to ignore the existence of requirejs amd\n",
       "    var savedexports, savedmodule;\n",
       "    if (typeof exports !== 'undefined') savedexports = exports;\n",
       "    else exports = {}\n",
       "    if (typeof module !== 'undefined') savedmodule = module;\n",
       "    else module = {}\n",
       "\n",
       "    var tag = document.createElement('script');\n",
       "    tag.src = uri;\n",
       "    tag.async = true;\n",
       "    tag.onload = () => {\n",
       "        exports = savedexports;\n",
       "        module = savedmodule;\n",
       "        resolve();\n",
       "    };\n",
       "  var firstScriptTag = document.getElementsByTagName('script')[0];\n",
       "  firstScriptTag.parentNode.insertBefore(tag, firstScriptTag);\n",
       "});\n",
       "};\n",
       "\n",
       "if(typeof $3Dmolpromise === 'undefined') {\n",
       "$3Dmolpromise = null;\n",
       "  $3Dmolpromise = loadScriptAsync('https://cdnjs.cloudflare.com/ajax/libs/3Dmol/2.4.2/3Dmol-min.js');\n",
       "}\n",
       "\n",
       "var viewer_17464264830329201 = null;\n",
       "var warn = document.getElementById(\"3dmolwarning_17464264830329201\");\n",
       "if(warn) {\n",
       "    warn.parentNode.removeChild(warn);\n",
       "}\n",
       "$3Dmolpromise.then(function() {\n",
       "viewer_17464264830329201 = $3Dmol.createViewer(document.getElementById(\"3dmolviewer_17464264830329201\"),{backgroundColor:\"white\"});\n",
       "viewer_17464264830329201.zoomTo();\n",
       "\tviewer_17464264830329201.addModel(\"6\\n\\n F    0.002563071175   -0.001619509219   -2.803679264150\\n C    0.002563071175   -0.001619509219   -0.218818096972\\n H    0.002563071175   -1.025349649433   -0.530069435343\\n H    0.889871526043    0.508720551986   -0.530422655291\\n H   -0.881993840273    0.510011819680   -0.535925940037\\nCL   -0.002572963163    0.001626340400    1.644324929361\\n\",\"xyz\");\n",
       "\tviewer_17464264830329201.setStyle({\"stick\": {}, \"sphere\": {\"scale\": 0.3, \"colorscheme\": \"cyanCarbon\"}});\n",
       "\tviewer_17464264830329201.setBackgroundColor(\"#9880d1\");\n",
       "\tviewer_17464264830329201.zoomTo();\n",
       "viewer_17464264830329201.render();\n",
       "});\n",
       "</script>"
      ]
     },
     "metadata": {},
     "output_type": "display_data"
    }
   ],
   "source": [
    "min1_xyz = min1.save_string_xyz_file()\n",
    "\n",
    "view = py3Dmol.view(width=400, height=300)\n",
    "view.addModel(min1_xyz, 'xyz')\n",
    "view.setStyle({'stick': {}, 'sphere': {\"scale\": 0.3, 'colorscheme':'cyanCarbon'}})\n",
    "view.setBackgroundColor('#9880d1')\n",
    "view.zoomTo()\n",
    "view.show()"
   ]
  },
  {
   "cell_type": "markdown",
   "id": "dada297e",
   "metadata": {},
   "source": [
    "The same IRC procedure was applied in the backward direction. This yielded Min 2, which was then optimized and analyzed as done for Min 1."
   ]
  },
  {
   "cell_type": "code",
   "execution_count": 16,
   "id": "d0a40138",
   "metadata": {},
   "outputs": [
    {
     "name": "stdout",
     "output_type": "stream",
     "text": [
      "Warning: thermodynamics relations excluded imaginary frequencies: ['441.9501i']\n",
      "Warning: used thermodynamics relations inappropriate for low-frequency modes: ['231.9758' '231.9758' '269.2222']\n"
     ]
    },
    {
     "name": "stderr",
     "output_type": "stream",
     "text": [
      "\tDenominators (dg)(dq) or (dq)(dq) are very small.\n",
      "\tSkipping Hessian update for step 7.\n",
      "\tDenominators (dg)(dq) or (dq)(dq) are very small.\n",
      "\tSkipping Hessian update for step 9.\n",
      "\tDenominators (dg)(dq) or (dq)(dq) are very small.\n",
      "\tSkipping Hessian update for step 11.\n",
      "\tDenominators (dg)(dq) or (dq)(dq) are very small.\n",
      "\tSkipping Hessian update for step 13.\n",
      "\tDenominators (dg)(dq) or (dq)(dq) are very small.\n",
      "\tSkipping Hessian update for step 15.\n",
      "\tDenominators (dg)(dq) or (dq)(dq) are very small.\n",
      "\tSkipping Hessian update for step 17.\n",
      "\tDenominators (dg)(dq) or (dq)(dq) are very small.\n",
      "\tSkipping Hessian update for step 19.\n",
      "\tDenominators (dg)(dq) or (dq)(dq) are very small.\n",
      "\tSkipping Hessian update for step 21.\n",
      "\tDenominators (dg)(dq) or (dq)(dq) are very small.\n",
      "\tSkipping Hessian update for step 24.\n",
      "\tDenominators (dg)(dq) or (dq)(dq) are very small.\n",
      "\tSkipping Hessian update for step 28.\n",
      "\tDenominators (dg)(dq) or (dq)(dq) are very small.\n",
      "\tSkipping Hessian update for step 30.\n",
      "\tDenominators (dg)(dq) or (dq)(dq) are very small.\n",
      "\tSkipping Hessian update for step 32.\n"
     ]
    },
    {
     "name": "stdout",
     "output_type": "stream",
     "text": [
      "Optimizer: Optimization complete!\n"
     ]
    }
   ],
   "source": [
    "irc_back = ts.clone()\n",
    "\n",
    "psi4.core.clean_options()\n",
    "psi4.set_options({'basis': '6-31+G*',\n",
    "                  'opt_type': 'irc',\n",
    "                  'irc_direction': 'backward',\n",
    "                  'irc_step_size': 0.20,\n",
    "                  'full_hess_every': 0,\n",
    "                  'geom_maxiter': 100,\n",
    "                  'opt_coordinates': 'cartesian'})\n",
    "\n",
    "E_back = psi4.optimize('HF', molecule = irc_back)\n",
    "psi4.core.clean()"
   ]
  },
  {
   "cell_type": "code",
   "execution_count": 17,
   "id": "86f8a895",
   "metadata": {},
   "outputs": [
    {
     "name": "stderr",
     "output_type": "stream",
     "text": [
      "\tPrevious geometry is closer to target in internal coordinates, so using that one.\n",
      "\n",
      "\tBest geometry has RMS(Delta(q)) = 1.74e-05\n",
      "\n",
      "\tUnable to completely converge to displaced geometry.\n",
      "\tRMS(dx):  2.719e-06 \tMax(dx):  5.476e-06 \tRMS(dq):  3.054e-04\n",
      "\tPrevious geometry is closer to target in internal coordinates, so using that one.\n",
      "\n",
      "\tBest geometry has RMS(Delta(q)) = 3.05e-04\n",
      "\n",
      "\tChange in internal coordinate of 6.11e-01 exceeds limit of 5.00e-01.\n",
      "\tSkipping Hessian update for step 1.\n",
      "\tChange in internal coordinate of 7.40e-01 exceeds limit of 5.00e-01.\n",
      "\tSkipping Hessian update for step 1.\n",
      "\tChange in internal coordinate of 8.14e-01 exceeds limit of 5.00e-01.\n",
      "\tSkipping Hessian update for step 1.\n",
      "\tPrevious geometry is closer to target in internal coordinates, so using that one.\n",
      "\n",
      "\tBest geometry has RMS(Delta(q)) = 1.00e-06\n",
      "\n",
      "\tEnergy ratio indicates iffy step.\n",
      "\tIntrafrag trust radius decreased to   0.25.\n",
      "\tPrevious geometry is closer to target in internal coordinates, so using that one.\n",
      "\n",
      "\tBest geometry has RMS(Delta(q)) = 8.23e-10\n",
      "\n"
     ]
    },
    {
     "name": "stdout",
     "output_type": "stream",
     "text": [
      "Optimizer: Optimization complete!\n"
     ]
    }
   ],
   "source": [
    "min2 = irc_back.clone()\n",
    "\n",
    "psi4.core.clean_options()\n",
    "psi4.set_options({'basis': '6-31+G*',\n",
    "                  'opt_type': 'min'})\n",
    "\n",
    "psi4.optimize('HF', molecule = min2)\n",
    "psi4.core.clean()"
   ]
  },
  {
   "cell_type": "code",
   "execution_count": 18,
   "id": "389374f2",
   "metadata": {},
   "outputs": [
    {
     "name": "stdout",
     "output_type": "stream",
     "text": [
      "Warning: used thermodynamics relations inappropriate for low-frequency modes: ['84.8987' '85.0992' '88.2582']\n"
     ]
    }
   ],
   "source": [
    "psi4.frequency('HF', molecule=min2)\n",
    "\n",
    "ZPE = extract_ZPE()\n",
    "ZPE_dict['Min 2'] = ZPE\n",
    "\n",
    "psi4.core.clean()"
   ]
  },
  {
   "cell_type": "markdown",
   "id": "bf2c5035",
   "metadata": {},
   "source": [
    "The resulting geometry of Min 2 shows that a C–F covalent bond is formed and the C–Cl bond is cleaved,\n",
    "which is consistent with the formation of CH<sub>3</sub>F + Cl⁻."
   ]
  },
  {
   "cell_type": "code",
   "execution_count": 19,
   "id": "cc1933bc",
   "metadata": {},
   "outputs": [
    {
     "data": {
      "application/3dmoljs_load.v0": "<div id=\"3dmolviewer_17464267405051067\"  style=\"position: relative; width: 400px; height: 300px;\">\n        <p id=\"3dmolwarning_17464267405051067\" style=\"background-color:#ffcccc;color:black\">3Dmol.js failed to load for some reason.  Please check your browser console for error messages.<br></p>\n        </div>\n<script>\n\nvar loadScriptAsync = function(uri){\n  return new Promise((resolve, reject) => {\n    //this is to ignore the existence of requirejs amd\n    var savedexports, savedmodule;\n    if (typeof exports !== 'undefined') savedexports = exports;\n    else exports = {}\n    if (typeof module !== 'undefined') savedmodule = module;\n    else module = {}\n\n    var tag = document.createElement('script');\n    tag.src = uri;\n    tag.async = true;\n    tag.onload = () => {\n        exports = savedexports;\n        module = savedmodule;\n        resolve();\n    };\n  var firstScriptTag = document.getElementsByTagName('script')[0];\n  firstScriptTag.parentNode.insertBefore(tag, firstScriptTag);\n});\n};\n\nif(typeof $3Dmolpromise === 'undefined') {\n$3Dmolpromise = null;\n  $3Dmolpromise = loadScriptAsync('https://cdnjs.cloudflare.com/ajax/libs/3Dmol/2.4.2/3Dmol-min.js');\n}\n\nvar viewer_17464267405051067 = null;\nvar warn = document.getElementById(\"3dmolwarning_17464267405051067\");\nif(warn) {\n    warn.parentNode.removeChild(warn);\n}\n$3Dmolpromise.then(function() {\nviewer_17464267405051067 = $3Dmol.createViewer(document.getElementById(\"3dmolviewer_17464267405051067\"),{backgroundColor:\"white\"});\nviewer_17464267405051067.zoomTo();\n\tviewer_17464267405051067.addModel(\"6\\n\\n F    0.001807268133    0.002639823292   -2.763548856999\\n C    0.001807268133    0.002639823292   -1.365268217439\\n H    0.001807268133   -1.019008462679   -1.025934809875\\n H    0.886507611228    0.513412742144   -1.025775780886\\n H   -0.882950638667    0.513414254524   -1.025854868939\\nCL   -0.001756667363   -0.002565426489    2.058628634965\\n\",\"xyz\");\n\tviewer_17464267405051067.setStyle({\"stick\": {}, \"sphere\": {\"scale\": 0.3, \"colorscheme\": \"cyanCarbon\"}});\n\tviewer_17464267405051067.setBackgroundColor(\"#9880d1\");\n\tviewer_17464267405051067.zoomTo();\nviewer_17464267405051067.render();\n});\n</script>",
      "text/html": [
       "<div id=\"3dmolviewer_17464267405051067\"  style=\"position: relative; width: 400px; height: 300px;\">\n",
       "        <p id=\"3dmolwarning_17464267405051067\" style=\"background-color:#ffcccc;color:black\">3Dmol.js failed to load for some reason.  Please check your browser console for error messages.<br></p>\n",
       "        </div>\n",
       "<script>\n",
       "\n",
       "var loadScriptAsync = function(uri){\n",
       "  return new Promise((resolve, reject) => {\n",
       "    //this is to ignore the existence of requirejs amd\n",
       "    var savedexports, savedmodule;\n",
       "    if (typeof exports !== 'undefined') savedexports = exports;\n",
       "    else exports = {}\n",
       "    if (typeof module !== 'undefined') savedmodule = module;\n",
       "    else module = {}\n",
       "\n",
       "    var tag = document.createElement('script');\n",
       "    tag.src = uri;\n",
       "    tag.async = true;\n",
       "    tag.onload = () => {\n",
       "        exports = savedexports;\n",
       "        module = savedmodule;\n",
       "        resolve();\n",
       "    };\n",
       "  var firstScriptTag = document.getElementsByTagName('script')[0];\n",
       "  firstScriptTag.parentNode.insertBefore(tag, firstScriptTag);\n",
       "});\n",
       "};\n",
       "\n",
       "if(typeof $3Dmolpromise === 'undefined') {\n",
       "$3Dmolpromise = null;\n",
       "  $3Dmolpromise = loadScriptAsync('https://cdnjs.cloudflare.com/ajax/libs/3Dmol/2.4.2/3Dmol-min.js');\n",
       "}\n",
       "\n",
       "var viewer_17464267405051067 = null;\n",
       "var warn = document.getElementById(\"3dmolwarning_17464267405051067\");\n",
       "if(warn) {\n",
       "    warn.parentNode.removeChild(warn);\n",
       "}\n",
       "$3Dmolpromise.then(function() {\n",
       "viewer_17464267405051067 = $3Dmol.createViewer(document.getElementById(\"3dmolviewer_17464267405051067\"),{backgroundColor:\"white\"});\n",
       "viewer_17464267405051067.zoomTo();\n",
       "\tviewer_17464267405051067.addModel(\"6\\n\\n F    0.001807268133    0.002639823292   -2.763548856999\\n C    0.001807268133    0.002639823292   -1.365268217439\\n H    0.001807268133   -1.019008462679   -1.025934809875\\n H    0.886507611228    0.513412742144   -1.025775780886\\n H   -0.882950638667    0.513414254524   -1.025854868939\\nCL   -0.001756667363   -0.002565426489    2.058628634965\\n\",\"xyz\");\n",
       "\tviewer_17464267405051067.setStyle({\"stick\": {}, \"sphere\": {\"scale\": 0.3, \"colorscheme\": \"cyanCarbon\"}});\n",
       "\tviewer_17464267405051067.setBackgroundColor(\"#9880d1\");\n",
       "\tviewer_17464267405051067.zoomTo();\n",
       "viewer_17464267405051067.render();\n",
       "});\n",
       "</script>"
      ]
     },
     "metadata": {},
     "output_type": "display_data"
    }
   ],
   "source": [
    "min2_xyz = min2.save_string_xyz_file()\n",
    "\n",
    "view = py3Dmol.view(width=400, height=300)\n",
    "view.addModel(min2_xyz, 'xyz')\n",
    "view.setStyle({'stick': {}, 'sphere': {\"scale\": 0.3, 'colorscheme':'cyanCarbon'}})\n",
    "view.setBackgroundColor('#9880d1')\n",
    "view.zoomTo()\n",
    "view.show()"
   ]
  },
  {
   "cell_type": "markdown",
   "id": "19e26169",
   "metadata": {},
   "source": [
    "The single point energies were calculated at the MP2/6-31++G(d,p) level for the TS and the IRC endpoints (Min 1 and Min 2). Each energy was then corrected using its scaled ZPE."
   ]
  },
  {
   "cell_type": "code",
   "execution_count": 20,
   "id": "4ace27ff",
   "metadata": {},
   "outputs": [
    {
     "name": "stdout",
     "output_type": "stream",
     "text": [
      "E_e(Min 1) = -599.04459 hartrees\n",
      "ZPE(Min 1) = 0.04102 hartrees (unscaled)\n",
      "E^0(Min 1) = -599.00722 hartrees\n",
      "E_e(TS) = -599.03544 hartrees\n",
      "ZPE(TS) = 0.04077 hartrees (unscaled)\n",
      "E^0(TS) = -598.9983 hartrees\n",
      "E_e(Min 2) = -599.07573 hartrees\n",
      "ZPE(Min 2) = 0.0428 hartrees (unscaled)\n",
      "E^0(Min 2) = -599.03674 hartrees\n"
     ]
    }
   ],
   "source": [
    "irc = {'Min 1': irc_for, 'TS': ts, 'Min 2': irc_back}\n",
    "\n",
    "for key, val in irc.items():\n",
    "    # Energy calculation at MP2 level\n",
    "    Ee = psi4.energy('MP2/6-31++G**', molecule = val)\n",
    "    Ee_dict[key] = Ee\n",
    "\n",
    "    # Calculate zero-point corrected Energy\n",
    "    E0 = Ee + ZPE_dict[key] * scale_factor\n",
    "    E0_dict[key] = E0\n",
    "\n",
    "    psi4.core.clean()\n",
    "\n",
    "    print(f'E_e({key}) = {round(Ee, 5)} hartrees')\n",
    "    print(f'ZPE({key}) = {round(ZPE_dict[key], 5)} hartrees (unscaled)')\n",
    "    print(f'E^0({key}) = {round(E0, 5)} hartrees')"
   ]
  },
  {
   "cell_type": "markdown",
   "id": "4191c3f8",
   "metadata": {},
   "source": [
    "The following table summarizes the ZPE-corrected total energies ($E^0$) of each key structure along the reaction pathway:"
   ]
  },
  {
   "cell_type": "code",
   "execution_count": 21,
   "id": "d4ea49a4",
   "metadata": {},
   "outputs": [
    {
     "data": {
      "text/html": [
       "<div>\n",
       "<style scoped>\n",
       "    .dataframe tbody tr th:only-of-type {\n",
       "        vertical-align: middle;\n",
       "    }\n",
       "\n",
       "    .dataframe tbody tr th {\n",
       "        vertical-align: top;\n",
       "    }\n",
       "\n",
       "    .dataframe thead th {\n",
       "        text-align: right;\n",
       "    }\n",
       "</style>\n",
       "<table border=\"1\" class=\"dataframe\">\n",
       "  <thead>\n",
       "    <tr style=\"text-align: right;\">\n",
       "      <th></th>\n",
       "      <th>System</th>\n",
       "      <th>E^0 (Eh)</th>\n",
       "    </tr>\n",
       "  </thead>\n",
       "  <tbody>\n",
       "    <tr>\n",
       "      <th>0</th>\n",
       "      <td>Reactants</td>\n",
       "      <td>-598.984810</td>\n",
       "    </tr>\n",
       "    <tr>\n",
       "      <th>1</th>\n",
       "      <td>Min 1 (React &lt;-&gt; TS)</td>\n",
       "      <td>-599.007217</td>\n",
       "    </tr>\n",
       "    <tr>\n",
       "      <th>2</th>\n",
       "      <td>Transition State</td>\n",
       "      <td>-598.998302</td>\n",
       "    </tr>\n",
       "    <tr>\n",
       "      <th>3</th>\n",
       "      <td>Min 2 (TS &lt;-&gt; Prod)</td>\n",
       "      <td>-599.036745</td>\n",
       "    </tr>\n",
       "    <tr>\n",
       "      <th>4</th>\n",
       "      <td>Products</td>\n",
       "      <td>-599.027221</td>\n",
       "    </tr>\n",
       "  </tbody>\n",
       "</table>\n",
       "</div>"
      ],
      "text/plain": [
       "                 System    E^0 (Eh)\n",
       "0             Reactants -598.984810\n",
       "1  Min 1 (React <-> TS) -599.007217\n",
       "2      Transition State -598.998302\n",
       "3   Min 2 (TS <-> Prod) -599.036745\n",
       "4              Products -599.027221"
      ]
     },
     "execution_count": 21,
     "metadata": {},
     "output_type": "execute_result"
    }
   ],
   "source": [
    "system = ['Reactants', 'Min 1 (React <-> TS)', 'Transition State', 'Min 2 (TS <-> Prod)', 'Products']\n",
    "\n",
    "E0_react = E0_dict['CH3Cl'] + Ee_dict['F-']\n",
    "E0_prod = E0_dict['CH3F'] + Ee_dict['Cl-']\n",
    "E0_reaction = [E0_react, E0_dict['Min 1'], E0_dict['TS'], E0_dict['Min 2'], E0_prod]\n",
    "\n",
    "dict = {'System': system, 'E^0 (Eh)': E0_reaction}\n",
    "df = pd.DataFrame(dict)\n",
    "\n",
    "df"
   ]
  },
  {
   "cell_type": "markdown",
   "id": "c3909c84",
   "metadata": {},
   "source": [
    "The potential energy surface (PES) for the reaction is schematically illustrated in a diagram."
   ]
  },
  {
   "cell_type": "code",
   "execution_count": 22,
   "id": "5b511a7b",
   "metadata": {},
   "outputs": [
    {
     "data": {
      "image/png": "[encoded data removed]",
      "text/plain": [
       "<Figure size 600x400 with 1 Axes>"
      ]
     },
     "metadata": {},
     "output_type": "display_data"
    }
   ],
   "source": [
    "from scipy.interpolate import Rbf\n",
    "from adjustText import adjust_text\n",
    "\n",
    "coord = [i for i in range(1, 6)]\n",
    "conv = psi4.constants.hartree2kcalmol\n",
    "E0_relative = [(i - np.min(E0_reaction))*conv for i in E0_reaction]\n",
    "\n",
    "rbf = Rbf(coord, E0_relative, function = 'thin_plate', smooth = 0.001)\n",
    "x_new = np.linspace(np.min(coord), np.max(coord),500)\n",
    "y_smooth = rbf(x_new)\n",
    "\n",
    "plt.figure(figsize=(6, 4))\n",
    "plt.plot (x_new, y_smooth)\n",
    "plt.scatter (coord, E0_relative)\n",
    "\n",
    "texts = [plt.text(coord[i], E0_relative[i], system[i], ha='center', va='center') for i in range(len(coord))]\n",
    "adjust_text(texts)\n",
    "\n",
    "plt.xlabel('Reaction Coordinate', fontsize=10)\n",
    "plt.ylabel('Relative Energy [kcal/mol]', fontsize=10)\n",
    "plt.tick_params(axis='x', bottom=False, labelbottom=False)\n",
    "\n",
    "plt.show()"
   ]
  },
  {
   "cell_type": "markdown",
   "id": "7a31937b",
   "metadata": {},
   "source": [
    "This energetic profile confirms:\n",
    "- The reaction is exothermic overall.\n",
    "- The TS lies between two distinct minima, validating it as a true transition state.\n",
    "- Min 1 and Min 2 are reasonable intermediates corresponding to entrance and exit channels of the TS."
   ]
  },
  {
   "cell_type": "markdown",
   "id": "e61fba89",
   "metadata": {},
   "source": [
    "The following table summarizes the geometry parameters (bond lengths and angles) of all the discussed systems:"
   ]
  },
  {
   "cell_type": "code",
   "execution_count": 24,
   "id": "ba1d6088",
   "metadata": {},
   "outputs": [
    {
     "data": {
      "text/html": [
       "<div>\n",
       "<style scoped>\n",
       "    .dataframe tbody tr th:only-of-type {\n",
       "        vertical-align: middle;\n",
       "    }\n",
       "\n",
       "    .dataframe tbody tr th {\n",
       "        vertical-align: top;\n",
       "    }\n",
       "\n",
       "    .dataframe thead th {\n",
       "        text-align: right;\n",
       "    }\n",
       "</style>\n",
       "<table border=\"1\" class=\"dataframe\">\n",
       "  <thead>\n",
       "    <tr style=\"text-align: right;\">\n",
       "      <th></th>\n",
       "      <th>System</th>\n",
       "      <th>C-Cl [Å]</th>\n",
       "      <th>C-F [Å]</th>\n",
       "      <th>C-H [Å]</th>\n",
       "      <th>Cl-C-H [°]</th>\n",
       "      <th>F-C-H [°]</th>\n",
       "    </tr>\n",
       "  </thead>\n",
       "  <tbody>\n",
       "    <tr>\n",
       "      <th>0</th>\n",
       "      <td>CH3Cl</td>\n",
       "      <td>1.786</td>\n",
       "      <td>-</td>\n",
       "      <td>1.078</td>\n",
       "      <td>108.4</td>\n",
       "      <td>-</td>\n",
       "    </tr>\n",
       "    <tr>\n",
       "      <th>1</th>\n",
       "      <td>CH3Cl--F (Min 1)</td>\n",
       "      <td>1.863</td>\n",
       "      <td>2.585</td>\n",
       "      <td>1.070</td>\n",
       "      <td>106.9</td>\n",
       "      <td>73.1</td>\n",
       "    </tr>\n",
       "    <tr>\n",
       "      <th>2</th>\n",
       "      <td>[Cl--CH3--F]- (TS)</td>\n",
       "      <td>2.135</td>\n",
       "      <td>2.127</td>\n",
       "      <td>1.062</td>\n",
       "      <td>97.2</td>\n",
       "      <td>82.8</td>\n",
       "    </tr>\n",
       "    <tr>\n",
       "      <th>3</th>\n",
       "      <td>Cl--CH3F (Min 2)</td>\n",
       "      <td>3.424</td>\n",
       "      <td>1.398</td>\n",
       "      <td>1.077</td>\n",
       "      <td>71.6</td>\n",
       "      <td>108.4</td>\n",
       "    </tr>\n",
       "    <tr>\n",
       "      <th>4</th>\n",
       "      <td>CH3F</td>\n",
       "      <td>-</td>\n",
       "      <td>1.371</td>\n",
       "      <td>1.081</td>\n",
       "      <td>-</td>\n",
       "      <td>108.5</td>\n",
       "    </tr>\n",
       "  </tbody>\n",
       "</table>\n",
       "</div>"
      ],
      "text/plain": [
       "               System C-Cl [Å] C-F [Å]  C-H [Å] Cl-C-H [°] F-C-H [°]\n",
       "0               CH3Cl    1.786       -    1.078      108.4         -\n",
       "1    CH3Cl--F (Min 1)    1.863   2.585    1.070      106.9      73.1\n",
       "2  [Cl--CH3--F]- (TS)    2.135   2.127    1.062       97.2      82.8\n",
       "3    Cl--CH3F (Min 2)    3.424   1.398    1.077       71.6     108.4\n",
       "4                CH3F        -   1.371    1.081          -     108.5"
      ]
     },
     "execution_count": 24,
     "metadata": {},
     "output_type": "execute_result"
    }
   ],
   "source": [
    "header = ['System', 'C-Cl [Å]', 'C-F [Å]', 'C-H [Å]', 'Cl-C-H [°]', 'F-C-H [°]']\n",
    "geometry = [['CH3Cl', 1.786, '-', 1.078, 108.4, '-'],\n",
    "            ['CH3Cl--F (Min 1)', 1.863, 2.585, 1.070, 106.9, 73.1],\n",
    "            ['[Cl--CH3--F]- (TS)', 2.135, 2.127, 1.062, 97.2, 82.8],\n",
    "            ['Cl--CH3F (Min 2)', 3.424, 1.398, 1.077, 71.6, 108.4],\n",
    "            ['CH3F', '-', 1.371, 1.081, '-', 108.5]]\n",
    "\n",
    "df = pd.DataFrame(geometry, columns=header)\n",
    "df"
   ]
  },
  {
   "cell_type": "markdown",
   "id": "4491c716",
   "metadata": {},
   "source": [
    "### References\n",
    "\n",
    "[1] Frisch, A.; Foresman, J. B. Exploring Chemistry with Electronic Structure Methods, 3rd ed.; Gaussian, Inc.: Wallingford, CT, 2015.\n",
    "\n",
    "[2] Marenich, A. V.; Cramer, C. J.; Truhlar, D. G. Intrinsic Reaction Coordinate Approach and Potential Energy Surface Visualization. Proceedings 2019, 41, 81. https://doi.org/10.3390/ecsoc-23-06514.\n",
    "\n",
    "[3] Chandrasekhar, J.; Smith, S. F.; Jorgensen, W. L. SN2 Reaction Profiles in the Gas Phase and Aqueous Solution. J. Am. Chem. Soc. 1989, 111, 1575–1579."
   ]
  }
 ],
 "metadata": {
  "kernelspec": {
   "display_name": "p4env",
   "language": "python",
   "name": "python3"
  },
  "language_info": {
   "codemirror_mode": {
    "name": "ipython",
    "version": 3
   },
   "file_extension": ".py",
   "mimetype": "text/x-python",
   "name": "python",
   "nbconvert_exporter": "python",
   "pygments_lexer": "ipython3",
   "version": "3.10.16"
  }
 },
 "nbformat": 4,
 "nbformat_minor": 5
}
