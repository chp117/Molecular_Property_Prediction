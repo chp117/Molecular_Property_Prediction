{
 "cells": [
  {
   "cell_type": "markdown",
   "metadata": {},
   "source": [
    "## Molecular Property Prediction"
   ]
  },
  {
   "cell_type": "markdown",
   "metadata": {},
   "source": [
    "Molecular property prediction plays a crucial role in drug discovery by enabling the estimation of key characteristics, such as solubility, permeability, and bioavailability, without extensive experimental efforts. These predictions help prioritize compounds for synthesis and testing, saving time and resources.\n",
    "\n",
    "This project utilizes the following tools:\n",
    "- **RDKit**: A cheminformatics library for handling chemical information and generating molecular descriptors.\n",
    "- **Mordred**: A Python library for calculating thousands of molecular descriptors from chemical structures.\n",
    "\n",
    "#### Objectives of this Project:\n",
    "- Predict aqueous solubility (logS) values of small drug-like molecules.\n",
    "- Build a regression model using experimental data and molecular descriptors.\n",
    "- Visualize relationships between descriptors and solubility values."
   ]
  },
  {
   "cell_type": "code",
   "execution_count": 1,
   "metadata": {},
   "outputs": [
    {
     "name": "stdout",
     "output_type": "stream",
     "text": [
      "Requirement already satisfied: requests in c:\\users\\chp11\\appdata\\local\\programs\\python\\python310\\lib\\site-packages (2.32.3)\n",
      "Requirement already satisfied: charset-normalizer<4,>=2 in c:\\users\\chp11\\appdata\\local\\programs\\python\\python310\\lib\\site-packages (from requests) (3.4.0)\n",
      "Requirement already satisfied: idna<4,>=2.5 in c:\\users\\chp11\\appdata\\local\\programs\\python\\python310\\lib\\site-packages (from requests) (3.10)\n",
      "Requirement already satisfied: urllib3<3,>=1.21.1 in c:\\users\\chp11\\appdata\\local\\programs\\python\\python310\\lib\\site-packages (from requests) (2.2.3)\n",
      "Requirement already satisfied: certifi>=2017.4.17 in c:\\users\\chp11\\appdata\\local\\programs\\python\\python310\\lib\\site-packages (from requests) (2024.8.30)\n",
      "Note: you may need to restart the kernel to use updated packages.\n",
      "Requirement already satisfied: pandas in c:\\users\\chp11\\appdata\\local\\programs\\python\\python310\\lib\\site-packages (2.2.3)\n",
      "Requirement already satisfied: numpy>=1.22.4 in c:\\users\\chp11\\appdata\\local\\programs\\python\\python310\\lib\\site-packages (from pandas) (1.26.3)\n",
      "Requirement already satisfied: python-dateutil>=2.8.2 in c:\\users\\chp11\\appdata\\roaming\\python\\python310\\site-packages (from pandas) (2.8.2)\n",
      "Requirement already satisfied: pytz>=2020.1 in c:\\users\\chp11\\appdata\\local\\programs\\python\\python310\\lib\\site-packages (from pandas) (2024.2)\n",
      "Requirement already satisfied: tzdata>=2022.7 in c:\\users\\chp11\\appdata\\local\\programs\\python\\python310\\lib\\site-packages (from pandas) (2024.2)\n",
      "Requirement already satisfied: six>=1.5 in c:\\users\\chp11\\appdata\\roaming\\python\\python310\\site-packages (from python-dateutil>=2.8.2->pandas) (1.16.0)\n",
      "Note: you may need to restart the kernel to use updated packages.\n",
      "Requirement already satisfied: mordred in c:\\users\\chp11\\appdata\\local\\programs\\python\\python310\\lib\\site-packages (1.2.0)\n",
      "Requirement already satisfied: six==1.* in c:\\users\\chp11\\appdata\\roaming\\python\\python310\\site-packages (from mordred) (1.16.0)\n",
      "Requirement already satisfied: numpy==1.* in c:\\users\\chp11\\appdata\\local\\programs\\python\\python310\\lib\\site-packages (from mordred) (1.26.3)\n",
      "Requirement already satisfied: networkx==2.* in c:\\users\\chp11\\appdata\\local\\programs\\python\\python310\\lib\\site-packages (from mordred) (2.8.8)\n",
      "Note: you may need to restart the kernel to use updated packages.\n",
      "Requirement already satisfied: statsmodels in c:\\users\\chp11\\appdata\\local\\programs\\python\\python310\\lib\\site-packages (0.14.4)Note: you may need to restart the kernel to use updated packages.\n",
      "\n",
      "Requirement already satisfied: numpy<3,>=1.22.3 in c:\\users\\chp11\\appdata\\local\\programs\\python\\python310\\lib\\site-packages (from statsmodels) (1.26.3)\n",
      "Requirement already satisfied: scipy!=1.9.2,>=1.8 in c:\\users\\chp11\\appdata\\local\\programs\\python\\python310\\lib\\site-packages (from statsmodels) (1.14.0)\n",
      "Requirement already satisfied: pandas!=2.1.0,>=1.4 in c:\\users\\chp11\\appdata\\local\\programs\\python\\python310\\lib\\site-packages (from statsmodels) (2.2.3)\n",
      "Requirement already satisfied: patsy>=0.5.6 in c:\\users\\chp11\\appdata\\local\\programs\\python\\python310\\lib\\site-packages (from statsmodels) (1.0.1)\n",
      "Requirement already satisfied: packaging>=21.3 in c:\\users\\chp11\\appdata\\roaming\\python\\python310\\site-packages (from statsmodels) (23.2)\n",
      "Requirement already satisfied: python-dateutil>=2.8.2 in c:\\users\\chp11\\appdata\\roaming\\python\\python310\\site-packages (from pandas!=2.1.0,>=1.4->statsmodels) (2.8.2)\n",
      "Requirement already satisfied: pytz>=2020.1 in c:\\users\\chp11\\appdata\\local\\programs\\python\\python310\\lib\\site-packages (from pandas!=2.1.0,>=1.4->statsmodels) (2024.2)\n",
      "Requirement already satisfied: tzdata>=2022.7 in c:\\users\\chp11\\appdata\\local\\programs\\python\\python310\\lib\\site-packages (from pandas!=2.1.0,>=1.4->statsmodels) (2024.2)\n",
      "Requirement already satisfied: six>=1.5 in c:\\users\\chp11\\appdata\\roaming\\python\\python310\\site-packages (from python-dateutil>=2.8.2->pandas!=2.1.0,>=1.4->statsmodels) (1.16.0)\n"
     ]
    }
   ],
   "source": [
    "%pip install requests\n",
    "%pip install pandas\n",
    "%pip install mordred\n",
    "%pip install statsmodels"
   ]
  },
  {
   "cell_type": "markdown",
   "metadata": {},
   "source": [
    "### Aqueous solubility (logS)\n",
    "\n",
    "Aqueous solubility (logS) is a critical molecular property in drug discovery as it directly impacts a compound's absorption, distribution, and overall bioavailability. Poor solubility is a major reason why many promising drug candidates fail during development.\n",
    "\n",
    "The experimental logS values for this project were sourced from:  \n",
    "[**The AAPS Journal 2005; 7 (1) Article 10**](https://link.springer.com/article/10.1208/aapsj070110)\n",
    "  \n",
    "This dataset provides high-quality solubility data for drug-like organic compounds under standardized conditions.\n"
   ]
  },
  {
   "cell_type": "code",
   "execution_count": 2,
   "metadata": {},
   "outputs": [
    {
     "data": {
      "text/html": [
       "<div>\n",
       "<style scoped>\n",
       "    .dataframe tbody tr th:only-of-type {\n",
       "        vertical-align: middle;\n",
       "    }\n",
       "\n",
       "    .dataframe tbody tr th {\n",
       "        vertical-align: top;\n",
       "    }\n",
       "\n",
       "    .dataframe thead th {\n",
       "        text-align: right;\n",
       "    }\n",
       "</style>\n",
       "<table border=\"1\" class=\"dataframe\">\n",
       "  <thead>\n",
       "    <tr style=\"text-align: right;\">\n",
       "      <th></th>\n",
       "      <th>Name</th>\n",
       "      <th>logS</th>\n",
       "    </tr>\n",
       "  </thead>\n",
       "  <tbody>\n",
       "    <tr>\n",
       "      <th>0</th>\n",
       "      <td>1,2,3-Trichlorobenzene</td>\n",
       "      <td>–3.76</td>\n",
       "    </tr>\n",
       "    <tr>\n",
       "      <th>1</th>\n",
       "      <td>1,3,5-Trichlorobenzene</td>\n",
       "      <td>–4.44</td>\n",
       "    </tr>\n",
       "    <tr>\n",
       "      <th>2</th>\n",
       "      <td>1,4-Dibromobenzene</td>\n",
       "      <td>–4.07</td>\n",
       "    </tr>\n",
       "    <tr>\n",
       "      <th>3</th>\n",
       "      <td>17Alpha-ethynylestradiol</td>\n",
       "      <td>–4.484</td>\n",
       "    </tr>\n",
       "    <tr>\n",
       "      <th>4</th>\n",
       "      <td>1-Butyltheobromine</td>\n",
       "      <td>–1.625</td>\n",
       "    </tr>\n",
       "  </tbody>\n",
       "</table>\n",
       "</div>"
      ],
      "text/plain": [
       "                       Name    logS\n",
       "0    1,2,3-Trichlorobenzene   –3.76\n",
       "1    1,3,5-Trichlorobenzene   –4.44\n",
       "2        1,4-Dibromobenzene   –4.07\n",
       "3  17Alpha-ethynylestradiol  –4.484\n",
       "4        1-Butyltheobromine  –1.625"
      ]
     },
     "execution_count": 2,
     "metadata": {},
     "output_type": "execute_result"
    }
   ],
   "source": [
    "import pandas as pd        \n",
    "df = pd.read_csv('logS_dataset.csv', sep=';') \n",
    "df.head(5)  "
   ]
  },
  {
   "cell_type": "code",
   "execution_count": 3,
   "metadata": {},
   "outputs": [],
   "source": [
    "import requests\n",
    "import time"
   ]
  },
  {
   "cell_type": "markdown",
   "metadata": {},
   "source": [
    "### Retrieving Canonical SMILES from PubChem\n",
    "\n",
    "Canonical SMILES for the compounds in the dataset were retrieved using the PubChem PUG REST API. According to PubChem's usage policies:\n",
    "- The request rate must be limited to **five requests per second** or fewer to avoid being temporarily blocked from accessing PubChem (or NCBI) resources.\n",
    "- Each request has a standard time limit of **30 seconds**, after which a time-out error will occur if the request is not completed.\n",
    "\n",
    "To comply with these policies, requests were processed in a controlled manner with a delay between queries."
   ]
  },
  {
   "cell_type": "code",
   "execution_count": 4,
   "metadata": {},
   "outputs": [],
   "source": [
    "prolog = 'https://pubchem.ncbi.nlm.nih.gov/rest/pug'\n",
    "name_list = df['Name'].values.tolist()\n",
    "\n",
    "smiles = []\n",
    "\n",
    "def get_smiles(start, end):\n",
    "    \n",
    "    smiles_batch = []\n",
    "    idx = 0\n",
    "    for name in name_list[start:end]:\n",
    "\n",
    "        url = prolog + '/compound/name/' + name + '/property/CanonicalSMILES/txt'\n",
    "        res = requests.get(url)\n",
    "\n",
    "        if res.status_code == 200:\n",
    "            smiles_batch += list(set(res.text.split())) # Use a set to remove duplicates (w/ different CIDs)\n",
    "        else:\n",
    "            smiles_batch.append('None')\n",
    "        \n",
    "        if idx % 5 == 4: # to limit the request rate to five requests per second\n",
    "            time.sleep(0.2)\n",
    "        idx += 1\n",
    "    \n",
    "    return smiles_batch"
   ]
  },
  {
   "cell_type": "code",
   "execution_count": 5,
   "metadata": {},
   "outputs": [
    {
     "name": "stdout",
     "output_type": "stream",
     "text": [
      "Compounds 1 - 50 Done!\n",
      "Compounds 51 - 100 Done!\n",
      "Compounds 101 - 150 Done!\n",
      "Compounds 151 - 200 Done!\n",
      "Compounds 201 - 250 Done!\n",
      "Compounds 251 - 300 Done!\n",
      "Compounds 301 - 322 Done!\n",
      "322\n"
     ]
    }
   ],
   "source": [
    "num_batch = len(name_list) // 50 # Batch size of 50 compounds\n",
    "\n",
    "for i in range(num_batch):\n",
    "    start = i*50\n",
    "    end = (i+1)*50\n",
    "    smiles += get_smiles(start, end)\n",
    "    print(f'Compounds {start+1} - {end} Done!')\n",
    "    time.sleep(1)\n",
    "\n",
    "last_batch_start = 50*num_batch\n",
    "last_batch_end = 50*num_batch + len(name_list)%50\n",
    "smiles += get_smiles(last_batch_start, last_batch_end)\n",
    "print(f'Compounds {last_batch_start+1} - {last_batch_end} Done!')\n",
    "\n",
    "print(len(smiles))"
   ]
  },
  {
   "cell_type": "markdown",
   "metadata": {},
   "source": [
    "The retrieved Canonical SMILES were added as a new column to the dataset. This ensures that molecular structures are readily accessible for further descriptor calculations and analysis."
   ]
  },
  {
   "cell_type": "code",
   "execution_count": 6,
   "metadata": {},
   "outputs": [
    {
     "data": {
      "text/html": [
       "<div>\n",
       "<style scoped>\n",
       "    .dataframe tbody tr th:only-of-type {\n",
       "        vertical-align: middle;\n",
       "    }\n",
       "\n",
       "    .dataframe tbody tr th {\n",
       "        vertical-align: top;\n",
       "    }\n",
       "\n",
       "    .dataframe thead th {\n",
       "        text-align: right;\n",
       "    }\n",
       "</style>\n",
       "<table border=\"1\" class=\"dataframe\">\n",
       "  <thead>\n",
       "    <tr style=\"text-align: right;\">\n",
       "      <th></th>\n",
       "      <th>Name</th>\n",
       "      <th>logS</th>\n",
       "      <th>Canonical_SMILES</th>\n",
       "    </tr>\n",
       "  </thead>\n",
       "  <tbody>\n",
       "    <tr>\n",
       "      <th>0</th>\n",
       "      <td>1,2,3-Trichlorobenzene</td>\n",
       "      <td>–3.76</td>\n",
       "      <td>C1=CC(=C(C(=C1)Cl)Cl)Cl</td>\n",
       "    </tr>\n",
       "    <tr>\n",
       "      <th>1</th>\n",
       "      <td>1,3,5-Trichlorobenzene</td>\n",
       "      <td>–4.44</td>\n",
       "      <td>C1=C(C=C(C=C1Cl)Cl)Cl</td>\n",
       "    </tr>\n",
       "    <tr>\n",
       "      <th>2</th>\n",
       "      <td>1,4-Dibromobenzene</td>\n",
       "      <td>–4.07</td>\n",
       "      <td>C1=CC(=CC=C1Br)Br</td>\n",
       "    </tr>\n",
       "    <tr>\n",
       "      <th>3</th>\n",
       "      <td>17Alpha-ethynylestradiol</td>\n",
       "      <td>–4.484</td>\n",
       "      <td>CC12CCC3C(C1CCC2(C#C)O)CCC4=C3C=CC(=C4)O</td>\n",
       "    </tr>\n",
       "    <tr>\n",
       "      <th>4</th>\n",
       "      <td>1-Butyltheobromine</td>\n",
       "      <td>–1.625</td>\n",
       "      <td>CCCCN1C(=O)C2=C(N=CN2C)N(C1=O)C</td>\n",
       "    </tr>\n",
       "    <tr>\n",
       "      <th>...</th>\n",
       "      <td>...</td>\n",
       "      <td>...</td>\n",
       "      <td>...</td>\n",
       "    </tr>\n",
       "    <tr>\n",
       "      <th>317</th>\n",
       "      <td>Uric acid</td>\n",
       "      <td>–3.402</td>\n",
       "      <td>C12=C(NC(=O)N1)NC(=O)NC2=O</td>\n",
       "    </tr>\n",
       "    <tr>\n",
       "      <th>318</th>\n",
       "      <td>Vinbarbital</td>\n",
       "      <td>–2.458</td>\n",
       "      <td>CCC=C(C)C1(C(=O)NC(=O)NC1=O)CC</td>\n",
       "    </tr>\n",
       "    <tr>\n",
       "      <th>319</th>\n",
       "      <td>Xanthine</td>\n",
       "      <td>–2.483</td>\n",
       "      <td>C1=NC2=C(N1)C(=O)NC(=O)N2</td>\n",
       "    </tr>\n",
       "    <tr>\n",
       "      <th>320</th>\n",
       "      <td>Zidovudine</td>\n",
       "      <td>–1.029</td>\n",
       "      <td>CC1=CN(C(=O)NC1=O)C2CC(C(O2)CO)N=[N+]=[N-]</td>\n",
       "    </tr>\n",
       "    <tr>\n",
       "      <th>321</th>\n",
       "      <td>Zileuton</td>\n",
       "      <td>–3.373</td>\n",
       "      <td>CC(C1=CC2=CC=CC=C2S1)N(C(=O)N)O</td>\n",
       "    </tr>\n",
       "  </tbody>\n",
       "</table>\n",
       "<p>322 rows × 3 columns</p>\n",
       "</div>"
      ],
      "text/plain": [
       "                         Name    logS  \\\n",
       "0      1,2,3-Trichlorobenzene   –3.76   \n",
       "1      1,3,5-Trichlorobenzene   –4.44   \n",
       "2          1,4-Dibromobenzene   –4.07   \n",
       "3    17Alpha-ethynylestradiol  –4.484   \n",
       "4          1-Butyltheobromine  –1.625   \n",
       "..                        ...     ...   \n",
       "317                 Uric acid  –3.402   \n",
       "318               Vinbarbital  –2.458   \n",
       "319                  Xanthine  –2.483   \n",
       "320                Zidovudine  –1.029   \n",
       "321                  Zileuton  –3.373   \n",
       "\n",
       "                               Canonical_SMILES  \n",
       "0                       C1=CC(=C(C(=C1)Cl)Cl)Cl  \n",
       "1                         C1=C(C=C(C=C1Cl)Cl)Cl  \n",
       "2                             C1=CC(=CC=C1Br)Br  \n",
       "3      CC12CCC3C(C1CCC2(C#C)O)CCC4=C3C=CC(=C4)O  \n",
       "4               CCCCN1C(=O)C2=C(N=CN2C)N(C1=O)C  \n",
       "..                                          ...  \n",
       "317                  C12=C(NC(=O)N1)NC(=O)NC2=O  \n",
       "318              CCC=C(C)C1(C(=O)NC(=O)NC1=O)CC  \n",
       "319                   C1=NC2=C(N1)C(=O)NC(=O)N2  \n",
       "320  CC1=CN(C(=O)NC1=O)C2CC(C(O2)CO)N=[N+]=[N-]  \n",
       "321             CC(C1=CC2=CC=CC=C2S1)N(C(=O)N)O  \n",
       "\n",
       "[322 rows x 3 columns]"
      ]
     },
     "execution_count": 6,
     "metadata": {},
     "output_type": "execute_result"
    }
   ],
   "source": [
    "df['Canonical_SMILES'] = smiles\n",
    "df"
   ]
  },
  {
   "cell_type": "markdown",
   "metadata": {},
   "source": [
    "### Handling Missing SMILES\n",
    "\n",
    "Several compounds are not found in the PubChem queries. These missing Canonical SMILES are manually searched and added to the dataset. After updating the dataset with the manually collected SMILES, the dataframe is checked for any remaining missing values. "
   ]
  },
  {
   "cell_type": "code",
   "execution_count": 7,
   "metadata": {},
   "outputs": [
    {
     "name": "stdout",
     "output_type": "stream",
     "text": [
      "30\n",
      "['1-Propyltheobromine', '2-Aminopteridine', '2-Hydroxypteridine', '5,5-Diethylbarbiturate', '5,5-Dimethylbarbiturate', '5,5-Diphenylbarbiturate', '5,5-Dipropylbarbiturate', '5-Allyl-5-phenylbarbiturate', '5-Ethyl-5-(3-methylbut-2-enyl)barbiturate', '5-Ethyl-5-allylbarbiturate', '5-Ethyl-5-nonylbarbiturate', '5-Ethyl-5-octylbarbiturate', '5-Ethyl-5-pentylbarbiturate', '5-Ethyl-5-propylbarbiturate', '5-Ethyl-barbiturate', '5-i-Propyl-5-(3-methylbut-2enyl)barbiturate', '5-Methyl barbiturate', '5-Methyl-5-(3-methylbut-2enyl)barbiturate', '5-Methyl-5-ethylbarbiturate', '5-t-Butyl-5-(3-methylbut-2enyl)barbiturate', 'Cyclobutane-spirobarbiturate', 'Cycloethane-spirobarbiturate', 'Cycloheptane-spirobarbiturate', 'Cyclohexane-spirobarbiturate', 'Cyclopentane-spirobarbiturate', 'Cyclopropane-spirobarbiturate', 'Isopropylbarbiturate', 'Pteridine-2-methyl-thiol', 'Pteridine-4-methyl-thiol', 'Pteridine-7-methyl-thiol']\n"
     ]
    }
   ],
   "source": [
    "indices = [i for i, val in enumerate(smiles) if val == 'None']\n",
    "\n",
    "name_not_found = []\n",
    "for i in indices:\n",
    "    name_not_found.append(df['Name'].iloc[i])\n",
    "\n",
    "print(len(indices))\n",
    "print(name_not_found)"
   ]
  },
  {
   "cell_type": "code",
   "execution_count": 8,
   "metadata": {},
   "outputs": [],
   "source": [
    "smiles_missing = {'1-Propyltheobromine': 'CCCN1C(=O)C2=C(N=CN2C)N(C1=O)C',\n",
    "                  '2-Aminopteridine': 'N=1C=CN=C2C=NC(=NC12)N',\n",
    "                  '2-Hydroxypteridine': 'O=C1N=CN=C2NC=CN=C12',\n",
    "                  '5,5-Diethylbarbiturate': 'O=C1NC(=O)C(C(=O)N1)(CC)CC',\n",
    "                  '5,5-Dimethylbarbiturate': 'O=C1NC(=O)C(C(=O)N1)(C)C',\n",
    "                  '5,5-Diphenylbarbiturate': 'O=C1NC(=O)C(C=2C=CC=CC2)(C=3C=CC=CC3)C(=O)N1',\n",
    "                  '5,5-Dipropylbarbiturate': 'O=C1NC(=O)C(C(=O)N1)(CCC)CCC',\n",
    "                  '5-Allyl-5-phenylbarbiturate': 'O=C1NC(=O)C(C(=O)N1)(C=2C=CC=CC2)CC=C',\n",
    "                  '5-Ethyl-5-(3-methylbut-2-enyl)barbiturate': 'O=C1NC(=O)C(C=CC(C)C)(C(=O)N1)CC',\n",
    "                  '5-Ethyl-5-allylbarbiturate': 'O=C1NC(=O)C(C(=O)N1)(CC=C)CC',\n",
    "                  '5-Ethyl-5-nonylbarbiturate': 'O=C1NC(=O)C(C(=O)N1)(CC)CCCCCCCCC',\n",
    "                  '5-Ethyl-5-octylbarbiturate': 'O=C1NC(=O)C(C(=O)N1)(CC)CCCCCCCC',\n",
    "                  '5-Ethyl-5-pentylbarbiturate': 'O=C1NC(=O)C(C(=O)N1)(CC)CCCCC',\n",
    "                  '5-Ethyl-5-propylbarbiturate': 'O=C1NC(=O)C(C(=O)N1)(CC)CCC',\n",
    "                  '5-Ethyl-barbiturate': 'O=C1NC(=O)C(C(=O)N1)CC',\n",
    "                  '5-i-Propyl-5-(3-methylbut-2enyl)barbiturate': 'O=C1NC(=O)C(C=CC(C)C)(C(=O)N1)C(C)C',\n",
    "                  '5-Methyl barbiturate': 'O=C1NC(=O)C(C(=O)N1)C',\n",
    "                  '5-Methyl-5-(3-methylbut-2enyl)barbiturate': 'O=C1NC(=O)C(C=CC(C)C)(C(=O)N1)C',\n",
    "                  '5-Methyl-5-ethylbarbiturate': 'O=C1NC(=O)C(C(=O)N1)(C)CC',\n",
    "                  '5-t-Butyl-5-(3-methylbut-2enyl)barbiturate': 'O=C1N(C(=O)C(C=CC(C)C)(C(=O)N1)C(C)(C)C)',\n",
    "                  'Cyclobutane-spirobarbiturate': 'O=C1NC(=O)C2(C(=O)N1)CCCC2',\n",
    "                  'Cycloethane-spirobarbiturate': 'O=C1NC(=O)C2(C(=O)N1)CC2',\n",
    "                  'Cycloheptane-spirobarbiturate': 'O=C1NC(=O)C2(C(=O)N1)CCCCCCC2',\n",
    "                  'Cyclohexane-spirobarbiturate': 'O=C1NC(=O)C2(C(=O)N1)CCCCCC2',\n",
    "                  'Cyclopentane-spirobarbiturate': 'O=C1NC(=O)C2(C(=O)N1)CCCCC2',\n",
    "                  'Cyclopropane-spirobarbiturate': 'O=C1NC(=O)C2(C(=O)N1)CCC2',\n",
    "                  'Isopropylbarbiturate': 'O=C1NC(=O)C(C(=O)N1)C(C)C',\n",
    "                  'Pteridine-2-methyl-thiol': 'N=1C=CN=C2C=NC(=NC12)SC',\n",
    "                  'Pteridine-4-methyl-thiol': 'N=1C=NC(SC)=C2N=CC=NC12',\n",
    "                  'Pteridine-7-methyl-thiol': 'N=1C=NC=2N=C(SC)C=NC2C1'\n",
    "                  }"
   ]
  },
  {
   "cell_type": "code",
   "execution_count": 9,
   "metadata": {},
   "outputs": [
    {
     "name": "stdout",
     "output_type": "stream",
     "text": [
      "Empty DataFrame\n",
      "Columns: [Name, logS, Canonical_SMILES]\n",
      "Index: []\n"
     ]
    }
   ],
   "source": [
    "for name, smiles in smiles_missing.items():\n",
    "    df.loc[(df[\"Name\"] == name) & (df[\"Canonical_SMILES\"] == \"None\"), \"Canonical_SMILES\"] = smiles\n",
    "\n",
    "print(df[df['Canonical_SMILES'] == 'None'])"
   ]
  },
  {
   "cell_type": "markdown",
   "metadata": {},
   "source": [
    "The final updated dataframe, now complete with Canonical SMILES, is saved as a CSV file for further use in the project."
   ]
  },
  {
   "cell_type": "code",
   "execution_count": 10,
   "metadata": {},
   "outputs": [],
   "source": [
    "df.to_csv(\"logS_dataset_updated.csv\", index=False)"
   ]
  },
  {
   "cell_type": "code",
   "execution_count": 20,
   "metadata": {},
   "outputs": [
    {
     "name": "stdout",
     "output_type": "stream",
     "text": [
      "['5481173', '5484131', '2650', '91713', '44298077', '133687818', '66509024']\n"
     ]
    }
   ],
   "source": [
    "prolog = \"https://pubchem.ncbi.nlm.nih.gov/rest/pug\"\n",
    "url = prolog + \"/compound/name/\" + 'Ceftazidime' + \"/cids/txt\"\n",
    "res = requests.get(url)\n",
    "\n",
    "print(res.text.split())"
   ]
  }
 ],
 "metadata": {
  "kernelspec": {
   "display_name": "Python 3",
   "language": "python",
   "name": "python3"
  },
  "language_info": {
   "codemirror_mode": {
    "name": "ipython",
    "version": 3
   },
   "file_extension": ".py",
   "mimetype": "text/x-python",
   "name": "python",
   "nbconvert_exporter": "python",
   "pygments_lexer": "ipython3",
   "version": "3.10.4"
  }
 },
 "nbformat": 4,
 "nbformat_minor": 2
}
