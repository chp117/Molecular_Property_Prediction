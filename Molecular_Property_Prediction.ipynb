{
 "cells": [
  {
   "cell_type": "markdown",
   "metadata": {},
   "source": [
    "## Molecular Property Prediction"
   ]
  },
  {
   "cell_type": "markdown",
   "metadata": {},
   "source": [
    "Molecular property prediction plays a crucial role in computer-aided drug discovery (CADD) by enabling the estimation of key characteristics such as solubility, permeability, and bioavailability without extensive experimental efforts. These predictions help prioritize compounds for synthesis and testing, saving time and resources while improving the efficiency of the drug development pipeline.\n",
    "\n",
    "This project focuses on predicting **aqueous solubility (LogS)** of small drug-like molecules using **Machine Learning (ML)** models trained on experimental data and molecular descriptors. \n",
    "\n",
    "#### Tools used:\n",
    "- **RDKit**: A cheminformatics library for handling chemical information and generating molecular descriptors.\n",
    "- **Mordred**: A Python library for calculating thousands of molecular descriptors from chemical structures.\n",
    "- **Statsmodels**: Used for Multiple Linear Regression (MLR) to establish baseline models and analyze feature relationships.\n",
    "- **Scikit-learn**: Provides machine learning models such as Random Forest Regression (RF) for non-linear solubility prediction.\n",
    "- **SHAP (SHapley Additive exPlanations)**: Enhances model interpretability by explaining feature contributions to predictions.\n",
    "\n",
    "#### Objectives of this Project:\n",
    "- Develop predictive models for LogS using experimental solubility data and computed molecular descriptors.\n",
    "- Compare multiple regression models, including MLR and RF, to evaluate predictive performance and feature importance.\n",
    "- Interpret model predictions using statistical coefficients and SHAP values to understand key molecular features influencing solubility.\n",
    "- Visualize feature importance through bar charts, SHAP summary plots, and coefficient plots, providing insights into descriptor contributions."
   ]
  },
  {
   "cell_type": "code",
   "execution_count": 1,
   "metadata": {},
   "outputs": [
    {
     "name": "stdout",
     "output_type": "stream",
     "text": [
      "Requirement already satisfied: requests in c:\\users\\chp11\\appdata\\local\\programs\\python\\python310\\lib\\site-packages (2.32.3)\n",
      "Requirement already satisfied: charset-normalizer<4,>=2 in c:\\users\\chp11\\appdata\\local\\programs\\python\\python310\\lib\\site-packages (from requests) (3.4.0)\n",
      "Requirement already satisfied: idna<4,>=2.5 in c:\\users\\chp11\\appdata\\local\\programs\\python\\python310\\lib\\site-packages (from requests) (3.10)\n",
      "Requirement already satisfied: urllib3<3,>=1.21.1 in c:\\users\\chp11\\appdata\\local\\programs\\python\\python310\\lib\\site-packages (from requests) (2.2.3)\n",
      "Requirement already satisfied: certifi>=2017.4.17 in c:\\users\\chp11\\appdata\\local\\programs\\python\\python310\\lib\\site-packages (from requests) (2024.8.30)\n",
      "Note: you may need to restart the kernel to use updated packages.\n",
      "Requirement already satisfied: pandas in c:\\users\\chp11\\appdata\\local\\programs\\python\\python310\\lib\\site-packages (2.2.3)\n",
      "Requirement already satisfied: numpy>=1.22.4 in c:\\users\\chp11\\appdata\\local\\programs\\python\\python310\\lib\\site-packages (from pandas) (1.26.3)\n",
      "Requirement already satisfied: python-dateutil>=2.8.2 in c:\\users\\chp11\\appdata\\roaming\\python\\python310\\site-packages (from pandas) (2.8.2)\n",
      "Requirement already satisfied: pytz>=2020.1 in c:\\users\\chp11\\appdata\\local\\programs\\python\\python310\\lib\\site-packages (from pandas) (2024.2)\n",
      "Requirement already satisfied: tzdata>=2022.7 in c:\\users\\chp11\\appdata\\local\\programs\\python\\python310\\lib\\site-packages (from pandas) (2024.2)\n",
      "Requirement already satisfied: six>=1.5 in c:\\users\\chp11\\appdata\\roaming\\python\\python310\\site-packages (from python-dateutil>=2.8.2->pandas) (1.16.0)\n",
      "Note: you may need to restart the kernel to use updated packages.\n",
      "Requirement already satisfied: mordred in c:\\users\\chp11\\appdata\\local\\programs\\python\\python310\\lib\\site-packages (1.2.0)\n",
      "Requirement already satisfied: six==1.* in c:\\users\\chp11\\appdata\\roaming\\python\\python310\\site-packages (from mordred) (1.16.0)\n",
      "Requirement already satisfied: numpy==1.* in c:\\users\\chp11\\appdata\\local\\programs\\python\\python310\\lib\\site-packages (from mordred) (1.26.3)\n",
      "Requirement already satisfied: networkx==2.* in c:\\users\\chp11\\appdata\\local\\programs\\python\\python310\\lib\\site-packages (from mordred) (2.8.8)\n",
      "Note: you may need to restart the kernel to use updated packages.\n",
      "Requirement already satisfied: statsmodels in c:\\users\\chp11\\appdata\\local\\programs\\python\\python310\\lib\\site-packages (0.14.4)\n",
      "Requirement already satisfied: numpy<3,>=1.22.3 in c:\\users\\chp11\\appdata\\local\\programs\\python\\python310\\lib\\site-packages (from statsmodels) (1.26.3)\n",
      "Requirement already satisfied: scipy!=1.9.2,>=1.8 in c:\\users\\chp11\\appdata\\local\\programs\\python\\python310\\lib\\site-packages (from statsmodels) (1.14.0)\n",
      "Requirement already satisfied: pandas!=2.1.0,>=1.4 in c:\\users\\chp11\\appdata\\local\\programs\\python\\python310\\lib\\site-packages (from statsmodels) (2.2.3)\n",
      "Requirement already satisfied: patsy>=0.5.6 in c:\\users\\chp11\\appdata\\local\\programs\\python\\python310\\lib\\site-packages (from statsmodels) (1.0.1)\n",
      "Requirement already satisfied: packaging>=21.3 in c:\\users\\chp11\\appdata\\roaming\\python\\python310\\site-packages (from statsmodels) (23.2)\n",
      "Requirement already satisfied: python-dateutil>=2.8.2 in c:\\users\\chp11\\appdata\\roaming\\python\\python310\\site-packages (from pandas!=2.1.0,>=1.4->statsmodels) (2.8.2)\n",
      "Requirement already satisfied: pytz>=2020.1 in c:\\users\\chp11\\appdata\\local\\programs\\python\\python310\\lib\\site-packages (from pandas!=2.1.0,>=1.4->statsmodels) (2024.2)\n",
      "Requirement already satisfied: tzdata>=2022.7 in c:\\users\\chp11\\appdata\\local\\programs\\python\\python310\\lib\\site-packages (from pandas!=2.1.0,>=1.4->statsmodels) (2024.2)\n",
      "Requirement already satisfied: six>=1.5 in c:\\users\\chp11\\appdata\\roaming\\python\\python310\\site-packages (from python-dateutil>=2.8.2->pandas!=2.1.0,>=1.4->statsmodels) (1.16.0)\n",
      "Note: you may need to restart the kernel to use updated packages.\n",
      "Requirement already satisfied: scikit-learn in c:\\users\\chp11\\appdata\\local\\programs\\python\\python310\\lib\\site-packages (1.6.1)\n",
      "Requirement already satisfied: numpy>=1.19.5 in c:\\users\\chp11\\appdata\\local\\programs\\python\\python310\\lib\\site-packages (from scikit-learn) (1.26.3)\n",
      "Requirement already satisfied: scipy>=1.6.0 in c:\\users\\chp11\\appdata\\local\\programs\\python\\python310\\lib\\site-packages (from scikit-learn) (1.14.0)\n",
      "Requirement already satisfied: joblib>=1.2.0 in c:\\users\\chp11\\appdata\\local\\programs\\python\\python310\\lib\\site-packages (from scikit-learn) (1.4.2)\n",
      "Requirement already satisfied: threadpoolctl>=3.1.0 in c:\\users\\chp11\\appdata\\local\\programs\\python\\python310\\lib\\site-packages (from scikit-learn) (3.5.0)\n",
      "Note: you may need to restart the kernel to use updated packages.\n",
      "Requirement already satisfied: shap in c:\\users\\chp11\\appdata\\local\\programs\\python\\python310\\lib\\site-packages (0.46.0)Note: you may need to restart the kernel to use updated packages.\n",
      "\n",
      "Requirement already satisfied: numpy in c:\\users\\chp11\\appdata\\local\\programs\\python\\python310\\lib\\site-packages (from shap) (1.26.3)\n",
      "Requirement already satisfied: scipy in c:\\users\\chp11\\appdata\\local\\programs\\python\\python310\\lib\\site-packages (from shap) (1.14.0)\n",
      "Requirement already satisfied: scikit-learn in c:\\users\\chp11\\appdata\\local\\programs\\python\\python310\\lib\\site-packages (from shap) (1.6.1)\n",
      "Requirement already satisfied: pandas in c:\\users\\chp11\\appdata\\local\\programs\\python\\python310\\lib\\site-packages (from shap) (2.2.3)\n",
      "Requirement already satisfied: tqdm>=4.27.0 in c:\\users\\chp11\\appdata\\local\\programs\\python\\python310\\lib\\site-packages (from shap) (4.67.1)\n",
      "Requirement already satisfied: packaging>20.9 in c:\\users\\chp11\\appdata\\roaming\\python\\python310\\site-packages (from shap) (23.2)\n",
      "Requirement already satisfied: slicer==0.0.8 in c:\\users\\chp11\\appdata\\local\\programs\\python\\python310\\lib\\site-packages (from shap) (0.0.8)\n",
      "Requirement already satisfied: numba in c:\\users\\chp11\\appdata\\local\\programs\\python\\python310\\lib\\site-packages (from shap) (0.61.0)\n",
      "Requirement already satisfied: cloudpickle in c:\\users\\chp11\\appdata\\local\\programs\\python\\python310\\lib\\site-packages (from shap) (3.1.1)\n",
      "Requirement already satisfied: colorama in c:\\users\\chp11\\appdata\\roaming\\python\\python310\\site-packages (from tqdm>=4.27.0->shap) (0.4.6)\n",
      "Requirement already satisfied: llvmlite<0.45,>=0.44.0dev0 in c:\\users\\chp11\\appdata\\local\\programs\\python\\python310\\lib\\site-packages (from numba->shap) (0.44.0)\n",
      "Requirement already satisfied: python-dateutil>=2.8.2 in c:\\users\\chp11\\appdata\\roaming\\python\\python310\\site-packages (from pandas->shap) (2.8.2)\n",
      "Requirement already satisfied: pytz>=2020.1 in c:\\users\\chp11\\appdata\\local\\programs\\python\\python310\\lib\\site-packages (from pandas->shap) (2024.2)\n",
      "Requirement already satisfied: tzdata>=2022.7 in c:\\users\\chp11\\appdata\\local\\programs\\python\\python310\\lib\\site-packages (from pandas->shap) (2024.2)\n",
      "Requirement already satisfied: joblib>=1.2.0 in c:\\users\\chp11\\appdata\\local\\programs\\python\\python310\\lib\\site-packages (from scikit-learn->shap) (1.4.2)\n",
      "Requirement already satisfied: threadpoolctl>=3.1.0 in c:\\users\\chp11\\appdata\\local\\programs\\python\\python310\\lib\\site-packages (from scikit-learn->shap) (3.5.0)\n",
      "Requirement already satisfied: six>=1.5 in c:\\users\\chp11\\appdata\\roaming\\python\\python310\\site-packages (from python-dateutil>=2.8.2->pandas->shap) (1.16.0)\n",
      "Requirement already satisfied: ipywidgets in c:\\users\\chp11\\appdata\\local\\programs\\python\\python310\\lib\\site-packages (8.1.5)\n",
      "Requirement already satisfied: comm>=0.1.3 in c:\\users\\chp11\\appdata\\roaming\\python\\python310\\site-packages (from ipywidgets) (0.2.1)\n",
      "Requirement already satisfied: ipython>=6.1.0 in c:\\users\\chp11\\appdata\\roaming\\python\\python310\\site-packages (from ipywidgets) (8.20.0)\n",
      "Requirement already satisfied: traitlets>=4.3.1 in c:\\users\\chp11\\appdata\\roaming\\python\\python310\\site-packages (from ipywidgets) (5.14.1)\n",
      "Requirement already satisfied: widgetsnbextension~=4.0.12 in c:\\users\\chp11\\appdata\\local\\programs\\python\\python310\\lib\\site-packages (from ipywidgets) (4.0.13)\n",
      "Requirement already satisfied: jupyterlab-widgets~=3.0.12 in c:\\users\\chp11\\appdata\\local\\programs\\python\\python310\\lib\\site-packages (from ipywidgets) (3.0.13)\n",
      "Requirement already satisfied: decorator in c:\\users\\chp11\\appdata\\roaming\\python\\python310\\site-packages (from ipython>=6.1.0->ipywidgets) (5.1.1)\n",
      "Requirement already satisfied: jedi>=0.16 in c:\\users\\chp11\\appdata\\roaming\\python\\python310\\site-packages (from ipython>=6.1.0->ipywidgets) (0.19.1)\n",
      "Requirement already satisfied: matplotlib-inline in c:\\users\\chp11\\appdata\\roaming\\python\\python310\\site-packages (from ipython>=6.1.0->ipywidgets) (0.1.6)\n",
      "Requirement already satisfied: prompt-toolkit<3.1.0,>=3.0.41 in c:\\users\\chp11\\appdata\\roaming\\python\\python310\\site-packages (from ipython>=6.1.0->ipywidgets) (3.0.43)\n",
      "Requirement already satisfied: pygments>=2.4.0 in c:\\users\\chp11\\appdata\\roaming\\python\\python310\\site-packages (from ipython>=6.1.0->ipywidgets) (2.17.2)\n",
      "Requirement already satisfied: stack-data in c:\\users\\chp11\\appdata\\roaming\\python\\python310\\site-packages (from ipython>=6.1.0->ipywidgets) (0.6.3)\n",
      "Requirement already satisfied: exceptiongroup in c:\\users\\chp11\\appdata\\roaming\\python\\python310\\site-packages (from ipython>=6.1.0->ipywidgets) (1.2.0)\n",
      "Requirement already satisfied: colorama in c:\\users\\chp11\\appdata\\roaming\\python\\python310\\site-packages (from ipython>=6.1.0->ipywidgets) (0.4.6)\n",
      "Requirement already satisfied: parso<0.9.0,>=0.8.3 in c:\\users\\chp11\\appdata\\roaming\\python\\python310\\site-packages (from jedi>=0.16->ipython>=6.1.0->ipywidgets) (0.8.3)\n",
      "Requirement already satisfied: wcwidth in c:\\users\\chp11\\appdata\\roaming\\python\\python310\\site-packages (from prompt-toolkit<3.1.0,>=3.0.41->ipython>=6.1.0->ipywidgets) (0.2.13)\n",
      "Requirement already satisfied: executing>=1.2.0 in c:\\users\\chp11\\appdata\\roaming\\python\\python310\\site-packages (from stack-data->ipython>=6.1.0->ipywidgets) (2.0.1)\n",
      "Requirement already satisfied: asttokens>=2.1.0 in c:\\users\\chp11\\appdata\\roaming\\python\\python310\\site-packages (from stack-data->ipython>=6.1.0->ipywidgets) (2.4.1)\n",
      "Requirement already satisfied: pure-eval in c:\\users\\chp11\\appdata\\roaming\\python\\python310\\site-packages (from stack-data->ipython>=6.1.0->ipywidgets) (0.2.2)\n",
      "Requirement already satisfied: six>=1.12.0 in c:\\users\\chp11\\appdata\\roaming\\python\\python310\\site-packages (from asttokens>=2.1.0->stack-data->ipython>=6.1.0->ipywidgets) (1.16.0)\n",
      "Note: you may need to restart the kernel to use updated packages.\n"
     ]
    }
   ],
   "source": [
    "%pip install requests\n",
    "%pip install pandas\n",
    "%pip install mordred\n",
    "%pip install statsmodels\n",
    "%pip install scikit-learn\n",
    "%pip install shap\n",
    "%pip install ipywidgets"
   ]
  },
  {
   "cell_type": "markdown",
   "metadata": {},
   "source": [
    "### Aqueous solubility (LogS)\n",
    "\n",
    "Aqueous solubility (LogS) is a critical molecular property in drug discovery as it directly impacts a compound's absorption, distribution, and overall bioavailability. Poor solubility is a major reason why many promising drug candidates fail during development.\n",
    "\n",
    "The experimental LogS values for this project were sourced from:\n",
    "\n",
    "[**Rytting, E., Lentz, K.A., Chen, XQ. et al. Aqueous and cosolvent solubility data for drug-like organic compounds. AAPS J 7, 10 (2005)**](https://doi.org/10.1208/aapsj070110)\n",
    "  \n",
    "This dataset provides high-quality solubility data which were carefully selected under following criteria:\n",
    "\n",
    "- Drug or drug-like compounds which are solid at room temperature\n",
    "- Solubility values of unionized species (intrinsic solubility) at or around 25°C\n",
    "- Solubility measurement: equilibrium achieved over time; excess solid present at the end of testing; and acceptable analytical methods used for detection."
   ]
  },
  {
   "cell_type": "code",
   "execution_count": null,
   "metadata": {},
   "outputs": [
    {
     "data": {
      "text/html": [
       "<div>\n",
       "<style scoped>\n",
       "    .dataframe tbody tr th:only-of-type {\n",
       "        vertical-align: middle;\n",
       "    }\n",
       "\n",
       "    .dataframe tbody tr th {\n",
       "        vertical-align: top;\n",
       "    }\n",
       "\n",
       "    .dataframe thead th {\n",
       "        text-align: right;\n",
       "    }\n",
       "</style>\n",
       "<table border=\"1\" class=\"dataframe\">\n",
       "  <thead>\n",
       "    <tr style=\"text-align: right;\">\n",
       "      <th></th>\n",
       "      <th>Name</th>\n",
       "      <th>logS</th>\n",
       "    </tr>\n",
       "  </thead>\n",
       "  <tbody>\n",
       "    <tr>\n",
       "      <th>0</th>\n",
       "      <td>1,2,3-Trichlorobenzene</td>\n",
       "      <td>–3.76</td>\n",
       "    </tr>\n",
       "    <tr>\n",
       "      <th>1</th>\n",
       "      <td>1,3,5-Trichlorobenzene</td>\n",
       "      <td>–4.44</td>\n",
       "    </tr>\n",
       "    <tr>\n",
       "      <th>2</th>\n",
       "      <td>1,4-Dibromobenzene</td>\n",
       "      <td>–4.07</td>\n",
       "    </tr>\n",
       "    <tr>\n",
       "      <th>3</th>\n",
       "      <td>17Alpha-ethynylestradiol</td>\n",
       "      <td>–4.484</td>\n",
       "    </tr>\n",
       "    <tr>\n",
       "      <th>4</th>\n",
       "      <td>1-Butyltheobromine</td>\n",
       "      <td>–1.625</td>\n",
       "    </tr>\n",
       "  </tbody>\n",
       "</table>\n",
       "</div>"
      ],
      "text/plain": [
       "                       Name    logS\n",
       "0    1,2,3-Trichlorobenzene   –3.76\n",
       "1    1,3,5-Trichlorobenzene   –4.44\n",
       "2        1,4-Dibromobenzene   –4.07\n",
       "3  17Alpha-ethynylestradiol  –4.484\n",
       "4        1-Butyltheobromine  –1.625"
      ]
     },
     "execution_count": 2,
     "metadata": {},
     "output_type": "execute_result"
    }
   ],
   "source": [
    "import pandas as pd\n",
    "\n",
    "df = pd.read_csv('logS_dataset.csv', sep=';') \n",
    "df.head(5)  "
   ]
  },
  {
   "cell_type": "markdown",
   "metadata": {},
   "source": [
    "### Retrieving Canonical SMILES from PubChem\n",
    "\n",
    "Canonical SMILES for the compounds in the dataset were retrieved using the PubChem PUG REST API. According to PubChem's usage policies:\n",
    "- The request rate must be limited to **five requests per second** or fewer to avoid being temporarily blocked from accessing PubChem (or NCBI) resources.\n",
    "- Each request has a standard time limit of **30 seconds**, after which a time-out error will occur if the request is not completed.\n",
    "\n",
    "To comply with these policies, requests were processed in a controlled manner with a delay between queries."
   ]
  },
  {
   "cell_type": "code",
   "execution_count": null,
   "metadata": {},
   "outputs": [],
   "source": [
    "import requests\n",
    "import time\n",
    "\n",
    "prolog = 'https://pubchem.ncbi.nlm.nih.gov/rest/pug'\n",
    "name_list = df['Name'].values.tolist()\n",
    "\n",
    "smiles = []\n",
    "\n",
    "def get_smiles(start, end): # start and end index of a batch\n",
    "    \n",
    "    smiles_batch = []\n",
    "    idx = 0\n",
    "    for name in name_list[start:end]: # loop over each element in the batch \n",
    "\n",
    "        url = prolog + '/compound/name/' + name + '/property/CanonicalSMILES/txt'\n",
    "        res = requests.get(url)\n",
    "\n",
    "        if res.status_code == 200:\n",
    "            smiles_batch += list(set(res.text.split())) # Use a set to remove duplicates (w/ different CIDs)\n",
    "        else:\n",
    "            smiles_batch.append('None')\n",
    "        \n",
    "        if idx % 5 == 4: # to limit the request rate to five requests per second\n",
    "            time.sleep(0.2)\n",
    "        idx += 1\n",
    "    \n",
    "    return smiles_batch"
   ]
  },
  {
   "cell_type": "code",
   "execution_count": 5,
   "metadata": {},
   "outputs": [
    {
     "name": "stdout",
     "output_type": "stream",
     "text": [
      "Compounds 1 - 50 Done!\n",
      "Compounds 51 - 100 Done!\n",
      "Compounds 101 - 150 Done!\n",
      "Compounds 151 - 200 Done!\n",
      "Compounds 201 - 250 Done!\n",
      "Compounds 251 - 300 Done!\n",
      "Compounds 301 - 322 Done!\n",
      "322\n"
     ]
    }
   ],
   "source": [
    "num_batch = len(name_list) // 50 # Batch size of 50 compounds\n",
    "\n",
    "for i in range(num_batch): # loop over each batch in the 'name_list' list\n",
    "    start = i*50\n",
    "    end = (i+1)*50\n",
    "    smiles += get_smiles(start, end)\n",
    "    print(f'Compounds {start+1} - {end} Done!')\n",
    "    time.sleep(1)\n",
    "\n",
    "last_batch_start = 50*num_batch\n",
    "last_batch_end = 50*num_batch + len(name_list)%50\n",
    "smiles += get_smiles(last_batch_start, last_batch_end)\n",
    "print(f'Compounds {last_batch_start+1} - {last_batch_end} Done!')\n",
    "\n",
    "print(len(smiles))"
   ]
  },
  {
   "cell_type": "markdown",
   "metadata": {},
   "source": [
    "The retrieved Canonical SMILES were added as a new column to the dataset. "
   ]
  },
  {
   "cell_type": "code",
   "execution_count": 6,
   "metadata": {},
   "outputs": [
    {
     "data": {
      "text/html": [
       "<div>\n",
       "<style scoped>\n",
       "    .dataframe tbody tr th:only-of-type {\n",
       "        vertical-align: middle;\n",
       "    }\n",
       "\n",
       "    .dataframe tbody tr th {\n",
       "        vertical-align: top;\n",
       "    }\n",
       "\n",
       "    .dataframe thead th {\n",
       "        text-align: right;\n",
       "    }\n",
       "</style>\n",
       "<table border=\"1\" class=\"dataframe\">\n",
       "  <thead>\n",
       "    <tr style=\"text-align: right;\">\n",
       "      <th></th>\n",
       "      <th>Name</th>\n",
       "      <th>logS</th>\n",
       "      <th>Canonical_SMILES</th>\n",
       "    </tr>\n",
       "  </thead>\n",
       "  <tbody>\n",
       "    <tr>\n",
       "      <th>0</th>\n",
       "      <td>1,2,3-Trichlorobenzene</td>\n",
       "      <td>–3.76</td>\n",
       "      <td>C1=CC(=C(C(=C1)Cl)Cl)Cl</td>\n",
       "    </tr>\n",
       "    <tr>\n",
       "      <th>1</th>\n",
       "      <td>1,3,5-Trichlorobenzene</td>\n",
       "      <td>–4.44</td>\n",
       "      <td>C1=C(C=C(C=C1Cl)Cl)Cl</td>\n",
       "    </tr>\n",
       "    <tr>\n",
       "      <th>2</th>\n",
       "      <td>1,4-Dibromobenzene</td>\n",
       "      <td>–4.07</td>\n",
       "      <td>C1=CC(=CC=C1Br)Br</td>\n",
       "    </tr>\n",
       "    <tr>\n",
       "      <th>3</th>\n",
       "      <td>17Alpha-ethynylestradiol</td>\n",
       "      <td>–4.484</td>\n",
       "      <td>CC12CCC3C(C1CCC2(C#C)O)CCC4=C3C=CC(=C4)O</td>\n",
       "    </tr>\n",
       "    <tr>\n",
       "      <th>4</th>\n",
       "      <td>1-Butyltheobromine</td>\n",
       "      <td>–1.625</td>\n",
       "      <td>CCCCN1C(=O)C2=C(N=CN2C)N(C1=O)C</td>\n",
       "    </tr>\n",
       "    <tr>\n",
       "      <th>...</th>\n",
       "      <td>...</td>\n",
       "      <td>...</td>\n",
       "      <td>...</td>\n",
       "    </tr>\n",
       "    <tr>\n",
       "      <th>317</th>\n",
       "      <td>Uric acid</td>\n",
       "      <td>–3.402</td>\n",
       "      <td>C12=C(NC(=O)N1)NC(=O)NC2=O</td>\n",
       "    </tr>\n",
       "    <tr>\n",
       "      <th>318</th>\n",
       "      <td>Vinbarbital</td>\n",
       "      <td>–2.458</td>\n",
       "      <td>CCC=C(C)C1(C(=O)NC(=O)NC1=O)CC</td>\n",
       "    </tr>\n",
       "    <tr>\n",
       "      <th>319</th>\n",
       "      <td>Xanthine</td>\n",
       "      <td>–2.483</td>\n",
       "      <td>C1=NC2=C(N1)C(=O)NC(=O)N2</td>\n",
       "    </tr>\n",
       "    <tr>\n",
       "      <th>320</th>\n",
       "      <td>Zidovudine</td>\n",
       "      <td>–1.029</td>\n",
       "      <td>CC1=CN(C(=O)NC1=O)C2CC(C(O2)CO)N=[N+]=[N-]</td>\n",
       "    </tr>\n",
       "    <tr>\n",
       "      <th>321</th>\n",
       "      <td>Zileuton</td>\n",
       "      <td>–3.373</td>\n",
       "      <td>CC(C1=CC2=CC=CC=C2S1)N(C(=O)N)O</td>\n",
       "    </tr>\n",
       "  </tbody>\n",
       "</table>\n",
       "<p>322 rows × 3 columns</p>\n",
       "</div>"
      ],
      "text/plain": [
       "                         Name    logS  \\\n",
       "0      1,2,3-Trichlorobenzene   –3.76   \n",
       "1      1,3,5-Trichlorobenzene   –4.44   \n",
       "2          1,4-Dibromobenzene   –4.07   \n",
       "3    17Alpha-ethynylestradiol  –4.484   \n",
       "4          1-Butyltheobromine  –1.625   \n",
       "..                        ...     ...   \n",
       "317                 Uric acid  –3.402   \n",
       "318               Vinbarbital  –2.458   \n",
       "319                  Xanthine  –2.483   \n",
       "320                Zidovudine  –1.029   \n",
       "321                  Zileuton  –3.373   \n",
       "\n",
       "                               Canonical_SMILES  \n",
       "0                       C1=CC(=C(C(=C1)Cl)Cl)Cl  \n",
       "1                         C1=C(C=C(C=C1Cl)Cl)Cl  \n",
       "2                             C1=CC(=CC=C1Br)Br  \n",
       "3      CC12CCC3C(C1CCC2(C#C)O)CCC4=C3C=CC(=C4)O  \n",
       "4               CCCCN1C(=O)C2=C(N=CN2C)N(C1=O)C  \n",
       "..                                          ...  \n",
       "317                  C12=C(NC(=O)N1)NC(=O)NC2=O  \n",
       "318              CCC=C(C)C1(C(=O)NC(=O)NC1=O)CC  \n",
       "319                   C1=NC2=C(N1)C(=O)NC(=O)N2  \n",
       "320  CC1=CN(C(=O)NC1=O)C2CC(C(O2)CO)N=[N+]=[N-]  \n",
       "321             CC(C1=CC2=CC=CC=C2S1)N(C(=O)N)O  \n",
       "\n",
       "[322 rows x 3 columns]"
      ]
     },
     "execution_count": 6,
     "metadata": {},
     "output_type": "execute_result"
    }
   ],
   "source": [
    "df['Canonical_SMILES'] = smiles\n",
    "df"
   ]
  },
  {
   "cell_type": "markdown",
   "metadata": {},
   "source": [
    "### Data Cleaning: Handling Missing and Invalid Values\n",
    "\n",
    "Several compounds were not found in the PubChem queries. These missing Canonical SMILES were manually searched and added to the dataset. After updating the dataset with the manually collected SMILES, the dataframe was checked for any remaining missing values. "
   ]
  },
  {
   "cell_type": "code",
   "execution_count": 7,
   "metadata": {},
   "outputs": [
    {
     "name": "stdout",
     "output_type": "stream",
     "text": [
      "30\n",
      "['1-Propyltheobromine', '2-Aminopteridine', '2-Hydroxypteridine', '5,5-Diethylbarbiturate', '5,5-Dimethylbarbiturate', '5,5-Diphenylbarbiturate', '5,5-Dipropylbarbiturate', '5-Allyl-5-phenylbarbiturate', '5-Ethyl-5-(3-methylbut-2-enyl)barbiturate', '5-Ethyl-5-allylbarbiturate', '5-Ethyl-5-nonylbarbiturate', '5-Ethyl-5-octylbarbiturate', '5-Ethyl-5-pentylbarbiturate', '5-Ethyl-5-propylbarbiturate', '5-Ethyl-barbiturate', '5-i-Propyl-5-(3-methylbut-2enyl)barbiturate', '5-Methyl barbiturate', '5-Methyl-5-(3-methylbut-2enyl)barbiturate', '5-Methyl-5-ethylbarbiturate', '5-t-Butyl-5-(3-methylbut-2enyl)barbiturate', 'Cyclobutane-spirobarbiturate', 'Cycloethane-spirobarbiturate', 'Cycloheptane-spirobarbiturate', 'Cyclohexane-spirobarbiturate', 'Cyclopentane-spirobarbiturate', 'Cyclopropane-spirobarbiturate', 'Isopropylbarbiturate', 'Pteridine-2-methyl-thiol', 'Pteridine-4-methyl-thiol', 'Pteridine-7-methyl-thiol']\n"
     ]
    }
   ],
   "source": [
    "indices = [i for i, val in enumerate(smiles) if val == 'None']\n",
    "\n",
    "name_not_found = []\n",
    "for i in indices:\n",
    "    name_not_found.append(df['Name'].iloc[i])\n",
    "\n",
    "print(len(indices))\n",
    "print(name_not_found)"
   ]
  },
  {
   "cell_type": "code",
   "execution_count": 8,
   "metadata": {},
   "outputs": [],
   "source": [
    "smiles_missing = {'1-Propyltheobromine': 'CCCN1C(=O)C2=C(N=CN2C)N(C1=O)C',\n",
    "                  '2-Aminopteridine': 'N=1C=CN=C2C=NC(=NC12)N',\n",
    "                  '2-Hydroxypteridine': 'O=C1N=CN=C2NC=CN=C12',\n",
    "                  '5,5-Diethylbarbiturate': 'O=C1NC(=O)C(C(=O)N1)(CC)CC',\n",
    "                  '5,5-Dimethylbarbiturate': 'O=C1NC(=O)C(C(=O)N1)(C)C',\n",
    "                  '5,5-Diphenylbarbiturate': 'O=C1NC(=O)C(C=2C=CC=CC2)(C=3C=CC=CC3)C(=O)N1',\n",
    "                  '5,5-Dipropylbarbiturate': 'O=C1NC(=O)C(C(=O)N1)(CCC)CCC',\n",
    "                  '5-Allyl-5-phenylbarbiturate': 'O=C1NC(=O)C(C(=O)N1)(C=2C=CC=CC2)CC=C',\n",
    "                  '5-Ethyl-5-(3-methylbut-2-enyl)barbiturate': 'O=C1NC(=O)C(C=CC(C)C)(C(=O)N1)CC',\n",
    "                  '5-Ethyl-5-allylbarbiturate': 'O=C1NC(=O)C(C(=O)N1)(CC=C)CC',\n",
    "                  '5-Ethyl-5-nonylbarbiturate': 'O=C1NC(=O)C(C(=O)N1)(CC)CCCCCCCCC',\n",
    "                  '5-Ethyl-5-octylbarbiturate': 'O=C1NC(=O)C(C(=O)N1)(CC)CCCCCCCC',\n",
    "                  '5-Ethyl-5-pentylbarbiturate': 'O=C1NC(=O)C(C(=O)N1)(CC)CCCCC',\n",
    "                  '5-Ethyl-5-propylbarbiturate': 'O=C1NC(=O)C(C(=O)N1)(CC)CCC',\n",
    "                  '5-Ethyl-barbiturate': 'O=C1NC(=O)C(C(=O)N1)CC',\n",
    "                  '5-i-Propyl-5-(3-methylbut-2enyl)barbiturate': 'O=C1NC(=O)C(C=CC(C)C)(C(=O)N1)C(C)C',\n",
    "                  '5-Methyl barbiturate': 'O=C1NC(=O)C(C(=O)N1)C',\n",
    "                  '5-Methyl-5-(3-methylbut-2enyl)barbiturate': 'O=C1NC(=O)C(C=CC(C)C)(C(=O)N1)C',\n",
    "                  '5-Methyl-5-ethylbarbiturate': 'O=C1NC(=O)C(C(=O)N1)(C)CC',\n",
    "                  '5-t-Butyl-5-(3-methylbut-2enyl)barbiturate': 'O=C1N(C(=O)C(C=CC(C)C)(C(=O)N1)C(C)(C)C)',\n",
    "                  'Cyclobutane-spirobarbiturate': 'O=C1NC(=O)C2(C(=O)N1)CCCC2',\n",
    "                  'Cycloethane-spirobarbiturate': 'O=C1NC(=O)C2(C(=O)N1)CC2',\n",
    "                  'Cycloheptane-spirobarbiturate': 'O=C1NC(=O)C2(C(=O)N1)CCCCCCC2',\n",
    "                  'Cyclohexane-spirobarbiturate': 'O=C1NC(=O)C2(C(=O)N1)CCCCCC2',\n",
    "                  'Cyclopentane-spirobarbiturate': 'O=C1NC(=O)C2(C(=O)N1)CCCCC2',\n",
    "                  'Cyclopropane-spirobarbiturate': 'O=C1NC(=O)C2(C(=O)N1)CCC2',\n",
    "                  'Isopropylbarbiturate': 'O=C1NC(=O)C(C(=O)N1)C(C)C',\n",
    "                  'Pteridine-2-methyl-thiol': 'N=1C=CN=C2C=NC(=NC12)SC',\n",
    "                  'Pteridine-4-methyl-thiol': 'N=1C=NC(SC)=C2N=CC=NC12',\n",
    "                  'Pteridine-7-methyl-thiol': 'N=1C=NC=2N=C(SC)C=NC2C1'\n",
    "                  }"
   ]
  },
  {
   "cell_type": "code",
   "execution_count": 9,
   "metadata": {},
   "outputs": [
    {
     "name": "stdout",
     "output_type": "stream",
     "text": [
      "Empty DataFrame\n",
      "Columns: [Name, logS, Canonical_SMILES]\n",
      "Index: []\n"
     ]
    }
   ],
   "source": [
    "for name, smiles in smiles_missing.items():\n",
    "    df.loc[(df[\"Name\"] == name) & (df[\"Canonical_SMILES\"] == \"None\"), \"Canonical_SMILES\"] = smiles\n",
    "\n",
    "print(df[df['Canonical_SMILES'] == 'None']) # Check if there are still missing SMILES"
   ]
  },
  {
   "cell_type": "markdown",
   "metadata": {},
   "source": [
    "During the processing of Canonical SMILES, some compounds had invalid SMILES strings, which caused errors during molecule generation in RDKit (e.g., explicit valence errors). To ensure the integrity of the dataset, compounds with invalid SMILES were identified and dropped from the dataframe. \n"
   ]
  },
  {
   "cell_type": "code",
   "execution_count": 75,
   "metadata": {},
   "outputs": [
    {
     "name": "stdout",
     "output_type": "stream",
     "text": [
      "[8, 45, 51]\n"
     ]
    },
    {
     "name": "stderr",
     "output_type": "stream",
     "text": [
      "[17:45:59] Explicit valence for atom # 8 Cl, 3, is greater than permitted\n",
      "[17:45:59] Explicit valence for atom # 8 Cl, 3, is greater than permitted\n",
      "[17:45:59] Explicit valence for atom # 7 Cl, 3, is greater than permitted\n"
     ]
    }
   ],
   "source": [
    "from rdkit import Chem\n",
    "\n",
    "invalid_indices = [i for i, val in enumerate(df[\"Canonical_SMILES\"]) if Chem.MolFromSmiles(val) == None]\n",
    "\n",
    "print(invalid_indices)"
   ]
  },
  {
   "cell_type": "code",
   "execution_count": 76,
   "metadata": {},
   "outputs": [
    {
     "name": "stdout",
     "output_type": "stream",
     "text": [
      "[]\n"
     ]
    }
   ],
   "source": [
    "df_updated = df.drop(df.index[invalid_indices])\n",
    "still_invalid = [i for i, val in enumerate(df_updated[\"Canonical_SMILES\"]) if Chem.MolFromSmiles(val) == None]\n",
    "\n",
    "print(still_invalid)"
   ]
  },
  {
   "cell_type": "markdown",
   "metadata": {},
   "source": [
    "The logS values were initially stored as strings, which needed to be converted to floats for numerical analysis and modeling. Also, the negative signs of logS values were written with en dashes (–) instead of hyphens (-), which can cause issues during processing. These were replaced with standard hyphens to ensure compatibility with cheminformatics tools."
   ]
  },
  {
   "cell_type": "code",
   "execution_count": 77,
   "metadata": {},
   "outputs": [],
   "source": [
    "df = df_updated\n",
    "df['logS'] = df['logS'].str.replace('–', '-').astype(float)"
   ]
  },
  {
   "cell_type": "markdown",
   "metadata": {},
   "source": [
    "The final updated dataframe, now complete with Canonical SMILES, is saved as a CSV file for further use in the project."
   ]
  },
  {
   "cell_type": "code",
   "execution_count": 78,
   "metadata": {},
   "outputs": [],
   "source": [
    "df.to_csv('logS_dataset_updated.csv', index=False)"
   ]
  },
  {
   "cell_type": "code",
   "execution_count": 3,
   "metadata": {},
   "outputs": [],
   "source": [
    "df = pd.read_csv('logS_dataset_updated.csv', sep=',') "
   ]
  },
  {
   "cell_type": "markdown",
   "metadata": {},
   "source": [
    "### Calculation and Filtering of Mordred descriptorss\n",
    "\n",
    "Mordred descriptors were calculated for all molecules in the dataset using their Canonical SMILES. 3D descriptors were disregarded to increase the prediction speed and avoid redundancy problems."
   ]
  },
  {
   "cell_type": "code",
   "execution_count": 5,
   "metadata": {},
   "outputs": [
    {
     "name": "stdout",
     "output_type": "stream",
     "text": [
      "                                                   ABC  \\\n",
      "0    module 'numpy' has no attribute 'float'.\\n`np....   \n",
      "1    module 'numpy' has no attribute 'float'.\\n`np....   \n",
      "2    module 'numpy' has no attribute 'float'.\\n`np....   \n",
      "3    module 'numpy' has no attribute 'float'.\\n`np....   \n",
      "4    module 'numpy' has no attribute 'float'.\\n`np....   \n",
      "..                                                 ...   \n",
      "314  module 'numpy' has no attribute 'float'.\\n`np....   \n",
      "315  module 'numpy' has no attribute 'float'.\\n`np....   \n",
      "316  module 'numpy' has no attribute 'float'.\\n`np....   \n",
      "317  module 'numpy' has no attribute 'float'.\\n`np....   \n",
      "318  module 'numpy' has no attribute 'float'.\\n`np....   \n",
      "\n",
      "                                                 ABCGG  nAcid  nBase  \\\n",
      "0    module 'numpy' has no attribute 'float'.\\n`np....      0      0   \n",
      "1    module 'numpy' has no attribute 'float'.\\n`np....      0      0   \n",
      "2    module 'numpy' has no attribute 'float'.\\n`np....      0      0   \n",
      "3    module 'numpy' has no attribute 'float'.\\n`np....      0      0   \n",
      "4    module 'numpy' has no attribute 'float'.\\n`np....      0      0   \n",
      "..                                                 ...    ...    ...   \n",
      "314  module 'numpy' has no attribute 'float'.\\n`np....      0      0   \n",
      "315  module 'numpy' has no attribute 'float'.\\n`np....      0      0   \n",
      "316  module 'numpy' has no attribute 'float'.\\n`np....      0      0   \n",
      "317  module 'numpy' has no attribute 'float'.\\n`np....      0      0   \n",
      "318  module 'numpy' has no attribute 'float'.\\n`np....      0      0   \n",
      "\n",
      "       SpAbs_A   SpMax_A  SpDiam_A     SpAD_A   SpMAD_A   LogEE_A  ...  \\\n",
      "0    10.891331  2.263821  4.527642  10.891331  1.210148  3.099901  ...   \n",
      "1    10.128990  2.236068  4.472136  10.128990  1.125443  3.099014  ...   \n",
      "2     9.924777  2.170086  4.340173   9.924777  1.240597  2.979730  ...   \n",
      "3    28.895827  2.622030  5.164227  28.895827  1.313447  4.069906  ...   \n",
      "4    21.323572  2.514379  4.957714  21.323572  1.254328  3.760270  ...   \n",
      "..         ...       ...       ...        ...       ...       ...  ...   \n",
      "314  14.737555  2.425449  4.732870  14.737555  1.228130  3.436349  ...   \n",
      "315  18.584290  2.492854  4.985707  18.584290  1.161518  3.666129  ...   \n",
      "316  13.878163  2.396777  4.704140  13.878163  1.261651  3.352605  ...   \n",
      "317  23.747937  2.438920  4.799979  23.747937  1.249891  3.860658  ...   \n",
      "318  20.229921  2.418791  4.661401  20.229921  1.264370  3.699412  ...   \n",
      "\n",
      "         SRW10     TSRW10          MW        AMW  WPath  WPol  Zagreb1  \\\n",
      "0     8.876126  37.975562  179.930033  14.994169     82    11     42.0   \n",
      "1     8.760767  37.736937  179.930033  14.994169     84     9     42.0   \n",
      "2     8.463159  35.730685  233.867974  19.488998     62     7     36.0   \n",
      "3    10.543260  72.152610  296.177630   6.438644    941    46    130.0   \n",
      "4     9.901836  64.102173  236.127326   7.155374    478    29     88.0   \n",
      "..         ...        ...         ...        ...    ...   ...      ...   \n",
      "314   9.435642  57.239013  168.028340  10.501771    178    16     64.0   \n",
      "315   9.890048  48.747870  224.116092   7.003628    398    29     78.0   \n",
      "316   9.317849  55.364239  152.033425  10.135562    138    14     58.0   \n",
      "317   9.805930  66.192889  267.096754   8.346774    701    29     96.0   \n",
      "318   9.604745  62.363328  236.061949   8.430784    436    23     82.0   \n",
      "\n",
      "     Zagreb2  mZagreb1  mZagreb2  \n",
      "0       47.0  4.083333  2.055556  \n",
      "1       45.0  4.083333  2.000000  \n",
      "2       38.0  3.222222  1.833333  \n",
      "3      165.0  7.291667  4.631944  \n",
      "4      107.0  7.027778  3.861111  \n",
      "..       ...       ...       ...  \n",
      "314     75.0  4.555556  2.555556  \n",
      "315     94.0  7.756944  3.791667  \n",
      "316     68.0  3.694444  2.388889  \n",
      "317    113.0  7.527778  4.361111  \n",
      "318     96.0  6.166667  3.527778  \n",
      "\n",
      "[319 rows x 1613 columns]\n"
     ]
    }
   ],
   "source": [
    "from mordred import Calculator, descriptors\n",
    "from rdkit import Chem\n",
    "\n",
    "smiles_list = df['Canonical_SMILES']\n",
    "\n",
    "calc = Calculator(descriptors, ignore_3D=True)  # 2D descriptors only\n",
    "molecules = [Chem.MolFromSmiles(smiles) for smiles in smiles_list]\n",
    "desc_df = calc.pandas(molecules)\n",
    "\n",
    "print(desc_df)"
   ]
  },
  {
   "cell_type": "code",
   "execution_count": 6,
   "metadata": {},
   "outputs": [],
   "source": [
    "desc_df.to_csv('desc_df.csv', index=False)"
   ]
  },
  {
   "cell_type": "markdown",
   "metadata": {},
   "source": [
    "Only numerical descriptors are retained, as categorical variables (e.g., molecule names) are not useful for regression models."
   ]
  },
  {
   "cell_type": "code",
   "execution_count": 7,
   "metadata": {},
   "outputs": [
    {
     "data": {
      "text/plain": [
       "(319, 1221)"
      ]
     },
     "execution_count": 7,
     "metadata": {},
     "output_type": "execute_result"
    }
   ],
   "source": [
    "desc_num = desc_df.select_dtypes(include='number')\n",
    "desc_num.shape"
   ]
  },
  {
   "cell_type": "markdown",
   "metadata": {},
   "source": [
    "Features with very little variation across the dataset do not provide much distinguishing power for predicting solubility. For example, if a descriptor has nearly the same value for all molecules, it is unlikely to be useful in the model. Therefore, descriptors with little variation across molecules (variance ≤ 0.1) were removed from the dataset."
   ]
  },
  {
   "cell_type": "code",
   "execution_count": 9,
   "metadata": {},
   "outputs": [
    {
     "data": {
      "text/plain": [
       "(319, 725)"
      ]
     },
     "execution_count": 9,
     "metadata": {},
     "output_type": "execute_result"
    }
   ],
   "source": [
    "from sklearn.feature_selection import VarianceThreshold\n",
    "\n",
    "vt = VarianceThreshold(threshold=0.1)\n",
    "vt.fit(desc_num)\n",
    "mask = vt.get_support()\n",
    "desc_vt = desc_num.loc[:, mask]\n",
    "\n",
    "desc_vt.shape"
   ]
  },
  {
   "cell_type": "markdown",
   "metadata": {},
   "source": [
    "Some molecular descriptors may carry redundant information, i.e. they are highly correlated with one another. Including multiple highly correlated features in a regression model can cause **multicollinearity**, which reduces model stability and interpretability. For this reason, descriptors that are highly correlated (|r| > 0.8) were eliminated from the dataset."
   ]
  },
  {
   "cell_type": "code",
   "execution_count": null,
   "metadata": {},
   "outputs": [
    {
     "data": {
      "text/plain": [
       "558"
      ]
     },
     "execution_count": 12,
     "metadata": {},
     "output_type": "execute_result"
    }
   ],
   "source": [
    "corr_features = set()\n",
    "corr_matrix = desc_vt.corr()\n",
    "\n",
    "for i in range(len(corr_matrix.columns)):\n",
    "    for j in range(i):\n",
    "        if abs(corr_matrix.iloc[i, j]) > 0.8:\n",
    "            colname = corr_matrix.columns[i]\n",
    "            corr_features.add(colname)\n",
    "\n",
    "len(corr_features)"
   ]
  },
  {
   "cell_type": "code",
   "execution_count": null,
   "metadata": {},
   "outputs": [
    {
     "name": "stderr",
     "output_type": "stream",
     "text": [
      "C:\\Users\\chp11\\AppData\\Local\\Temp\\ipykernel_16124\\3422776969.py:1: SettingWithCopyWarning: \n",
      "A value is trying to be set on a copy of a slice from a DataFrame\n",
      "\n",
      "See the caveats in the documentation: https://pandas.pydata.org/pandas-docs/stable/user_guide/indexing.html#returning-a-view-versus-a-copy\n",
      "  desc_reduced.drop(labels=corr_features, axis=1, inplace=True)\n"
     ]
    },
    {
     "data": {
      "text/plain": [
       "(319, 167)"
      ]
     },
     "execution_count": 13,
     "metadata": {},
     "output_type": "execute_result"
    }
   ],
   "source": [
    "desc_reduced = desc_vt.drop(labels=corr_features, axis=1, inplace=True)\n",
    "\n",
    "desc_reduced.shape"
   ]
  },
  {
   "cell_type": "markdown",
   "metadata": {},
   "source": [
    "The descriptor **\"FilterItLogS\"** was explicitly removed from the dataset to ensure that the model remains independent and does not rely on precomputed solubility values from another ML model (FilterIt)."
   ]
  },
  {
   "cell_type": "code",
   "execution_count": 14,
   "metadata": {},
   "outputs": [
    {
     "name": "stderr",
     "output_type": "stream",
     "text": [
      "C:\\Users\\chp11\\AppData\\Local\\Temp\\ipykernel_16124\\4222013278.py:1: SettingWithCopyWarning: \n",
      "A value is trying to be set on a copy of a slice from a DataFrame\n",
      "\n",
      "See the caveats in the documentation: https://pandas.pydata.org/pandas-docs/stable/user_guide/indexing.html#returning-a-view-versus-a-copy\n",
      "  desc_reduced.drop('FilterItLogS', axis=1, inplace=True)\n"
     ]
    },
    {
     "data": {
      "text/plain": [
       "(319, 166)"
      ]
     },
     "execution_count": 14,
     "metadata": {},
     "output_type": "execute_result"
    }
   ],
   "source": [
    "desc_reduced.drop('FilterItLogS', axis=1, inplace=True)\n",
    "\n",
    "desc_reduced.shape"
   ]
  },
  {
   "cell_type": "code",
   "execution_count": 15,
   "metadata": {},
   "outputs": [
    {
     "data": {
      "text/html": [
       "<div>\n",
       "<style scoped>\n",
       "    .dataframe tbody tr th:only-of-type {\n",
       "        vertical-align: middle;\n",
       "    }\n",
       "\n",
       "    .dataframe tbody tr th {\n",
       "        vertical-align: top;\n",
       "    }\n",
       "\n",
       "    .dataframe thead th {\n",
       "        text-align: right;\n",
       "    }\n",
       "</style>\n",
       "<table border=\"1\" class=\"dataframe\">\n",
       "  <thead>\n",
       "    <tr style=\"text-align: right;\">\n",
       "      <th></th>\n",
       "      <th>nAcid</th>\n",
       "      <th>nBase</th>\n",
       "      <th>SpAbs_A</th>\n",
       "      <th>VR1_A</th>\n",
       "      <th>nAromAtom</th>\n",
       "      <th>nBridgehead</th>\n",
       "      <th>nHetero</th>\n",
       "      <th>nN</th>\n",
       "      <th>nO</th>\n",
       "      <th>nS</th>\n",
       "      <th>...</th>\n",
       "      <th>nAHRing</th>\n",
       "      <th>n5AHRing</th>\n",
       "      <th>nFRing</th>\n",
       "      <th>n9FRing</th>\n",
       "      <th>n10FRing</th>\n",
       "      <th>nG12FRing</th>\n",
       "      <th>nFHRing</th>\n",
       "      <th>nFaRing</th>\n",
       "      <th>nFARing</th>\n",
       "      <th>nFAHRing</th>\n",
       "    </tr>\n",
       "  </thead>\n",
       "  <tbody>\n",
       "    <tr>\n",
       "      <th>0</th>\n",
       "      <td>0</td>\n",
       "      <td>0</td>\n",
       "      <td>10.891331</td>\n",
       "      <td>26.623093</td>\n",
       "      <td>6</td>\n",
       "      <td>0</td>\n",
       "      <td>3</td>\n",
       "      <td>0</td>\n",
       "      <td>0</td>\n",
       "      <td>0</td>\n",
       "      <td>...</td>\n",
       "      <td>0</td>\n",
       "      <td>0</td>\n",
       "      <td>0</td>\n",
       "      <td>0</td>\n",
       "      <td>0</td>\n",
       "      <td>0</td>\n",
       "      <td>0</td>\n",
       "      <td>0</td>\n",
       "      <td>0</td>\n",
       "      <td>0</td>\n",
       "    </tr>\n",
       "    <tr>\n",
       "      <th>1</th>\n",
       "      <td>0</td>\n",
       "      <td>0</td>\n",
       "      <td>10.128990</td>\n",
       "      <td>26.528645</td>\n",
       "      <td>6</td>\n",
       "      <td>0</td>\n",
       "      <td>3</td>\n",
       "      <td>0</td>\n",
       "      <td>0</td>\n",
       "      <td>0</td>\n",
       "      <td>...</td>\n",
       "      <td>0</td>\n",
       "      <td>0</td>\n",
       "      <td>0</td>\n",
       "      <td>0</td>\n",
       "      <td>0</td>\n",
       "      <td>0</td>\n",
       "      <td>0</td>\n",
       "      <td>0</td>\n",
       "      <td>0</td>\n",
       "      <td>0</td>\n",
       "    </tr>\n",
       "    <tr>\n",
       "      <th>2</th>\n",
       "      <td>0</td>\n",
       "      <td>0</td>\n",
       "      <td>9.924777</td>\n",
       "      <td>22.227825</td>\n",
       "      <td>6</td>\n",
       "      <td>0</td>\n",
       "      <td>2</td>\n",
       "      <td>0</td>\n",
       "      <td>0</td>\n",
       "      <td>0</td>\n",
       "      <td>...</td>\n",
       "      <td>0</td>\n",
       "      <td>0</td>\n",
       "      <td>0</td>\n",
       "      <td>0</td>\n",
       "      <td>0</td>\n",
       "      <td>0</td>\n",
       "      <td>0</td>\n",
       "      <td>0</td>\n",
       "      <td>0</td>\n",
       "      <td>0</td>\n",
       "    </tr>\n",
       "    <tr>\n",
       "      <th>3</th>\n",
       "      <td>0</td>\n",
       "      <td>0</td>\n",
       "      <td>28.895827</td>\n",
       "      <td>172.520252</td>\n",
       "      <td>6</td>\n",
       "      <td>0</td>\n",
       "      <td>2</td>\n",
       "      <td>0</td>\n",
       "      <td>2</td>\n",
       "      <td>0</td>\n",
       "      <td>...</td>\n",
       "      <td>0</td>\n",
       "      <td>0</td>\n",
       "      <td>1</td>\n",
       "      <td>0</td>\n",
       "      <td>0</td>\n",
       "      <td>1</td>\n",
       "      <td>0</td>\n",
       "      <td>0</td>\n",
       "      <td>1</td>\n",
       "      <td>0</td>\n",
       "    </tr>\n",
       "    <tr>\n",
       "      <th>4</th>\n",
       "      <td>0</td>\n",
       "      <td>0</td>\n",
       "      <td>21.323572</td>\n",
       "      <td>128.527091</td>\n",
       "      <td>9</td>\n",
       "      <td>0</td>\n",
       "      <td>6</td>\n",
       "      <td>4</td>\n",
       "      <td>2</td>\n",
       "      <td>0</td>\n",
       "      <td>...</td>\n",
       "      <td>0</td>\n",
       "      <td>0</td>\n",
       "      <td>1</td>\n",
       "      <td>1</td>\n",
       "      <td>0</td>\n",
       "      <td>0</td>\n",
       "      <td>1</td>\n",
       "      <td>1</td>\n",
       "      <td>0</td>\n",
       "      <td>0</td>\n",
       "    </tr>\n",
       "  </tbody>\n",
       "</table>\n",
       "<p>5 rows × 166 columns</p>\n",
       "</div>"
      ],
      "text/plain": [
       "   nAcid  nBase    SpAbs_A       VR1_A  nAromAtom  nBridgehead  nHetero  nN  \\\n",
       "0      0      0  10.891331   26.623093          6            0        3   0   \n",
       "1      0      0  10.128990   26.528645          6            0        3   0   \n",
       "2      0      0   9.924777   22.227825          6            0        2   0   \n",
       "3      0      0  28.895827  172.520252          6            0        2   0   \n",
       "4      0      0  21.323572  128.527091          9            0        6   4   \n",
       "\n",
       "   nO  nS  ...  nAHRing  n5AHRing  nFRing  n9FRing  n10FRing  nG12FRing  \\\n",
       "0   0   0  ...        0         0       0        0         0          0   \n",
       "1   0   0  ...        0         0       0        0         0          0   \n",
       "2   0   0  ...        0         0       0        0         0          0   \n",
       "3   2   0  ...        0         0       1        0         0          1   \n",
       "4   2   0  ...        0         0       1        1         0          0   \n",
       "\n",
       "   nFHRing  nFaRing  nFARing  nFAHRing  \n",
       "0        0        0        0         0  \n",
       "1        0        0        0         0  \n",
       "2        0        0        0         0  \n",
       "3        0        0        1         0  \n",
       "4        1        1        0         0  \n",
       "\n",
       "[5 rows x 166 columns]"
      ]
     },
     "execution_count": 15,
     "metadata": {},
     "output_type": "execute_result"
    }
   ],
   "source": [
    "desc_reduced.head()"
   ]
  },
  {
   "cell_type": "markdown",
   "metadata": {},
   "source": [
    "The final version of the reduced dataframe of calculated descriptors was saved as a CSV file for later use."
   ]
  },
  {
   "cell_type": "code",
   "execution_count": 16,
   "metadata": {},
   "outputs": [],
   "source": [
    "desc_reduced.to_csv('desc_reduced.csv', index=False)"
   ]
  },
  {
   "cell_type": "code",
   "execution_count": 51,
   "metadata": {},
   "outputs": [],
   "source": [
    "desc_reduced = pd.read_csv('desc_reduced.csv', sep=',') "
   ]
  },
  {
   "cell_type": "markdown",
   "metadata": {},
   "source": [
    "### ML Models for logS Prediction\n",
    "\n",
    "To develop predictive models for LogS, the dataset was randomly split into **80% training** and **20% test** sets to evaluate model performance on unseen data. The training set is used to fit the models, while the test set assesses their generalization ability."
   ]
  },
  {
   "cell_type": "code",
   "execution_count": 52,
   "metadata": {},
   "outputs": [],
   "source": [
    "from sklearn.model_selection import train_test_split\n",
    "\n",
    "X = desc_reduced\n",
    "y = df['logS']\n",
    "\n",
    "X_train, X_test, y_train, y_test = train_test_split(X, y, test_size=0.2,random_state=42)"
   ]
  },
  {
   "cell_type": "markdown",
   "metadata": {},
   "source": [
    "Before fitting the dataset to the ML models, a function was created to generate scatter plots illustrating the relationship between experimental and predicted LogS values while also summarizing model performance using various metrics, including R-squared (R²), Root Mean Squared Error (RMSE), and Mean Absolute Error (MAE)."
   ]
  },
  {
   "cell_type": "code",
   "execution_count": 3,
   "metadata": {},
   "outputs": [],
   "source": [
    "from sklearn.metrics import r2_score as r2, root_mean_squared_error as rmse, mean_absolute_error as mae\n",
    "import numpy as np\n",
    "import matplotlib.pyplot as plt\n",
    "%matplotlib inline\n",
    "\n",
    "def model_eval(reg):\n",
    "    y_pred_train, y_pred_test = reg.predict(X_train), reg.predict(X_test)\n",
    "\n",
    "    plt.figure(figsize=(7,3))\n",
    "\n",
    "    # Plot 1: Training Dataset\n",
    "    plt.subplot(1, 2, 1)\n",
    "    plt.scatter(x=y_train, y=y_pred_train, c=\"#7CAE00\", alpha=1)\n",
    "\n",
    "    z = np.polyfit(y_train, y_pred_train, 1)\n",
    "    p = np.poly1d(z)\n",
    "    plt.plot(y_test, p(y_test), \"#F8766D\")\n",
    "\n",
    "    plt.title(\"Training Dataset\", fontsize=11)\n",
    "    plt.xlabel('Experimental LogS', fontsize=10)\n",
    "    plt.ylabel('Predicted LogS', fontsize=10)\n",
    "\n",
    "    # Plot 2: Test Dataset\n",
    "    plt.subplot(1, 2, 2)\n",
    "    plt.scatter(x=y_test, y=y_pred_test, c=\"#619CFF\", alpha=1)\n",
    "\n",
    "    z = np.polyfit(y_test, y_pred_test, 1)\n",
    "    p = np.poly1d(z)\n",
    "    plt.plot(y_test, p(y_test), \"#F8766D\")\n",
    "\n",
    "    plt.title(\"Test Dataset\", fontsize=11)\n",
    "    plt.ylabel('Predicted LogS', fontsize=10)\n",
    "    plt.xlabel('Experimental LogS', fontsize=10)\n",
    "\n",
    "    plt.tight_layout()\n",
    "    plt.show()\n",
    "\n",
    "    # Model Evaluation: R², RMSE and MAE\n",
    "    metrics = {\n",
    "        \"Dataset\": [\"Training\", \"Test\"],\n",
    "        \"R²\": [r2(y_train, y_pred_train), r2(y_test, y_pred_test)],\n",
    "        \"RMSE\": [rmse(y_train, y_pred_train), rmse(y_test, y_pred_test)],\n",
    "        \"MAE\": [mae(y_train, y_pred_train), mae(y_test, y_pred_test)]\n",
    "    }\n",
    "    \n",
    "    return pd.DataFrame(metrics).round(4)"
   ]
  },
  {
   "cell_type": "markdown",
   "metadata": {},
   "source": [
    "**Multiple Linear Regression (MLR) model** was trained using the training dataset, and LogS values were predicted using this model. The scatter plot for the training dataset (left) shows a strong correlation between experimental and predicted LogS values, with data points closely aligned with the diagonal line (y = x). This is confirmed by the high R² (0.9447) and low error metrics, indicating that the model fits the training data well.\n",
    "\n",
    "The model was then used to predict LogS values for the test dataset, where performance dropped significantly (R² = -0.9741). A negative R² indicates that the model performs worse than simply predicting the mean of the target variable. The high RMSE and MAE suggest large prediction errors, which are also evident from the scattered data points in the scatter plot for the test dataset (right).\n",
    "\n",
    "This stark contrast between training and test performance suggests that the model is **overfitting**—it has learned patterns too specific to the training data and does not generalize well to new data."
   ]
  },
  {
   "cell_type": "code",
   "execution_count": null,
   "metadata": {},
   "outputs": [
    {
     "data": {
      "image/png": "[encoded data removed]",
      "text/plain": [
       "<Figure size 700x300 with 2 Axes>"
      ]
     },
     "metadata": {},
     "output_type": "display_data"
    },
    {
     "data": {
      "text/html": [
       "<div>\n",
       "<style scoped>\n",
       "    .dataframe tbody tr th:only-of-type {\n",
       "        vertical-align: middle;\n",
       "    }\n",
       "\n",
       "    .dataframe tbody tr th {\n",
       "        vertical-align: top;\n",
       "    }\n",
       "\n",
       "    .dataframe thead th {\n",
       "        text-align: right;\n",
       "    }\n",
       "</style>\n",
       "<table border=\"1\" class=\"dataframe\">\n",
       "  <thead>\n",
       "    <tr style=\"text-align: right;\">\n",
       "      <th></th>\n",
       "      <th>Dataset</th>\n",
       "      <th>R²</th>\n",
       "      <th>RMSE</th>\n",
       "      <th>MAE</th>\n",
       "    </tr>\n",
       "  </thead>\n",
       "  <tbody>\n",
       "    <tr>\n",
       "      <th>0</th>\n",
       "      <td>Training</td>\n",
       "      <td>0.9447</td>\n",
       "      <td>0.3959</td>\n",
       "      <td>0.2893</td>\n",
       "    </tr>\n",
       "    <tr>\n",
       "      <th>1</th>\n",
       "      <td>Test</td>\n",
       "      <td>-0.9741</td>\n",
       "      <td>2.2722</td>\n",
       "      <td>1.3638</td>\n",
       "    </tr>\n",
       "  </tbody>\n",
       "</table>\n",
       "</div>"
      ],
      "text/plain": [
       "    Dataset      R²    RMSE     MAE\n",
       "0  Training  0.9447  0.3959  0.2893\n",
       "1      Test -0.9741  2.2722  1.3638"
      ]
     },
     "execution_count": 61,
     "metadata": {},
     "output_type": "execute_result"
    }
   ],
   "source": [
    "from sklearn import linear_model\n",
    "\n",
    "linear_reg = linear_model.LinearRegression()\n",
    "linear_reg.fit(X_train, y_train)\n",
    "model_eval(linear_reg)"
   ]
  },
  {
   "cell_type": "markdown",
   "metadata": {},
   "source": [
    "The same process was applied using the **Random Forest (RF) regression model**. In terms of the training dataset, the RF model outperforms the MLR model, achieving an R² of 0.9450. When evaluated on the test dataset, the RF model demonstrated significantly better generalization compared to the MLR model. However, the test dataset's R² of 0.6858 indicates that the model's performance is still suboptimal. The substantial difference between the training and test R² values suggests that RF model is also overfitting."
   ]
  },
  {
   "cell_type": "code",
   "execution_count": null,
   "metadata": {},
   "outputs": [
    {
     "data": {
      "image/png": "[encoded data removed]",
      "text/plain": [
       "<Figure size 700x300 with 2 Axes>"
      ]
     },
     "metadata": {},
     "output_type": "display_data"
    },
    {
     "data": {
      "text/html": [
       "<div>\n",
       "<style scoped>\n",
       "    .dataframe tbody tr th:only-of-type {\n",
       "        vertical-align: middle;\n",
       "    }\n",
       "\n",
       "    .dataframe tbody tr th {\n",
       "        vertical-align: top;\n",
       "    }\n",
       "\n",
       "    .dataframe thead th {\n",
       "        text-align: right;\n",
       "    }\n",
       "</style>\n",
       "<table border=\"1\" class=\"dataframe\">\n",
       "  <thead>\n",
       "    <tr style=\"text-align: right;\">\n",
       "      <th></th>\n",
       "      <th>Dataset</th>\n",
       "      <th>R²</th>\n",
       "      <th>RMSE</th>\n",
       "      <th>MAE</th>\n",
       "    </tr>\n",
       "  </thead>\n",
       "  <tbody>\n",
       "    <tr>\n",
       "      <th>0</th>\n",
       "      <td>Training</td>\n",
       "      <td>0.9450</td>\n",
       "      <td>0.3949</td>\n",
       "      <td>0.2746</td>\n",
       "    </tr>\n",
       "    <tr>\n",
       "      <th>1</th>\n",
       "      <td>Test</td>\n",
       "      <td>0.6858</td>\n",
       "      <td>0.9065</td>\n",
       "      <td>0.6518</td>\n",
       "    </tr>\n",
       "  </tbody>\n",
       "</table>\n",
       "</div>"
      ],
      "text/plain": [
       "    Dataset      R²    RMSE     MAE\n",
       "0  Training  0.9450  0.3949  0.2746\n",
       "1      Test  0.6858  0.9065  0.6518"
      ]
     },
     "execution_count": 62,
     "metadata": {},
     "output_type": "execute_result"
    }
   ],
   "source": [
    "from sklearn.ensemble import RandomForestRegressor\n",
    "\n",
    "rf_reg = RandomForestRegressor(n_estimators=100, random_state=42)\n",
    "rf_reg.fit(X_train, y_train)\n",
    "model_eval(rf_reg)"
   ]
  },
  {
   "cell_type": "markdown",
   "metadata": {},
   "source": [
    "To address the overfitting, **Variance Inflation Factor (VIF)** analysis was applied to reduce multicollinearity among descriptors. Since the number of descriptors (166) was relatively large compared to the dataset size (319), this step was taken to retain only independent features that contribute uniquely to the model. \n",
    "\n",
    "VIF values were calculated for all descriptors, and features with the highest VIF were iteratively removed until all remaining features had a VIF below the threshold of 10. As a result, the number of descriptors was reduced from 166 to 77, significantly lowering redundancy in the feature set. This reduction is expected to enhance model generalization by minimizing multicollinearity."
   ]
  },
  {
   "cell_type": "code",
   "execution_count": 21,
   "metadata": {},
   "outputs": [
    {
     "name": "stderr",
     "output_type": "stream",
     "text": [
      "c:\\Users\\chp11\\AppData\\Local\\Programs\\Python\\Python310\\lib\\site-packages\\statsmodels\\stats\\outliers_influence.py:197: RuntimeWarning: divide by zero encountered in scalar divide\n",
      "  vif = 1. / (1. - r_squared_i)\n"
     ]
    },
    {
     "name": "stdout",
     "output_type": "stream",
     "text": [
      "Removing: n5Ring (VIF=inf)\n"
     ]
    },
    {
     "name": "stderr",
     "output_type": "stream",
     "text": [
      "c:\\Users\\chp11\\AppData\\Local\\Programs\\Python\\Python310\\lib\\site-packages\\statsmodels\\stats\\outliers_influence.py:197: RuntimeWarning: divide by zero encountered in scalar divide\n",
      "  vif = 1. / (1. - r_squared_i)\n"
     ]
    },
    {
     "name": "stdout",
     "output_type": "stream",
     "text": [
      "Removing: nFRing (VIF=inf)\n",
      "Removing: AATS0se (VIF=332181.38)\n",
      "Removing: nHetero (VIF=199880.80)\n",
      "Removing: nAromAtom (VIF=29968.11)\n",
      "Removing: AATS0d (VIF=24027.61)\n",
      "Removing: SpAbs_A (VIF=19851.67)\n",
      "Removing: AATS0i (VIF=15418.18)\n",
      "Removing: nHBDon (VIF=7598.03)\n",
      "Removing: BCUTi-1h (VIF=5948.79)\n",
      "Removing: AATS0v (VIF=5266.28)\n",
      "Removing: AATS0dv (VIF=4131.52)\n",
      "Removing: StsC (VIF=3478.26)\n",
      "Removing: nO (VIF=3226.84)\n",
      "Removing: AATSC0dv (VIF=2797.22)\n",
      "Removing: nN (VIF=2501.95)\n",
      "Removing: C2SP2 (VIF=2162.66)\n",
      "Removing: BCUTd-1h (VIF=1859.85)\n",
      "Removing: IC1 (VIF=1305.37)\n",
      "Removing: ATSC1dv (VIF=1215.12)\n",
      "Removing: nHRing (VIF=1105.10)\n",
      "Removing: BCUTdv-1h (VIF=954.55)\n",
      "Removing: AATSC0i (VIF=915.49)\n",
      "Removing: AATS1Z (VIF=796.64)\n",
      "Removing: nBondsD (VIF=717.46)\n",
      "Removing: SlogP_VSA2 (VIF=672.89)\n",
      "Removing: BalabanJ (VIF=647.87)\n",
      "Removing: ATS0Z (VIF=433.58)\n",
      "Removing: VSA_EState1 (VIF=427.33)\n",
      "Removing: AATSC0v (VIF=391.07)\n",
      "Removing: NsCH3 (VIF=366.74)\n",
      "Removing: ETA_dBeta (VIF=302.81)\n",
      "Removing: PEOE_VSA1 (VIF=257.79)\n",
      "Removing: ZMIC1 (VIF=232.17)\n",
      "Removing: ATSC1s (VIF=195.58)\n",
      "Removing: NaasC (VIF=187.65)\n",
      "Removing: ATSC3d (VIF=170.48)\n",
      "Removing: ATSC2dv (VIF=157.43)\n",
      "Removing: ATSC4d (VIF=147.52)\n",
      "Removing: BCUTs-1l (VIF=140.14)\n",
      "Removing: ATSC7p (VIF=135.26)\n",
      "Removing: AATS0s (VIF=112.82)\n",
      "Removing: NddssS (VIF=103.37)\n",
      "Removing: GATS2c (VIF=102.18)\n",
      "Removing: nFaRing (VIF=98.23)\n",
      "Removing: ATSC2se (VIF=89.93)\n",
      "Removing: n6HRing (VIF=87.86)\n",
      "Removing: ATSC5dv (VIF=81.82)\n",
      "Removing: ATSC1v (VIF=73.05)\n",
      "Removing: SlogP_VSA1 (VIF=68.54)\n",
      "Removing: ATSC5d (VIF=62.88)\n",
      "Removing: ATSC2v (VIF=57.10)\n",
      "Removing: ATSC5p (VIF=54.69)\n",
      "Removing: nFHRing (VIF=52.95)\n",
      "Removing: NdssC (VIF=51.32)\n",
      "Removing: SMR_VSA6 (VIF=48.36)\n",
      "Removing: ATSC3v (VIF=46.20)\n",
      "Removing: ATSC6d (VIF=40.26)\n",
      "Removing: nFARing (VIF=37.80)\n",
      "Removing: ATSC4s (VIF=37.10)\n",
      "Removing: Xch-7d (VIF=35.82)\n",
      "Removing: nS (VIF=35.03)\n",
      "Removing: ATSC6v (VIF=33.25)\n",
      "Removing: NsOH (VIF=32.86)\n",
      "Removing: ATSC7dv (VIF=32.22)\n",
      "Removing: EState_VSA8 (VIF=31.34)\n",
      "Removing: VSA_EState7 (VIF=28.77)\n",
      "Removing: ATSC4dv (VIF=26.34)\n",
      "Removing: PEOE_VSA2 (VIF=24.63)\n",
      "Removing: SaasC (VIF=24.17)\n",
      "Removing: NaasN (VIF=21.48)\n",
      "Removing: ATSC5v (VIF=20.89)\n",
      "Removing: ATSC2s (VIF=19.65)\n",
      "Removing: ATSC3dv (VIF=19.09)\n",
      "Removing: VSA_EState4 (VIF=17.97)\n",
      "Removing: ATSC8v (VIF=17.57)\n",
      "Removing: PEOE_VSA3 (VIF=16.58)\n",
      "Removing: nAHRing (VIF=15.97)\n",
      "Removing: ETA_beta_ns_d (VIF=15.79)\n",
      "Removing: SlogP_VSA3 (VIF=15.44)\n",
      "Removing: NssNH (VIF=14.34)\n",
      "Removing: C1SP2 (VIF=14.19)\n",
      "Removing: C4SP3 (VIF=13.31)\n",
      "Removing: PEOE_VSA8 (VIF=12.57)\n",
      "Removing: SdssC (VIF=12.10)\n",
      "Removing: ATSC8dv (VIF=11.75)\n",
      "Removing: ATSC3c (VIF=11.35)\n",
      "Removing: C3SP2 (VIF=11.24)\n",
      "Removing: VSA_EState9 (VIF=10.25)\n",
      "\n",
      "Final feature set contains 77 descriptors:\n",
      "['nAcid', 'nBase', 'VR1_A', 'nBridgehead', 'nF', 'nCl', 'ATSC6dv', 'ATSC2d', 'ATSC7d', 'ATSC8d', 'ATSC3s', 'ATSC5s', 'ATSC6s', 'ATSC7s', 'ATSC8s', 'ATSC1Z', 'ATSC2Z', 'ATSC3Z', 'ATSC5Z', 'ATSC7Z', 'ATSC8Z', 'ATSC7v', 'ATSC1pe', 'ATSC2i', 'ATSC3i', 'ATSC5i', 'ATSC6i', 'ATSC7i', 'ATSC8i', 'AATSC4dv', 'AATSC3v', 'AATSC4v', 'BCUTdv-1l', 'C1SP3', 'NdsCH', 'NsssCH', 'NaaaC', 'NsNH2', 'NaaNH', 'NaaN', 'NsssN', 'NssO', 'SdCH2', 'StCH', 'SsssCH', 'SssssC', 'SdNH', 'StN', 'SdsN', 'SaaO', 'SdS', 'SssS', 'SsBr', 'PEOE_VSA4', 'PEOE_VSA5', 'PEOE_VSA6', 'PEOE_VSA9', 'PEOE_VSA10', 'PEOE_VSA11', 'PEOE_VSA12', 'PEOE_VSA13', 'SMR_VSA9', 'SlogP_VSA10', 'EState_VSA2', 'EState_VSA3', 'EState_VSA4', 'EState_VSA5', 'EState_VSA6', 'EState_VSA7', 'VSA_EState5', 'n5aRing', 'n5ARing', 'n5AHRing', 'n9FRing', 'n10FRing', 'nG12FRing', 'nFAHRing']\n"
     ]
    }
   ],
   "source": [
    "from statsmodels.stats.outliers_influence import variance_inflation_factor\n",
    "\n",
    "def calculate_vif(df):\n",
    "    vif_data = pd.DataFrame()\n",
    "    vif_data[\"Descriptor\"] = df.columns\n",
    "    vif_data[\"VIF\"] = [variance_inflation_factor(df.values, i) for i in range(df.shape[1])]\n",
    "    return vif_data\n",
    "\n",
    "desc_vif = desc_reduced.copy()\n",
    "\n",
    "# Iteratively remove features with high VIF\n",
    "threshold = 10  \n",
    "while True:\n",
    "    vif_df = calculate_vif(desc_vif)\n",
    "    max_vif = vif_df[\"VIF\"].max()\n",
    "    \n",
    "    if max_vif < threshold:  \n",
    "        break\n",
    "    \n",
    "    remove_col = vif_df.loc[vif_df[\"VIF\"] == max_vif, \"Descriptor\"].values[0]\n",
    "    print(f\"Removing: {remove_col} (VIF={max_vif:.2f})\")\n",
    "    \n",
    "    desc_vif = desc_vif.drop(columns=[remove_col])\n",
    "\n",
    "print(f\"\\nFinal feature set contains {desc_vif.shape[1]} descriptors:\")\n",
    "print(desc_vif.columns.tolist())"
   ]
  },
  {
   "cell_type": "code",
   "execution_count": 22,
   "metadata": {},
   "outputs": [],
   "source": [
    "desc_vif.to_csv('desc_vif.csv', index=False)"
   ]
  },
  {
   "cell_type": "code",
   "execution_count": 53,
   "metadata": {},
   "outputs": [],
   "source": [
    "desc_vif = pd.read_csv('desc_vif.csv', sep=',') "
   ]
  },
  {
   "cell_type": "code",
   "execution_count": 54,
   "metadata": {},
   "outputs": [],
   "source": [
    "X_vif = desc_vif\n",
    "y = df['logS']\n",
    "\n",
    "X_train, X_test, y_train, y_test = train_test_split(X_vif, y, test_size=0.2,random_state=42)"
   ]
  },
  {
   "cell_type": "markdown",
   "metadata": {},
   "source": [
    "After applying VIF-based feature selection, noticeable changes were observed in the performance of both the MLR and RF models.\n",
    "\n",
    "For the MLR model, the training R² dropped from 0.9450 to 0.8069, while the test R² improved significantly to 0.5343, indicating better generalization. However, despite this improvement, the test performance remained relatively poor, with RMSE (1.1036) and MAE (0.8400) still indicating substantial prediction errors. This suggests that while reducing multicollinearity improved generalization, linear regression may still struggle with capturing the underlying complexity of the data."
   ]
  },
  {
   "cell_type": "code",
   "execution_count": 55,
   "metadata": {},
   "outputs": [
    {
     "data": {
      "image/png": "[encoded data removed]",
      "text/plain": [
       "<Figure size 700x300 with 2 Axes>"
      ]
     },
     "metadata": {},
     "output_type": "display_data"
    },
    {
     "data": {
      "text/html": [
       "<div>\n",
       "<style scoped>\n",
       "    .dataframe tbody tr th:only-of-type {\n",
       "        vertical-align: middle;\n",
       "    }\n",
       "\n",
       "    .dataframe tbody tr th {\n",
       "        vertical-align: top;\n",
       "    }\n",
       "\n",
       "    .dataframe thead th {\n",
       "        text-align: right;\n",
       "    }\n",
       "</style>\n",
       "<table border=\"1\" class=\"dataframe\">\n",
       "  <thead>\n",
       "    <tr style=\"text-align: right;\">\n",
       "      <th></th>\n",
       "      <th>Dataset</th>\n",
       "      <th>R²</th>\n",
       "      <th>RMSE</th>\n",
       "      <th>MAE</th>\n",
       "    </tr>\n",
       "  </thead>\n",
       "  <tbody>\n",
       "    <tr>\n",
       "      <th>0</th>\n",
       "      <td>Training</td>\n",
       "      <td>0.8069</td>\n",
       "      <td>0.7401</td>\n",
       "      <td>0.5317</td>\n",
       "    </tr>\n",
       "    <tr>\n",
       "      <th>1</th>\n",
       "      <td>Test</td>\n",
       "      <td>0.5343</td>\n",
       "      <td>1.1036</td>\n",
       "      <td>0.8400</td>\n",
       "    </tr>\n",
       "  </tbody>\n",
       "</table>\n",
       "</div>"
      ],
      "text/plain": [
       "    Dataset      R²    RMSE     MAE\n",
       "0  Training  0.8069  0.7401  0.5317\n",
       "1      Test  0.5343  1.1036  0.8400"
      ]
     },
     "execution_count": 55,
     "metadata": {},
     "output_type": "execute_result"
    }
   ],
   "source": [
    "linear_reg_vif = linear_model.LinearRegression()\n",
    "linear_reg_vif.fit(X_train, y_train)\n",
    "model_eval(linear_reg_vif)"
   ]
  },
  {
   "cell_type": "markdown",
   "metadata": {},
   "source": [
    "In contrast to MLR, the RF model did not exhibit severe overfitting before VIF. After VIF, however, the test R² dropped to 0.5513, and both RMSE and MAE increased, i.e. the model’s predictive performance worsened. This suggests that random forests benefit from having a larger set of features and that some removed descriptors contained useful information that helped the model make better predictions. Unlike MLR, RF can handle multicollinearity well, so reducing correlated features may have inadvertently removed valuable signals from the dataset."
   ]
  },
  {
   "cell_type": "code",
   "execution_count": 56,
   "metadata": {},
   "outputs": [
    {
     "data": {
      "image/png": "[encoded data removed]",
      "text/plain": [
       "<Figure size 700x300 with 2 Axes>"
      ]
     },
     "metadata": {},
     "output_type": "display_data"
    },
    {
     "data": {
      "text/html": [
       "<div>\n",
       "<style scoped>\n",
       "    .dataframe tbody tr th:only-of-type {\n",
       "        vertical-align: middle;\n",
       "    }\n",
       "\n",
       "    .dataframe tbody tr th {\n",
       "        vertical-align: top;\n",
       "    }\n",
       "\n",
       "    .dataframe thead th {\n",
       "        text-align: right;\n",
       "    }\n",
       "</style>\n",
       "<table border=\"1\" class=\"dataframe\">\n",
       "  <thead>\n",
       "    <tr style=\"text-align: right;\">\n",
       "      <th></th>\n",
       "      <th>Dataset</th>\n",
       "      <th>R²</th>\n",
       "      <th>RMSE</th>\n",
       "      <th>MAE</th>\n",
       "    </tr>\n",
       "  </thead>\n",
       "  <tbody>\n",
       "    <tr>\n",
       "      <th>0</th>\n",
       "      <td>Training</td>\n",
       "      <td>0.9347</td>\n",
       "      <td>0.4305</td>\n",
       "      <td>0.3064</td>\n",
       "    </tr>\n",
       "    <tr>\n",
       "      <th>1</th>\n",
       "      <td>Test</td>\n",
       "      <td>0.5513</td>\n",
       "      <td>1.0833</td>\n",
       "      <td>0.7748</td>\n",
       "    </tr>\n",
       "  </tbody>\n",
       "</table>\n",
       "</div>"
      ],
      "text/plain": [
       "    Dataset      R²    RMSE     MAE\n",
       "0  Training  0.9347  0.4305  0.3064\n",
       "1      Test  0.5513  1.0833  0.7748"
      ]
     },
     "execution_count": 56,
     "metadata": {},
     "output_type": "execute_result"
    }
   ],
   "source": [
    "rf_reg_vif = RandomForestRegressor(n_estimators=100, random_state=42)\n",
    "rf_reg_vif.fit(X_train, y_train)\n",
    "model_eval(rf_reg_vif)"
   ]
  },
  {
   "cell_type": "markdown",
   "metadata": {},
   "source": [
    "The above ML model analyses demonstrate that a sufficiently large dataset is crucial for building reliable ML models, especially when a high number of features are involved. To improve the predictive performance and reduce overfitting, a larger dataset from another source was added to the original dataset. The new dataset was obtained from: \n",
    "\n",
    "[**Tayyebi, A., Alshami, A.S., Rabiei, Z. et al. Prediction of organic compound aqueous solubility using machine learning: a comparison study of descriptor-based and fingerprints-based models. J Cheminform 15, 99 (2023).**](https://doi.org/10.1186/s13321-023-00752-6) \n",
    "\n",
    "By expanding the dataset, the model was expected to generalize better and produce more robust predictions."
   ]
  },
  {
   "cell_type": "code",
   "execution_count": 45,
   "metadata": {},
   "outputs": [],
   "source": [
    "df2 = pd.read_csv('logS_dataset2.csv', sep=',') "
   ]
  },
  {
   "cell_type": "markdown",
   "metadata": {},
   "source": [
    "When merging the datasets, the absolute difference in LogS values was calculated for compounds present in both datasets. If this difference was equal to or greater than 0.1, the compound was removed from the dataset to ensure consistency in the experimental data. The final dataset contained 8750 compounds in total."
   ]
  },
  {
   "cell_type": "code",
   "execution_count": 46,
   "metadata": {},
   "outputs": [
    {
     "data": {
      "text/plain": [
       "(8753, 2)"
      ]
     },
     "execution_count": 46,
     "metadata": {},
     "output_type": "execute_result"
    }
   ],
   "source": [
    "df_filtered = df[~df[\"Canonical_SMILES\"].isin(df2[\"Canonical_SMILES\"])]\n",
    "df_new = pd.concat([df2, df_filtered[[\"Canonical_SMILES\", \"logS\"]]], ignore_index=True)\n",
    "\n",
    "df_new.shape"
   ]
  },
  {
   "cell_type": "code",
   "execution_count": 47,
   "metadata": {},
   "outputs": [
    {
     "data": {
      "text/html": [
       "<div>\n",
       "<style scoped>\n",
       "    .dataframe tbody tr th:only-of-type {\n",
       "        vertical-align: middle;\n",
       "    }\n",
       "\n",
       "    .dataframe tbody tr th {\n",
       "        vertical-align: top;\n",
       "    }\n",
       "\n",
       "    .dataframe thead th {\n",
       "        text-align: right;\n",
       "    }\n",
       "</style>\n",
       "<table border=\"1\" class=\"dataframe\">\n",
       "  <thead>\n",
       "    <tr style=\"text-align: right;\">\n",
       "      <th></th>\n",
       "      <th>Canonical_SMILES</th>\n",
       "      <th>logS_df</th>\n",
       "      <th>logS_df_new</th>\n",
       "      <th>logS_difference</th>\n",
       "    </tr>\n",
       "  </thead>\n",
       "  <tbody>\n",
       "    <tr>\n",
       "      <th>0</th>\n",
       "      <td>COC1=NC2=CN=CN=C2N=C1</td>\n",
       "      <td>-1.139</td>\n",
       "      <td>-1.025</td>\n",
       "      <td>-0.114</td>\n",
       "    </tr>\n",
       "    <tr>\n",
       "      <th>1</th>\n",
       "      <td>CN(C)C1=NC2=NC=NC=C2N=C1</td>\n",
       "      <td>-0.021</td>\n",
       "      <td>-0.020</td>\n",
       "      <td>-0.001</td>\n",
       "    </tr>\n",
       "    <tr>\n",
       "      <th>2</th>\n",
       "      <td>CCN(CC)C(=S)SSC(=S)N(CC)CC</td>\n",
       "      <td>-2.995</td>\n",
       "      <td>-4.860</td>\n",
       "      <td>1.865</td>\n",
       "    </tr>\n",
       "    <tr>\n",
       "      <th>3</th>\n",
       "      <td>CCC(CO)NCCNC(CC)CO</td>\n",
       "      <td>-0.565</td>\n",
       "      <td>0.550</td>\n",
       "      <td>-1.115</td>\n",
       "    </tr>\n",
       "  </tbody>\n",
       "</table>\n",
       "</div>"
      ],
      "text/plain": [
       "             Canonical_SMILES  logS_df  logS_df_new  logS_difference\n",
       "0       COC1=NC2=CN=CN=C2N=C1   -1.139       -1.025           -0.114\n",
       "1    CN(C)C1=NC2=NC=NC=C2N=C1   -0.021       -0.020           -0.001\n",
       "2  CCN(CC)C(=S)SSC(=S)N(CC)CC   -2.995       -4.860            1.865\n",
       "3          CCC(CO)NCCNC(CC)CO   -0.565        0.550           -1.115"
      ]
     },
     "execution_count": 47,
     "metadata": {},
     "output_type": "execute_result"
    }
   ],
   "source": [
    "df_merged = df.merge(df2, on=\"Canonical_SMILES\", suffixes=('_df', '_df_new'))\n",
    "df_merged[\"logS_difference\"] = df_merged[\"logS_df\"] - df_merged[\"logS_df_new\"]\n",
    "\n",
    "df_merged[[\"Canonical_SMILES\", \"logS_df\", \"logS_df_new\", \"logS_difference\"]]"
   ]
  },
  {
   "cell_type": "code",
   "execution_count": 48,
   "metadata": {},
   "outputs": [
    {
     "data": {
      "text/plain": [
       "(8750, 2)"
      ]
     },
     "execution_count": 48,
     "metadata": {},
     "output_type": "execute_result"
    }
   ],
   "source": [
    "to_remove = df_merged.loc[abs(df_merged[\"logS_difference\"]) >= 0.1, \"Canonical_SMILES\"]\n",
    "df_new = df_new[~df_new[\"Canonical_SMILES\"].isin(to_remove)]\n",
    "\n",
    "df_new.shape"
   ]
  },
  {
   "cell_type": "code",
   "execution_count": 49,
   "metadata": {},
   "outputs": [],
   "source": [
    "df_new.to_csv('logS_dataset_new.csv', index=False)"
   ]
  },
  {
   "cell_type": "code",
   "execution_count": 4,
   "metadata": {},
   "outputs": [],
   "source": [
    "df_new = pd.read_csv('logS_dataset_new.csv', sep=',') "
   ]
  },
  {
   "cell_type": "code",
   "execution_count": null,
   "metadata": {},
   "outputs": [
    {
     "data": {
      "text/plain": [
       "(8750, 1613)"
      ]
     },
     "execution_count": 55,
     "metadata": {},
     "output_type": "execute_result"
    }
   ],
   "source": [
    "smiles_list = df_new['Canonical_SMILES']\n",
    "\n",
    "calc = Calculator(descriptors, ignore_3D=True)  \n",
    "molecules = [Chem.MolFromSmiles(smiles) for smiles in smiles_list]\n",
    "desc_df2 = calc.pandas(molecules)\n",
    "\n",
    "desc_df2.shape"
   ]
  },
  {
   "cell_type": "code",
   "execution_count": null,
   "metadata": {},
   "outputs": [],
   "source": [
    "desc_df2.to_csv('desc_df2.csv', index=False)"
   ]
  },
  {
   "cell_type": "code",
   "execution_count": null,
   "metadata": {},
   "outputs": [],
   "source": [
    "desc_df2 = pd.read_csv('desc_df2.csv', sep=',') "
   ]
  },
  {
   "cell_type": "markdown",
   "metadata": {},
   "source": [
    "Following dataset expansion, Mordred descriptors were recalculated for all compounds in the combined dataset, and the same preprocessing steps were applied as earlier."
   ]
  },
  {
   "cell_type": "code",
   "execution_count": null,
   "metadata": {},
   "outputs": [
    {
     "data": {
      "text/plain": [
       "(8750, 348)"
      ]
     },
     "execution_count": 58,
     "metadata": {},
     "output_type": "execute_result"
    }
   ],
   "source": [
    "# Remove categorical variables\n",
    "desc_new = desc_df2.select_dtypes(include='number')\n",
    "\n",
    "# Remove features with low variance\n",
    "vt = VarianceThreshold(threshold=0.1)\n",
    "vt.fit(desc_new)\n",
    "mask = vt.get_support()\n",
    "desc_new.loc[:, mask]\n",
    "\n",
    "# Remove highly correlated features\n",
    "corr_features = set()\n",
    "corr_matrix = desc_new.corr()\n",
    "\n",
    "for i in range(len(corr_matrix.columns)):\n",
    "    for j in range(i):\n",
    "        if abs(corr_matrix.iloc[i, j]) > 0.8:\n",
    "            colname = corr_matrix.columns[i]\n",
    "            corr_features.add(colname)\n",
    "\n",
    "desc_corr = desc_new.drop(labels=corr_features, axis=1, inplace=True)\n",
    "\n",
    "# Remove FilterItLogS descriptor\n",
    "desc_new.drop('FilterItLogS', axis=1, inplace=True)\n",
    "\n",
    "desc_new.shape"
   ]
  },
  {
   "cell_type": "code",
   "execution_count": 69,
   "metadata": {},
   "outputs": [],
   "source": [
    "desc_new.to_csv('desc_new.csv', index=False)"
   ]
  },
  {
   "cell_type": "code",
   "execution_count": 5,
   "metadata": {},
   "outputs": [],
   "source": [
    "desc_new = pd.read_csv('desc_new.csv', sep=',') "
   ]
  },
  {
   "cell_type": "code",
   "execution_count": 8,
   "metadata": {},
   "outputs": [],
   "source": [
    "from sklearn.model_selection import train_test_split\n",
    "\n",
    "X = desc_new\n",
    "y = df_new['logS']\n",
    "\n",
    "X_train, X_test, y_train, y_test = train_test_split(X, y, test_size=0.2,random_state=42)"
   ]
  },
  {
   "cell_type": "markdown",
   "metadata": {},
   "source": [
    "After training the MLR model on the expanded dataset, the performance significantly improved compared to the model trained on the smaller dataset. The training set achieved an R²of 0.8142, while the test set reached an R² of 0.7833, indicating a better generalization ability. However, upon examining the scatter plot for the test set, a single data point was found to be significantly distant from all others. This point was identified as an outlier and subsequently removed."
   ]
  },
  {
   "cell_type": "code",
   "execution_count": 9,
   "metadata": {},
   "outputs": [
    {
     "data": {
      "image/png": "[encoded data removed]",
      "text/plain": [
       "<Figure size 700x300 with 2 Axes>"
      ]
     },
     "metadata": {},
     "output_type": "display_data"
    },
    {
     "data": {
      "text/html": [
       "<div>\n",
       "<style scoped>\n",
       "    .dataframe tbody tr th:only-of-type {\n",
       "        vertical-align: middle;\n",
       "    }\n",
       "\n",
       "    .dataframe tbody tr th {\n",
       "        vertical-align: top;\n",
       "    }\n",
       "\n",
       "    .dataframe thead th {\n",
       "        text-align: right;\n",
       "    }\n",
       "</style>\n",
       "<table border=\"1\" class=\"dataframe\">\n",
       "  <thead>\n",
       "    <tr style=\"text-align: right;\">\n",
       "      <th></th>\n",
       "      <th>Dataset</th>\n",
       "      <th>R²</th>\n",
       "      <th>RMSE</th>\n",
       "      <th>MAE</th>\n",
       "    </tr>\n",
       "  </thead>\n",
       "  <tbody>\n",
       "    <tr>\n",
       "      <th>0</th>\n",
       "      <td>Training</td>\n",
       "      <td>0.8142</td>\n",
       "      <td>0.8052</td>\n",
       "      <td>0.6059</td>\n",
       "    </tr>\n",
       "    <tr>\n",
       "      <th>1</th>\n",
       "      <td>Test</td>\n",
       "      <td>0.7650</td>\n",
       "      <td>0.8731</td>\n",
       "      <td>0.6386</td>\n",
       "    </tr>\n",
       "  </tbody>\n",
       "</table>\n",
       "</div>"
      ],
      "text/plain": [
       "    Dataset      R²    RMSE     MAE\n",
       "0  Training  0.8142  0.8052  0.6059\n",
       "1      Test  0.7650  0.8731  0.6386"
      ]
     },
     "execution_count": 9,
     "metadata": {},
     "output_type": "execute_result"
    }
   ],
   "source": [
    "linear_reg = linear_model.LinearRegression()\n",
    "linear_reg.fit(X_train, y_train)\n",
    "model_eval(linear_reg)"
   ]
  },
  {
   "cell_type": "markdown",
   "metadata": {},
   "source": [
    "The outlier detection was based on residual analysis, where residuals exceeding ten times the standard deviation were considered outliers."
   ]
  },
  {
   "cell_type": "code",
   "execution_count": 10,
   "metadata": {},
   "outputs": [
    {
     "name": "stdout",
     "output_type": "stream",
     "text": [
      "[103]\n"
     ]
    }
   ],
   "source": [
    "y_pred_test = linear_reg.predict(X_test)  \n",
    "residuals = np.abs(y_test - y_pred_test)\n",
    "\n",
    "threshold = 10 * np.std(residuals)\n",
    "outlier_indices = np.where(residuals > threshold)[0]\n",
    "\n",
    "print(outlier_indices)"
   ]
  },
  {
   "cell_type": "code",
   "execution_count": 11,
   "metadata": {},
   "outputs": [],
   "source": [
    "X_test_filtered = np.delete(X_test, outlier_indices, axis=0)\n",
    "X_test = pd.DataFrame(X_test_filtered, columns=X_train.columns)\n",
    "y_test = np.delete(y_test, outlier_indices, axis=0)"
   ]
  },
  {
   "cell_type": "markdown",
   "metadata": {},
   "source": [
    "After eliminating the outlier, the test set performance improved slightly, but the overall gain was minor. Regardless, the expanded dataset led to a much better model performance compared to the model trained on the smaller dataset."
   ]
  },
  {
   "cell_type": "code",
   "execution_count": 12,
   "metadata": {},
   "outputs": [
    {
     "data": {
      "image/png": "[encoded data removed]",
      "text/plain": [
       "<Figure size 700x300 with 2 Axes>"
      ]
     },
     "metadata": {},
     "output_type": "display_data"
    },
    {
     "data": {
      "text/html": [
       "<div>\n",
       "<style scoped>\n",
       "    .dataframe tbody tr th:only-of-type {\n",
       "        vertical-align: middle;\n",
       "    }\n",
       "\n",
       "    .dataframe tbody tr th {\n",
       "        vertical-align: top;\n",
       "    }\n",
       "\n",
       "    .dataframe thead th {\n",
       "        text-align: right;\n",
       "    }\n",
       "</style>\n",
       "<table border=\"1\" class=\"dataframe\">\n",
       "  <thead>\n",
       "    <tr style=\"text-align: right;\">\n",
       "      <th></th>\n",
       "      <th>Dataset</th>\n",
       "      <th>R²</th>\n",
       "      <th>RMSE</th>\n",
       "      <th>MAE</th>\n",
       "    </tr>\n",
       "  </thead>\n",
       "  <tbody>\n",
       "    <tr>\n",
       "      <th>0</th>\n",
       "      <td>Training</td>\n",
       "      <td>0.8142</td>\n",
       "      <td>0.8052</td>\n",
       "      <td>0.6059</td>\n",
       "    </tr>\n",
       "    <tr>\n",
       "      <th>1</th>\n",
       "      <td>Test</td>\n",
       "      <td>0.7833</td>\n",
       "      <td>0.8384</td>\n",
       "      <td>0.6332</td>\n",
       "    </tr>\n",
       "  </tbody>\n",
       "</table>\n",
       "</div>"
      ],
      "text/plain": [
       "    Dataset      R²    RMSE     MAE\n",
       "0  Training  0.8142  0.8052  0.6059\n",
       "1      Test  0.7833  0.8384  0.6332"
      ]
     },
     "execution_count": 12,
     "metadata": {},
     "output_type": "execute_result"
    }
   ],
   "source": [
    "linear_reg = linear_model.LinearRegression()\n",
    "linear_reg.fit(X_train, y_train)\n",
    "model_eval(linear_reg)"
   ]
  },
  {
   "cell_type": "markdown",
   "metadata": {},
   "source": [
    "The RF model also showed substantial improvement with the larger dataset. The training set achieved an R² of 0.9815, while the test set performance reached an R² of 0.8784. The reduction in RMSE and MAE indicated a more accurate prediction capability. Compared to MLR, the RF model demonstrated superior performance, as reflected in the scatter plot, where the data points were more tightly clustered around the diagonal line. This suggests that RF captured the underlying patterns in the data more effectively than MLR.\n",
    "\n",
    "In conclusion, the RF model proved to be better suited for LogS prediction based on molecular descriptors. While MLR improved with the larger dataset, its predictive capability remained lower than RF. The superior performance of RF suggests that it is more capable of handling complex relationships between molecular descriptors and solubility, making it the preferred model for this task."
   ]
  },
  {
   "cell_type": "code",
   "execution_count": 13,
   "metadata": {},
   "outputs": [
    {
     "data": {
      "image/png": "[encoded data removed]",
      "text/plain": [
       "<Figure size 700x300 with 2 Axes>"
      ]
     },
     "metadata": {},
     "output_type": "display_data"
    },
    {
     "data": {
      "text/html": [
       "<div>\n",
       "<style scoped>\n",
       "    .dataframe tbody tr th:only-of-type {\n",
       "        vertical-align: middle;\n",
       "    }\n",
       "\n",
       "    .dataframe tbody tr th {\n",
       "        vertical-align: top;\n",
       "    }\n",
       "\n",
       "    .dataframe thead th {\n",
       "        text-align: right;\n",
       "    }\n",
       "</style>\n",
       "<table border=\"1\" class=\"dataframe\">\n",
       "  <thead>\n",
       "    <tr style=\"text-align: right;\">\n",
       "      <th></th>\n",
       "      <th>Dataset</th>\n",
       "      <th>R²</th>\n",
       "      <th>RMSE</th>\n",
       "      <th>MAE</th>\n",
       "    </tr>\n",
       "  </thead>\n",
       "  <tbody>\n",
       "    <tr>\n",
       "      <th>0</th>\n",
       "      <td>Training</td>\n",
       "      <td>0.9815</td>\n",
       "      <td>0.2543</td>\n",
       "      <td>0.1659</td>\n",
       "    </tr>\n",
       "    <tr>\n",
       "      <th>1</th>\n",
       "      <td>Test</td>\n",
       "      <td>0.8784</td>\n",
       "      <td>0.6279</td>\n",
       "      <td>0.4053</td>\n",
       "    </tr>\n",
       "  </tbody>\n",
       "</table>\n",
       "</div>"
      ],
      "text/plain": [
       "    Dataset      R²    RMSE     MAE\n",
       "0  Training  0.9815  0.2543  0.1659\n",
       "1      Test  0.8784  0.6279  0.4053"
      ]
     },
     "execution_count": 13,
     "metadata": {},
     "output_type": "execute_result"
    }
   ],
   "source": [
    "rf_reg = RandomForestRegressor(n_estimators=100, random_state=42)\n",
    "rf_reg.fit(X_train, y_train)\n",
    "model_eval(rf_reg)"
   ]
  },
  {
   "cell_type": "markdown",
   "metadata": {},
   "source": [
    "### Feature Importance Plots for LogS Prediction Models\n",
    "\n",
    "**MLR Coefficient Bar Plot** visualizes the top ten most influential features in the MLR model, based on their coefficients. The presence of both positive and negative coefficients indicates whether a feature contributes positively or negatively to the predicted logS values. Features with large absolute coefficients have a greater impact on the predictions, while those with near-zero coefficients contribute less significantly.\n",
    "\n",
    "- Features like Xch-3d have a strong positive influence, meaning an increase in this descriptor leads to an increase in predicted logS values.\n",
    "- Conversely, features like nI have large negative coefficients, suggesting they negatively correlate with solubility.\n",
    "- The presence of both large positive and negative coefficients suggests that the model is attempting to fit the data using linear relationships, but may struggle with non-linearity in feature interactions."
   ]
  },
  {
   "cell_type": "code",
   "execution_count": 77,
   "metadata": {},
   "outputs": [
    {
     "data": {
      "image/png": "[encoded data removed]",
      "text/plain": [
       "<Figure size 700x400 with 1 Axes>"
      ]
     },
     "metadata": {},
     "output_type": "display_data"
    }
   ],
   "source": [
    "feature_names = X_train.columns\n",
    "coefficients = linear_reg.coef_\n",
    "\n",
    "sorted_indices = np.argsort(np.abs(coefficients))[::-1][:10]  # Top 10 features\n",
    "top_features = feature_names[sorted_indices]\n",
    "top_coefficients = coefficients[sorted_indices]\n",
    "\n",
    "plt.figure(figsize=(7, 4))\n",
    "plt.barh(top_features[::-1], top_coefficients[::-1])  \n",
    "plt.xlabel(\"MLR Coefficient Value\")\n",
    "plt.axvline(0, color='black', linestyle='--', linewidth=1)  \n",
    "plt.show()"
   ]
  },
  {
   "cell_type": "markdown",
   "metadata": {},
   "source": [
    "**SHAP (SHapley Additive exPlanations)** is a powerful interpretability method used to explain the predictions of machine learning models. It is based on game theory, where each feature in a model is treated as a \"player\" that contributes to the final prediction. SHAP values quantify how much each feature contributes—positively or negatively—to an individual prediction, providing insight into the model’s decision-making process."
   ]
  },
  {
   "cell_type": "code",
   "execution_count": 14,
   "metadata": {},
   "outputs": [],
   "source": [
    "import shap\n",
    "\n",
    "explainer = shap.Explainer(rf_reg)\n",
    "shap_values = explainer(X_test)"
   ]
  },
  {
   "cell_type": "markdown",
   "metadata": {},
   "source": [
    "**Mean SHAP Value Bar Plot** illustrates the average impact of each feature on the RF model's predictions. Unlike MLR, which assigns a fixed coefficient to each feature, SHAP values account for non-linear interactions between features.\n",
    "\n",
    "- PEOE_VSA6 and ECIndex are the most influential descriptors, contributing significantly to the model’s predictions.\n",
    "- Compared to MLR, RF considers more complex interactions between features, leading to a different ranking of important descriptors.\n",
    "- Features with higher SHAP values exert a greater influence on predicted logS values, making them key descriptors for understanding solubility trends."
   ]
  },
  {
   "cell_type": "code",
   "execution_count": 74,
   "metadata": {},
   "outputs": [
    {
     "data": {
      "image/png": "[encoded data removed]",
      "text/plain": [
       "<Figure size 700x400 with 1 Axes>"
      ]
     },
     "metadata": {},
     "output_type": "display_data"
    }
   ],
   "source": [
    "shap.summary_plot(shap_values, X_test, plot_type=\"bar\", show=False, max_display=10, plot_size=[7,4])\n",
    "\n",
    "fig, ax = plt.gcf(), plt.gca()\n",
    "ax.set_xlabel('Mean SHAP value', fontdict={\"size\":10})\n",
    "ax.tick_params(labelsize=10)"
   ]
  },
  {
   "cell_type": "markdown",
   "metadata": {},
   "source": [
    "**SHAP Value Scatter Plot** provides a more detailed view of how each descriptor affects individual predictions. Features are ranked based on their importance, and the color gradient represents feature values (high in red, low in blue).\n",
    "\n",
    "- Features like PEOE_VSA6 show a wide spread of SHAP values, indicating that their impact varies significantly across different data points.\n",
    "- A positive SHAP value suggests that a high feature value increases the predicted logS, while a negative SHAP value indicates a decrease in logS.\n",
    "- The distribution of SHAP values across different feature values highlights the complex, non-linear dependencies captured by the RF model, which MLR cannot model effectively."
   ]
  },
  {
   "cell_type": "code",
   "execution_count": null,
   "metadata": {},
   "outputs": [
    {
     "data": {
      "image/png": "[encoded data removed]",
      "text/plain": [
       "<Figure size 700x400 with 2 Axes>"
      ]
     },
     "metadata": {},
     "output_type": "display_data"
    }
   ],
   "source": [
    "shap.summary_plot(shap_values, plot_type=\"dot\", show=False, max_display=10, plot_size=[7,4])\n",
    "\n",
    "fig, ax = plt.gcf(), plt.gca()\n",
    "ax.set_xlabel('SHAP value', fontdict={\"size\":10})\n",
    "ax.tick_params(labelsize=10)"
   ]
  },
  {
   "cell_type": "markdown",
   "metadata": {},
   "source": [
    "**Comparison of MLR and RF Models**\n",
    "\n",
    "- The MLR model assigns fixed coefficients to each feature, making it easier to interpret but limiting its ability to model complex interactions.\n",
    "- The RF model provides more flexibility by capturing non-linear relationships, as demonstrated by the variation in SHAP values.\n",
    "- The SHAP-based analysis shows that RF is more robust in handling feature dependencies, resulting in higher predictive performance compared to MLR."
   ]
  }
 ],
 "metadata": {
  "kernelspec": {
   "display_name": "Python 3",
   "language": "python",
   "name": "python3"
  },
  "language_info": {
   "codemirror_mode": {
    "name": "ipython",
    "version": 3
   },
   "file_extension": ".py",
   "mimetype": "text/x-python",
   "name": "python",
   "nbconvert_exporter": "python",
   "pygments_lexer": "ipython3",
   "version": "3.10.4"
  }
 },
 "nbformat": 4,
 "nbformat_minor": 2
}
