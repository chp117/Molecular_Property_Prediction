{
 "cells": [
  {
   "cell_type": "markdown",
   "metadata": {},
   "source": [
    "## Molecular Property Prediction"
   ]
  },
  {
   "cell_type": "markdown",
   "metadata": {},
   "source": [
    "Molecular property prediction plays a crucial role in drug discovery by enabling the estimation of key characteristics, such as solubility, permeability, and bioavailability, without extensive experimental efforts. These predictions help prioritize compounds for synthesis and testing, saving time and resources.\n",
    "\n",
    "This project utilizes the following tools:\n",
    "- **RDKit**: A cheminformatics library for handling chemical information and generating molecular descriptors.\n",
    "- **Mordred**: A Python library for calculating thousands of molecular descriptors from chemical structures.\n",
    "\n",
    "#### Objectives of this Project:\n",
    "- Predict aqueous solubility (logS) values of small drug-like molecules.\n",
    "- Build a regression model using experimental data and molecular descriptors.\n",
    "- Visualize relationships between descriptors and solubility values."
   ]
  },
  {
   "cell_type": "code",
   "execution_count": 1,
   "metadata": {},
   "outputs": [
    {
     "name": "stdout",
     "output_type": "stream",
     "text": [
      "Requirement already satisfied: requests in c:\\users\\chp11\\appdata\\local\\programs\\python\\python310\\lib\\site-packages (2.32.3)\n",
      "Requirement already satisfied: charset-normalizer<4,>=2 in c:\\users\\chp11\\appdata\\local\\programs\\python\\python310\\lib\\site-packages (from requests) (3.4.0)\n",
      "Requirement already satisfied: idna<4,>=2.5 in c:\\users\\chp11\\appdata\\local\\programs\\python\\python310\\lib\\site-packages (from requests) (3.10)\n",
      "Requirement already satisfied: urllib3<3,>=1.21.1 in c:\\users\\chp11\\appdata\\local\\programs\\python\\python310\\lib\\site-packages (from requests) (2.2.3)\n",
      "Requirement already satisfied: certifi>=2017.4.17 in c:\\users\\chp11\\appdata\\local\\programs\\python\\python310\\lib\\site-packages (from requests) (2024.8.30)\n",
      "Note: you may need to restart the kernel to use updated packages.\n",
      "Requirement already satisfied: pandas in c:\\users\\chp11\\appdata\\local\\programs\\python\\python310\\lib\\site-packages (2.2.3)Note: you may need to restart the kernel to use updated packages.\n",
      "\n",
      "Requirement already satisfied: numpy>=1.22.4 in c:\\users\\chp11\\appdata\\local\\programs\\python\\python310\\lib\\site-packages (from pandas) (1.26.3)\n",
      "Requirement already satisfied: python-dateutil>=2.8.2 in c:\\users\\chp11\\appdata\\roaming\\python\\python310\\site-packages (from pandas) (2.8.2)\n",
      "Requirement already satisfied: pytz>=2020.1 in c:\\users\\chp11\\appdata\\local\\programs\\python\\python310\\lib\\site-packages (from pandas) (2024.2)\n",
      "Requirement already satisfied: tzdata>=2022.7 in c:\\users\\chp11\\appdata\\local\\programs\\python\\python310\\lib\\site-packages (from pandas) (2024.2)\n",
      "Requirement already satisfied: six>=1.5 in c:\\users\\chp11\\appdata\\roaming\\python\\python310\\site-packages (from python-dateutil>=2.8.2->pandas) (1.16.0)\n",
      "Requirement already satisfied: mordred in c:\\users\\chp11\\appdata\\local\\programs\\python\\python310\\lib\\site-packages (1.2.0)\n",
      "Requirement already satisfied: six==1.* in c:\\users\\chp11\\appdata\\roaming\\python\\python310\\site-packages (from mordred) (1.16.0)\n",
      "Requirement already satisfied: numpy==1.* in c:\\users\\chp11\\appdata\\local\\programs\\python\\python310\\lib\\site-packages (from mordred) (1.26.3)\n",
      "Requirement already satisfied: networkx==2.* in c:\\users\\chp11\\appdata\\local\\programs\\python\\python310\\lib\\site-packages (from mordred) (2.8.8)\n",
      "Note: you may need to restart the kernel to use updated packages.\n",
      "Requirement already satisfied: statsmodels in c:\\users\\chp11\\appdata\\local\\programs\\python\\python310\\lib\\site-packages (0.14.4)Note: you may need to restart the kernel to use updated packages.\n",
      "\n",
      "Requirement already satisfied: numpy<3,>=1.22.3 in c:\\users\\chp11\\appdata\\local\\programs\\python\\python310\\lib\\site-packages (from statsmodels) (1.26.3)\n",
      "Requirement already satisfied: scipy!=1.9.2,>=1.8 in c:\\users\\chp11\\appdata\\local\\programs\\python\\python310\\lib\\site-packages (from statsmodels) (1.14.0)\n",
      "Requirement already satisfied: pandas!=2.1.0,>=1.4 in c:\\users\\chp11\\appdata\\local\\programs\\python\\python310\\lib\\site-packages (from statsmodels) (2.2.3)\n",
      "Requirement already satisfied: patsy>=0.5.6 in c:\\users\\chp11\\appdata\\local\\programs\\python\\python310\\lib\\site-packages (from statsmodels) (1.0.1)\n",
      "Requirement already satisfied: packaging>=21.3 in c:\\users\\chp11\\appdata\\roaming\\python\\python310\\site-packages (from statsmodels) (23.2)\n",
      "Requirement already satisfied: python-dateutil>=2.8.2 in c:\\users\\chp11\\appdata\\roaming\\python\\python310\\site-packages (from pandas!=2.1.0,>=1.4->statsmodels) (2.8.2)\n",
      "Requirement already satisfied: pytz>=2020.1 in c:\\users\\chp11\\appdata\\local\\programs\\python\\python310\\lib\\site-packages (from pandas!=2.1.0,>=1.4->statsmodels) (2024.2)\n",
      "Requirement already satisfied: tzdata>=2022.7 in c:\\users\\chp11\\appdata\\local\\programs\\python\\python310\\lib\\site-packages (from pandas!=2.1.0,>=1.4->statsmodels) (2024.2)\n",
      "Requirement already satisfied: six>=1.5 in c:\\users\\chp11\\appdata\\roaming\\python\\python310\\site-packages (from python-dateutil>=2.8.2->pandas!=2.1.0,>=1.4->statsmodels) (1.16.0)\n",
      "Requirement already satisfied: scikit-learn in c:\\users\\chp11\\appdata\\local\\programs\\python\\python310\\lib\\site-packages (1.6.1)\n",
      "Requirement already satisfied: numpy>=1.19.5 in c:\\users\\chp11\\appdata\\local\\programs\\python\\python310\\lib\\site-packages (from scikit-learn) (1.26.3)\n",
      "Requirement already satisfied: scipy>=1.6.0 in c:\\users\\chp11\\appdata\\local\\programs\\python\\python310\\lib\\site-packages (from scikit-learn) (1.14.0)\n",
      "Requirement already satisfied: joblib>=1.2.0 in c:\\users\\chp11\\appdata\\local\\programs\\python\\python310\\lib\\site-packages (from scikit-learn) (1.4.2)\n",
      "Requirement already satisfied: threadpoolctl>=3.1.0 in c:\\users\\chp11\\appdata\\local\\programs\\python\\python310\\lib\\site-packages (from scikit-learn) (3.5.0)\n",
      "Note: you may need to restart the kernel to use updated packages.\n"
     ]
    }
   ],
   "source": [
    "%pip install requests\n",
    "%pip install pandas\n",
    "%pip install mordred\n",
    "%pip install statsmodels\n",
    "%pip install scikit-learn"
   ]
  },
  {
   "cell_type": "code",
   "execution_count": 2,
   "metadata": {},
   "outputs": [],
   "source": [
    "import pandas as pd\n",
    "import requests\n",
    "import time"
   ]
  },
  {
   "cell_type": "markdown",
   "metadata": {},
   "source": [
    "### Aqueous solubility (logS)\n",
    "\n",
    "Aqueous solubility (logS) is a critical molecular property in drug discovery as it directly impacts a compound's absorption, distribution, and overall bioavailability. Poor solubility is a major reason why many promising drug candidates fail during development.\n",
    "\n",
    "The experimental logS values for this project were sourced from:  \n",
    "[**The AAPS Journal 2005; 7 (1) Article 10**](https://link.springer.com/article/10.1208/aapsj070110)\n",
    "  \n",
    "This dataset provides high-quality solubility data for drug-like organic compounds under standardized conditions.\n"
   ]
  },
  {
   "cell_type": "code",
   "execution_count": 2,
   "metadata": {},
   "outputs": [
    {
     "data": {
      "text/html": [
       "<div>\n",
       "<style scoped>\n",
       "    .dataframe tbody tr th:only-of-type {\n",
       "        vertical-align: middle;\n",
       "    }\n",
       "\n",
       "    .dataframe tbody tr th {\n",
       "        vertical-align: top;\n",
       "    }\n",
       "\n",
       "    .dataframe thead th {\n",
       "        text-align: right;\n",
       "    }\n",
       "</style>\n",
       "<table border=\"1\" class=\"dataframe\">\n",
       "  <thead>\n",
       "    <tr style=\"text-align: right;\">\n",
       "      <th></th>\n",
       "      <th>Name</th>\n",
       "      <th>logS</th>\n",
       "    </tr>\n",
       "  </thead>\n",
       "  <tbody>\n",
       "    <tr>\n",
       "      <th>0</th>\n",
       "      <td>1,2,3-Trichlorobenzene</td>\n",
       "      <td>–3.76</td>\n",
       "    </tr>\n",
       "    <tr>\n",
       "      <th>1</th>\n",
       "      <td>1,3,5-Trichlorobenzene</td>\n",
       "      <td>–4.44</td>\n",
       "    </tr>\n",
       "    <tr>\n",
       "      <th>2</th>\n",
       "      <td>1,4-Dibromobenzene</td>\n",
       "      <td>–4.07</td>\n",
       "    </tr>\n",
       "    <tr>\n",
       "      <th>3</th>\n",
       "      <td>17Alpha-ethynylestradiol</td>\n",
       "      <td>–4.484</td>\n",
       "    </tr>\n",
       "    <tr>\n",
       "      <th>4</th>\n",
       "      <td>1-Butyltheobromine</td>\n",
       "      <td>–1.625</td>\n",
       "    </tr>\n",
       "  </tbody>\n",
       "</table>\n",
       "</div>"
      ],
      "text/plain": [
       "                       Name    logS\n",
       "0    1,2,3-Trichlorobenzene   –3.76\n",
       "1    1,3,5-Trichlorobenzene   –4.44\n",
       "2        1,4-Dibromobenzene   –4.07\n",
       "3  17Alpha-ethynylestradiol  –4.484\n",
       "4        1-Butyltheobromine  –1.625"
      ]
     },
     "execution_count": 2,
     "metadata": {},
     "output_type": "execute_result"
    }
   ],
   "source": [
    "df = pd.read_csv('logS_dataset.csv', sep=';') \n",
    "df.head(5)  "
   ]
  },
  {
   "cell_type": "markdown",
   "metadata": {},
   "source": [
    "### Retrieving Canonical SMILES from PubChem\n",
    "\n",
    "Canonical SMILES for the compounds in the dataset were retrieved using the PubChem PUG REST API. According to PubChem's usage policies:\n",
    "- The request rate must be limited to **five requests per second** or fewer to avoid being temporarily blocked from accessing PubChem (or NCBI) resources.\n",
    "- Each request has a standard time limit of **30 seconds**, after which a time-out error will occur if the request is not completed.\n",
    "\n",
    "To comply with these policies, requests were processed in a controlled manner with a delay between queries."
   ]
  },
  {
   "cell_type": "code",
   "execution_count": 4,
   "metadata": {},
   "outputs": [],
   "source": [
    "prolog = 'https://pubchem.ncbi.nlm.nih.gov/rest/pug'\n",
    "name_list = df['Name'].values.tolist()\n",
    "\n",
    "smiles = []\n",
    "\n",
    "def get_smiles(start, end): # start and end index of a batch\n",
    "    \n",
    "    smiles_batch = []\n",
    "    idx = 0\n",
    "    for name in name_list[start:end]: # loop over each element in the batch \n",
    "\n",
    "        url = prolog + '/compound/name/' + name + '/property/CanonicalSMILES/txt'\n",
    "        res = requests.get(url)\n",
    "\n",
    "        if res.status_code == 200:\n",
    "            smiles_batch += list(set(res.text.split())) # Use a set to remove duplicates (w/ different CIDs)\n",
    "        else:\n",
    "            smiles_batch.append('None')\n",
    "        \n",
    "        if idx % 5 == 4: # to limit the request rate to five requests per second\n",
    "            time.sleep(0.2)\n",
    "        idx += 1\n",
    "    \n",
    "    return smiles_batch"
   ]
  },
  {
   "cell_type": "code",
   "execution_count": 5,
   "metadata": {},
   "outputs": [
    {
     "name": "stdout",
     "output_type": "stream",
     "text": [
      "Compounds 1 - 50 Done!\n",
      "Compounds 51 - 100 Done!\n",
      "Compounds 101 - 150 Done!\n",
      "Compounds 151 - 200 Done!\n",
      "Compounds 201 - 250 Done!\n",
      "Compounds 251 - 300 Done!\n",
      "Compounds 301 - 322 Done!\n",
      "322\n"
     ]
    }
   ],
   "source": [
    "num_batch = len(name_list) // 50 # Batch size of 50 compounds\n",
    "\n",
    "for i in range(num_batch): # loop over each batch in the 'name_list' list\n",
    "    start = i*50\n",
    "    end = (i+1)*50\n",
    "    smiles += get_smiles(start, end)\n",
    "    print(f'Compounds {start+1} - {end} Done!')\n",
    "    time.sleep(1)\n",
    "\n",
    "last_batch_start = 50*num_batch\n",
    "last_batch_end = 50*num_batch + len(name_list)%50\n",
    "smiles += get_smiles(last_batch_start, last_batch_end)\n",
    "print(f'Compounds {last_batch_start+1} - {last_batch_end} Done!')\n",
    "\n",
    "print(len(smiles))"
   ]
  },
  {
   "cell_type": "markdown",
   "metadata": {},
   "source": [
    "The retrieved Canonical SMILES were added as a new column to the dataset. This ensures that molecular structures are readily accessible for further descriptor calculations and analysis."
   ]
  },
  {
   "cell_type": "code",
   "execution_count": 6,
   "metadata": {},
   "outputs": [
    {
     "data": {
      "text/html": [
       "<div>\n",
       "<style scoped>\n",
       "    .dataframe tbody tr th:only-of-type {\n",
       "        vertical-align: middle;\n",
       "    }\n",
       "\n",
       "    .dataframe tbody tr th {\n",
       "        vertical-align: top;\n",
       "    }\n",
       "\n",
       "    .dataframe thead th {\n",
       "        text-align: right;\n",
       "    }\n",
       "</style>\n",
       "<table border=\"1\" class=\"dataframe\">\n",
       "  <thead>\n",
       "    <tr style=\"text-align: right;\">\n",
       "      <th></th>\n",
       "      <th>Name</th>\n",
       "      <th>logS</th>\n",
       "      <th>Canonical_SMILES</th>\n",
       "    </tr>\n",
       "  </thead>\n",
       "  <tbody>\n",
       "    <tr>\n",
       "      <th>0</th>\n",
       "      <td>1,2,3-Trichlorobenzene</td>\n",
       "      <td>–3.76</td>\n",
       "      <td>C1=CC(=C(C(=C1)Cl)Cl)Cl</td>\n",
       "    </tr>\n",
       "    <tr>\n",
       "      <th>1</th>\n",
       "      <td>1,3,5-Trichlorobenzene</td>\n",
       "      <td>–4.44</td>\n",
       "      <td>C1=C(C=C(C=C1Cl)Cl)Cl</td>\n",
       "    </tr>\n",
       "    <tr>\n",
       "      <th>2</th>\n",
       "      <td>1,4-Dibromobenzene</td>\n",
       "      <td>–4.07</td>\n",
       "      <td>C1=CC(=CC=C1Br)Br</td>\n",
       "    </tr>\n",
       "    <tr>\n",
       "      <th>3</th>\n",
       "      <td>17Alpha-ethynylestradiol</td>\n",
       "      <td>–4.484</td>\n",
       "      <td>CC12CCC3C(C1CCC2(C#C)O)CCC4=C3C=CC(=C4)O</td>\n",
       "    </tr>\n",
       "    <tr>\n",
       "      <th>4</th>\n",
       "      <td>1-Butyltheobromine</td>\n",
       "      <td>–1.625</td>\n",
       "      <td>CCCCN1C(=O)C2=C(N=CN2C)N(C1=O)C</td>\n",
       "    </tr>\n",
       "    <tr>\n",
       "      <th>...</th>\n",
       "      <td>...</td>\n",
       "      <td>...</td>\n",
       "      <td>...</td>\n",
       "    </tr>\n",
       "    <tr>\n",
       "      <th>317</th>\n",
       "      <td>Uric acid</td>\n",
       "      <td>–3.402</td>\n",
       "      <td>C12=C(NC(=O)N1)NC(=O)NC2=O</td>\n",
       "    </tr>\n",
       "    <tr>\n",
       "      <th>318</th>\n",
       "      <td>Vinbarbital</td>\n",
       "      <td>–2.458</td>\n",
       "      <td>CCC=C(C)C1(C(=O)NC(=O)NC1=O)CC</td>\n",
       "    </tr>\n",
       "    <tr>\n",
       "      <th>319</th>\n",
       "      <td>Xanthine</td>\n",
       "      <td>–2.483</td>\n",
       "      <td>C1=NC2=C(N1)C(=O)NC(=O)N2</td>\n",
       "    </tr>\n",
       "    <tr>\n",
       "      <th>320</th>\n",
       "      <td>Zidovudine</td>\n",
       "      <td>–1.029</td>\n",
       "      <td>CC1=CN(C(=O)NC1=O)C2CC(C(O2)CO)N=[N+]=[N-]</td>\n",
       "    </tr>\n",
       "    <tr>\n",
       "      <th>321</th>\n",
       "      <td>Zileuton</td>\n",
       "      <td>–3.373</td>\n",
       "      <td>CC(C1=CC2=CC=CC=C2S1)N(C(=O)N)O</td>\n",
       "    </tr>\n",
       "  </tbody>\n",
       "</table>\n",
       "<p>322 rows × 3 columns</p>\n",
       "</div>"
      ],
      "text/plain": [
       "                         Name    logS  \\\n",
       "0      1,2,3-Trichlorobenzene   –3.76   \n",
       "1      1,3,5-Trichlorobenzene   –4.44   \n",
       "2          1,4-Dibromobenzene   –4.07   \n",
       "3    17Alpha-ethynylestradiol  –4.484   \n",
       "4          1-Butyltheobromine  –1.625   \n",
       "..                        ...     ...   \n",
       "317                 Uric acid  –3.402   \n",
       "318               Vinbarbital  –2.458   \n",
       "319                  Xanthine  –2.483   \n",
       "320                Zidovudine  –1.029   \n",
       "321                  Zileuton  –3.373   \n",
       "\n",
       "                               Canonical_SMILES  \n",
       "0                       C1=CC(=C(C(=C1)Cl)Cl)Cl  \n",
       "1                         C1=C(C=C(C=C1Cl)Cl)Cl  \n",
       "2                             C1=CC(=CC=C1Br)Br  \n",
       "3      CC12CCC3C(C1CCC2(C#C)O)CCC4=C3C=CC(=C4)O  \n",
       "4               CCCCN1C(=O)C2=C(N=CN2C)N(C1=O)C  \n",
       "..                                          ...  \n",
       "317                  C12=C(NC(=O)N1)NC(=O)NC2=O  \n",
       "318              CCC=C(C)C1(C(=O)NC(=O)NC1=O)CC  \n",
       "319                   C1=NC2=C(N1)C(=O)NC(=O)N2  \n",
       "320  CC1=CN(C(=O)NC1=O)C2CC(C(O2)CO)N=[N+]=[N-]  \n",
       "321             CC(C1=CC2=CC=CC=C2S1)N(C(=O)N)O  \n",
       "\n",
       "[322 rows x 3 columns]"
      ]
     },
     "execution_count": 6,
     "metadata": {},
     "output_type": "execute_result"
    }
   ],
   "source": [
    "df['Canonical_SMILES'] = smiles\n",
    "df"
   ]
  },
  {
   "cell_type": "markdown",
   "metadata": {},
   "source": [
    "### Data Cleaning: Handling Missing and Invalid Values\n",
    "\n",
    "Several compounds are not found in the PubChem queries. These missing Canonical SMILES are manually searched and added to the dataset. After updating the dataset with the manually collected SMILES, the dataframe is checked for any remaining missing values. "
   ]
  },
  {
   "cell_type": "code",
   "execution_count": 7,
   "metadata": {},
   "outputs": [
    {
     "name": "stdout",
     "output_type": "stream",
     "text": [
      "30\n",
      "['1-Propyltheobromine', '2-Aminopteridine', '2-Hydroxypteridine', '5,5-Diethylbarbiturate', '5,5-Dimethylbarbiturate', '5,5-Diphenylbarbiturate', '5,5-Dipropylbarbiturate', '5-Allyl-5-phenylbarbiturate', '5-Ethyl-5-(3-methylbut-2-enyl)barbiturate', '5-Ethyl-5-allylbarbiturate', '5-Ethyl-5-nonylbarbiturate', '5-Ethyl-5-octylbarbiturate', '5-Ethyl-5-pentylbarbiturate', '5-Ethyl-5-propylbarbiturate', '5-Ethyl-barbiturate', '5-i-Propyl-5-(3-methylbut-2enyl)barbiturate', '5-Methyl barbiturate', '5-Methyl-5-(3-methylbut-2enyl)barbiturate', '5-Methyl-5-ethylbarbiturate', '5-t-Butyl-5-(3-methylbut-2enyl)barbiturate', 'Cyclobutane-spirobarbiturate', 'Cycloethane-spirobarbiturate', 'Cycloheptane-spirobarbiturate', 'Cyclohexane-spirobarbiturate', 'Cyclopentane-spirobarbiturate', 'Cyclopropane-spirobarbiturate', 'Isopropylbarbiturate', 'Pteridine-2-methyl-thiol', 'Pteridine-4-methyl-thiol', 'Pteridine-7-methyl-thiol']\n"
     ]
    }
   ],
   "source": [
    "indices = [i for i, val in enumerate(smiles) if val == 'None']\n",
    "\n",
    "name_not_found = []\n",
    "for i in indices:\n",
    "    name_not_found.append(df['Name'].iloc[i])\n",
    "\n",
    "print(len(indices))\n",
    "print(name_not_found)"
   ]
  },
  {
   "cell_type": "code",
   "execution_count": 8,
   "metadata": {},
   "outputs": [],
   "source": [
    "smiles_missing = {'1-Propyltheobromine': 'CCCN1C(=O)C2=C(N=CN2C)N(C1=O)C',\n",
    "                  '2-Aminopteridine': 'N=1C=CN=C2C=NC(=NC12)N',\n",
    "                  '2-Hydroxypteridine': 'O=C1N=CN=C2NC=CN=C12',\n",
    "                  '5,5-Diethylbarbiturate': 'O=C1NC(=O)C(C(=O)N1)(CC)CC',\n",
    "                  '5,5-Dimethylbarbiturate': 'O=C1NC(=O)C(C(=O)N1)(C)C',\n",
    "                  '5,5-Diphenylbarbiturate': 'O=C1NC(=O)C(C=2C=CC=CC2)(C=3C=CC=CC3)C(=O)N1',\n",
    "                  '5,5-Dipropylbarbiturate': 'O=C1NC(=O)C(C(=O)N1)(CCC)CCC',\n",
    "                  '5-Allyl-5-phenylbarbiturate': 'O=C1NC(=O)C(C(=O)N1)(C=2C=CC=CC2)CC=C',\n",
    "                  '5-Ethyl-5-(3-methylbut-2-enyl)barbiturate': 'O=C1NC(=O)C(C=CC(C)C)(C(=O)N1)CC',\n",
    "                  '5-Ethyl-5-allylbarbiturate': 'O=C1NC(=O)C(C(=O)N1)(CC=C)CC',\n",
    "                  '5-Ethyl-5-nonylbarbiturate': 'O=C1NC(=O)C(C(=O)N1)(CC)CCCCCCCCC',\n",
    "                  '5-Ethyl-5-octylbarbiturate': 'O=C1NC(=O)C(C(=O)N1)(CC)CCCCCCCC',\n",
    "                  '5-Ethyl-5-pentylbarbiturate': 'O=C1NC(=O)C(C(=O)N1)(CC)CCCCC',\n",
    "                  '5-Ethyl-5-propylbarbiturate': 'O=C1NC(=O)C(C(=O)N1)(CC)CCC',\n",
    "                  '5-Ethyl-barbiturate': 'O=C1NC(=O)C(C(=O)N1)CC',\n",
    "                  '5-i-Propyl-5-(3-methylbut-2enyl)barbiturate': 'O=C1NC(=O)C(C=CC(C)C)(C(=O)N1)C(C)C',\n",
    "                  '5-Methyl barbiturate': 'O=C1NC(=O)C(C(=O)N1)C',\n",
    "                  '5-Methyl-5-(3-methylbut-2enyl)barbiturate': 'O=C1NC(=O)C(C=CC(C)C)(C(=O)N1)C',\n",
    "                  '5-Methyl-5-ethylbarbiturate': 'O=C1NC(=O)C(C(=O)N1)(C)CC',\n",
    "                  '5-t-Butyl-5-(3-methylbut-2enyl)barbiturate': 'O=C1N(C(=O)C(C=CC(C)C)(C(=O)N1)C(C)(C)C)',\n",
    "                  'Cyclobutane-spirobarbiturate': 'O=C1NC(=O)C2(C(=O)N1)CCCC2',\n",
    "                  'Cycloethane-spirobarbiturate': 'O=C1NC(=O)C2(C(=O)N1)CC2',\n",
    "                  'Cycloheptane-spirobarbiturate': 'O=C1NC(=O)C2(C(=O)N1)CCCCCCC2',\n",
    "                  'Cyclohexane-spirobarbiturate': 'O=C1NC(=O)C2(C(=O)N1)CCCCCC2',\n",
    "                  'Cyclopentane-spirobarbiturate': 'O=C1NC(=O)C2(C(=O)N1)CCCCC2',\n",
    "                  'Cyclopropane-spirobarbiturate': 'O=C1NC(=O)C2(C(=O)N1)CCC2',\n",
    "                  'Isopropylbarbiturate': 'O=C1NC(=O)C(C(=O)N1)C(C)C',\n",
    "                  'Pteridine-2-methyl-thiol': 'N=1C=CN=C2C=NC(=NC12)SC',\n",
    "                  'Pteridine-4-methyl-thiol': 'N=1C=NC(SC)=C2N=CC=NC12',\n",
    "                  'Pteridine-7-methyl-thiol': 'N=1C=NC=2N=C(SC)C=NC2C1'\n",
    "                  }"
   ]
  },
  {
   "cell_type": "code",
   "execution_count": 9,
   "metadata": {},
   "outputs": [
    {
     "name": "stdout",
     "output_type": "stream",
     "text": [
      "Empty DataFrame\n",
      "Columns: [Name, logS, Canonical_SMILES]\n",
      "Index: []\n"
     ]
    }
   ],
   "source": [
    "for name, smiles in smiles_missing.items():\n",
    "    df.loc[(df[\"Name\"] == name) & (df[\"Canonical_SMILES\"] == \"None\"), \"Canonical_SMILES\"] = smiles\n",
    "\n",
    "print(df[df['Canonical_SMILES'] == 'None']) # Check if there are still missing SMILES"
   ]
  },
  {
   "cell_type": "markdown",
   "metadata": {},
   "source": [
    "During the processing of Canonical SMILES, some compounds had invalid SMILES strings, which caused errors during molecule generation in RDKit (e.g., explicit valence errors). To ensure the integrity of the dataset, compounds with invalid SMILES were identified and dropped from the dataframe. This step was crucial for avoiding errors in subsequent descriptor calculations and model building.\n"
   ]
  },
  {
   "cell_type": "code",
   "execution_count": 75,
   "metadata": {},
   "outputs": [
    {
     "name": "stdout",
     "output_type": "stream",
     "text": [
      "[8, 45, 51]\n"
     ]
    },
    {
     "name": "stderr",
     "output_type": "stream",
     "text": [
      "[17:45:59] Explicit valence for atom # 8 Cl, 3, is greater than permitted\n",
      "[17:45:59] Explicit valence for atom # 8 Cl, 3, is greater than permitted\n",
      "[17:45:59] Explicit valence for atom # 7 Cl, 3, is greater than permitted\n"
     ]
    }
   ],
   "source": [
    "from rdkit import Chem\n",
    "\n",
    "invalid_indices = [i for i, val in enumerate(df[\"Canonical_SMILES\"]) if Chem.MolFromSmiles(val) == None]\n",
    "\n",
    "print(invalid_indices)"
   ]
  },
  {
   "cell_type": "code",
   "execution_count": 76,
   "metadata": {},
   "outputs": [
    {
     "name": "stdout",
     "output_type": "stream",
     "text": [
      "[]\n"
     ]
    }
   ],
   "source": [
    "df_updated = df.drop(df.index[invalid_indices])\n",
    "still_invalid = [i for i, val in enumerate(df_updated[\"Canonical_SMILES\"]) if Chem.MolFromSmiles(val) == None]\n",
    "\n",
    "print(still_invalid)"
   ]
  },
  {
   "cell_type": "markdown",
   "metadata": {},
   "source": [
    "The logS values were initially stored as strings, which needed to be converted to floats for numerical analysis and modeling. Also, the negative signs of logS values were written with en dashes (–) instead of hyphens (-), which can cause issues during processing. These were replaced with standard hyphens to ensure compatibility with cheminformatics tools."
   ]
  },
  {
   "cell_type": "code",
   "execution_count": 77,
   "metadata": {},
   "outputs": [],
   "source": [
    "df = df_updated\n",
    "df['logS'] = df['logS'].str.replace('–', '-').astype(float)"
   ]
  },
  {
   "cell_type": "markdown",
   "metadata": {},
   "source": [
    "The final updated dataframe, now complete with Canonical SMILES, is saved as a CSV file for further use in the project."
   ]
  },
  {
   "cell_type": "code",
   "execution_count": 78,
   "metadata": {},
   "outputs": [],
   "source": [
    "df.to_csv('logS_dataset_updated.csv', index=False)"
   ]
  },
  {
   "cell_type": "code",
   "execution_count": 32,
   "metadata": {},
   "outputs": [],
   "source": [
    "df = pd.read_csv('logS_dataset_updated.csv', sep=',') "
   ]
  },
  {
   "cell_type": "markdown",
   "metadata": {},
   "source": [
    "### Finding the Best Descriptors\n",
    "\n",
    "To predict aqueous solubility (logS), we calculate a wide range of molecular descriptors that capture key properties. Identifying the most relevant descriptors helps build a focused and interpretable regression model while eliminating irrelevant features.\n",
    "\n",
    "Mordred descriptors were calculated for all molecules in the dataset using their Canonical SMILES. "
   ]
  },
  {
   "cell_type": "code",
   "execution_count": 33,
   "metadata": {},
   "outputs": [
    {
     "name": "stdout",
     "output_type": "stream",
     "text": [
      "                                                   ABC  \\\n",
      "0    module 'numpy' has no attribute 'float'.\\n`np....   \n",
      "1    module 'numpy' has no attribute 'float'.\\n`np....   \n",
      "2    module 'numpy' has no attribute 'float'.\\n`np....   \n",
      "3    module 'numpy' has no attribute 'float'.\\n`np....   \n",
      "4    module 'numpy' has no attribute 'float'.\\n`np....   \n",
      "..                                                 ...   \n",
      "314  module 'numpy' has no attribute 'float'.\\n`np....   \n",
      "315  module 'numpy' has no attribute 'float'.\\n`np....   \n",
      "316  module 'numpy' has no attribute 'float'.\\n`np....   \n",
      "317  module 'numpy' has no attribute 'float'.\\n`np....   \n",
      "318  module 'numpy' has no attribute 'float'.\\n`np....   \n",
      "\n",
      "                                                 ABCGG  nAcid  nBase  \\\n",
      "0    module 'numpy' has no attribute 'float'.\\n`np....      0      0   \n",
      "1    module 'numpy' has no attribute 'float'.\\n`np....      0      0   \n",
      "2    module 'numpy' has no attribute 'float'.\\n`np....      0      0   \n",
      "3    module 'numpy' has no attribute 'float'.\\n`np....      0      0   \n",
      "4    module 'numpy' has no attribute 'float'.\\n`np....      0      0   \n",
      "..                                                 ...    ...    ...   \n",
      "314  module 'numpy' has no attribute 'float'.\\n`np....      0      0   \n",
      "315  module 'numpy' has no attribute 'float'.\\n`np....      0      0   \n",
      "316  module 'numpy' has no attribute 'float'.\\n`np....      0      0   \n",
      "317  module 'numpy' has no attribute 'float'.\\n`np....      0      0   \n",
      "318  module 'numpy' has no attribute 'float'.\\n`np....      0      0   \n",
      "\n",
      "       SpAbs_A   SpMax_A  SpDiam_A     SpAD_A   SpMAD_A   LogEE_A  ...  \\\n",
      "0    10.891331  2.263821  4.527642  10.891331  1.210148  3.099901  ...   \n",
      "1    10.128990  2.236068  4.472136  10.128990  1.125443  3.099014  ...   \n",
      "2     9.924777  2.170086  4.340173   9.924777  1.240597  2.979730  ...   \n",
      "3    28.895827  2.622030  5.164227  28.895827  1.313447  4.069906  ...   \n",
      "4    21.323572  2.514379  4.957714  21.323572  1.254328  3.760270  ...   \n",
      "..         ...       ...       ...        ...       ...       ...  ...   \n",
      "314  14.737555  2.425449  4.732870  14.737555  1.228130  3.436349  ...   \n",
      "315  18.584290  2.492854  4.985707  18.584290  1.161518  3.666129  ...   \n",
      "316  13.878163  2.396777  4.704140  13.878163  1.261651  3.352605  ...   \n",
      "317  23.747937  2.438920  4.799979  23.747937  1.249891  3.860658  ...   \n",
      "318  20.229921  2.418791  4.661401  20.229921  1.264370  3.699412  ...   \n",
      "\n",
      "         SRW10     TSRW10          MW        AMW  WPath  WPol  Zagreb1  \\\n",
      "0     8.876126  37.975562  179.930033  14.994169     82    11     42.0   \n",
      "1     8.760767  37.736937  179.930033  14.994169     84     9     42.0   \n",
      "2     8.463159  35.730685  233.867974  19.488998     62     7     36.0   \n",
      "3    10.543260  72.152610  296.177630   6.438644    941    46    130.0   \n",
      "4     9.901836  64.102173  236.127326   7.155374    478    29     88.0   \n",
      "..         ...        ...         ...        ...    ...   ...      ...   \n",
      "314   9.435642  57.239013  168.028340  10.501771    178    16     64.0   \n",
      "315   9.890048  48.747870  224.116092   7.003628    398    29     78.0   \n",
      "316   9.317849  55.364239  152.033425  10.135562    138    14     58.0   \n",
      "317   9.805930  66.192889  267.096754   8.346774    701    29     96.0   \n",
      "318   9.604745  62.363328  236.061949   8.430784    436    23     82.0   \n",
      "\n",
      "     Zagreb2  mZagreb1  mZagreb2  \n",
      "0       47.0  4.083333  2.055556  \n",
      "1       45.0  4.083333  2.000000  \n",
      "2       38.0  3.222222  1.833333  \n",
      "3      165.0  7.291667  4.631944  \n",
      "4      107.0  7.027778  3.861111  \n",
      "..       ...       ...       ...  \n",
      "314     75.0  4.555556  2.555556  \n",
      "315     94.0  7.756944  3.791667  \n",
      "316     68.0  3.694444  2.388889  \n",
      "317    113.0  7.527778  4.361111  \n",
      "318     96.0  6.166667  3.527778  \n",
      "\n",
      "[319 rows x 1613 columns]\n"
     ]
    }
   ],
   "source": [
    "from mordred import Calculator, descriptors\n",
    "from rdkit import Chem\n",
    "\n",
    "smiles_list = df['Canonical_SMILES']\n",
    "\n",
    "calc = Calculator(descriptors, ignore_3D=True)  # 2D descriptors only\n",
    "molecules = [Chem.MolFromSmiles(smiles) for smiles in smiles_list]\n",
    "desc_df = calc.pandas(molecules)\n",
    "\n",
    "print(desc_df)"
   ]
  },
  {
   "cell_type": "markdown",
   "metadata": {},
   "source": [
    "Some Mordred descriptors produced non-float values, which caused errors during processing. \n",
    "To resolve this, only descriptors with data type `float` were retained."
   ]
  },
  {
   "cell_type": "code",
   "execution_count": 34,
   "metadata": {},
   "outputs": [
    {
     "name": "stdout",
     "output_type": "stream",
     "text": [
      "Original shape: (319, 1613)\n",
      "Cleaned shape: (319, 905)\n"
     ]
    }
   ],
   "source": [
    "desc_df_cleaned = desc_df.select_dtypes(include=['float'])\n",
    "\n",
    "print(f\"Original shape: {desc_df.shape}\")\n",
    "print(f\"Cleaned shape: {desc_df_cleaned.shape}\")"
   ]
  },
  {
   "cell_type": "markdown",
   "metadata": {},
   "source": [
    "To further clean the dataset:\n",
    "1. **Drop Columns and Rows with All NaN Values:** Columns and rows where all values were `NaN` were removed.\n",
    "2. **Optional: Drop Columns with Partial NaN Values:** Columns with any `NaN` values were also dropped to ensure all descriptors are fully usable.\n",
    "3. **Remove Zero-Variance Descriptors:** Columns where all values were constant (e.g., all zeros) were dropped, as they do not provide useful information for the model.\n",
    "\n",
    "This step ensures that the final dataset contains only meaningful and complete descriptors."
   ]
  },
  {
   "cell_type": "code",
   "execution_count": 36,
   "metadata": {},
   "outputs": [],
   "source": [
    "# Drop columns and rows with all NaN values\n",
    "desc_df_cleaned = desc_df_cleaned.dropna(axis=1, how='all')\n",
    "desc_df_cleaned = desc_df_cleaned.dropna(axis=0, how='all')\n",
    "\n",
    "# Drop columns with partial NaN values (optional)\n",
    "desc_df_cleaned = desc_df_cleaned.dropna(axis=1, how='any')\n",
    "\n",
    "all_zero_columns = desc_df_cleaned.columns[(desc_df_cleaned == 0).all()]\n",
    "desc_df_cleaned = desc_df_cleaned.drop(columns=all_zero_columns)"
   ]
  },
  {
   "cell_type": "code",
   "execution_count": 37,
   "metadata": {},
   "outputs": [],
   "source": [
    "desc_df_cleaned.to_csv('desc_df_cleaned.csv', index=False)"
   ]
  },
  {
   "cell_type": "code",
   "execution_count": 3,
   "metadata": {},
   "outputs": [],
   "source": [
    "df = pd.read_csv('logS_dataset_updated.csv', sep=',') \n",
    "desc_df_cleaned = pd.read_csv('desc_df_cleaned.csv', sep=',') "
   ]
  },
  {
   "cell_type": "markdown",
   "metadata": {},
   "source": [
    "Correlations between the cleaned descriptors and the target property (logS) were calculated. The top 20 descriptors with the highest correlations were selected as the most relevant features for the predictive model."
   ]
  },
  {
   "cell_type": "code",
   "execution_count": 39,
   "metadata": {},
   "outputs": [
    {
     "name": "stdout",
     "output_type": "stream",
     "text": [
      "['SLogP', 'FilterItLogS', 'Mi', 'AATS0i', 'AATS4i', 'AATS2i', 'AATS1i', 'ZMIC1', 'ETA_dPsi_A', 'AATS3i', 'AMID_C', 'BCUTm-1l', 'PEOE_VSA6', 'ETA_psi_1', 'BCUTZ-1l', 'BCUTpe-1l', 'BCUTse-1l', 'GATS1i', 'BCUTare-1l', 'AATS1p']\n"
     ]
    }
   ],
   "source": [
    "correlations = desc_df_cleaned.corrwith(df['logS']).abs().sort_values(ascending=False)\n",
    "\n",
    "top_descriptors = correlations.head(20).index.tolist()\n",
    "selected_data = desc_df_cleaned[top_descriptors]\n",
    "\n",
    "print(top_descriptors)"
   ]
  },
  {
   "cell_type": "code",
   "execution_count": 40,
   "metadata": {},
   "outputs": [
    {
     "name": "stdout",
     "output_type": "stream",
     "text": [
      "['Mi', 'AATS0i', 'AATS4i', 'AATS2i', 'AATS1i', 'ZMIC1', 'ETA_dPsi_A', 'AATS3i', 'AMID_C', 'BCUTm-1l', 'PEOE_VSA6', 'ETA_psi_1', 'BCUTZ-1l', 'BCUTpe-1l', 'BCUTse-1l', 'GATS1i', 'BCUTare-1l', 'AATS1p']\n"
     ]
    }
   ],
   "source": [
    "top_descriptors.remove('SLogP')\n",
    "top_descriptors.remove('FilterItLogS')\n",
    "print(top_descriptors)"
   ]
  },
  {
   "cell_type": "code",
   "execution_count": 41,
   "metadata": {},
   "outputs": [
    {
     "name": "stdout",
     "output_type": "stream",
     "text": [
      "    Descriptor           VIF\n",
      "0           Mi  1.022089e+03\n",
      "1       AATS0i  9.688780e+02\n",
      "2       AATS4i  5.567422e+00\n",
      "3       AATS2i  3.560338e+01\n",
      "4       AATS1i  2.274331e+01\n",
      "5        ZMIC1  3.274382e+00\n",
      "6   ETA_dPsi_A  4.778002e+01\n",
      "7       AATS3i  4.565133e+00\n",
      "8       AMID_C  4.990793e+01\n",
      "9     BCUTm-1l  3.391198e+03\n",
      "10   PEOE_VSA6  2.995728e+00\n",
      "11   ETA_psi_1  2.184587e+01\n",
      "12    BCUTZ-1l  6.391352e+03\n",
      "13   BCUTpe-1l  3.476110e+02\n",
      "14   BCUTse-1l  9.812483e+02\n",
      "15      GATS1i  1.666602e+01\n",
      "16  BCUTare-1l  1.635151e+02\n",
      "17      AATS1p  1.985054e+01\n",
      "18   Intercept  3.210747e+07\n"
     ]
    }
   ],
   "source": [
    "from statsmodels.stats.outliers_influence import variance_inflation_factor\n",
    "\n",
    "# Calculate VIF\n",
    "X = desc_df_cleaned[top_descriptors]  \n",
    "X = X.assign(Intercept=1)  \n",
    "vif = pd.DataFrame({\n",
    "    'Descriptor': X.columns,\n",
    "    'VIF': [variance_inflation_factor(X.values, i) for i in range(X.shape[1])]\n",
    "})\n",
    "print(vif)"
   ]
  },
  {
   "cell_type": "code",
   "execution_count": 44,
   "metadata": {},
   "outputs": [
    {
     "name": "stdout",
     "output_type": "stream",
     "text": [
      "['AATS4i', 'ZMIC1', 'AATS3i', 'PEOE_VSA6']\n"
     ]
    }
   ],
   "source": [
    "desc_indices = [i for i, val in enumerate(vif['VIF']) if val < 10]\n",
    "top_desc_updated = [top_descriptors[i] for i in desc_indices]\n",
    "print(top_desc_updated)"
   ]
  },
  {
   "cell_type": "code",
   "execution_count": 65,
   "metadata": {},
   "outputs": [],
   "source": [
    "from sklearn.model_selection import train_test_split\n",
    "\n",
    "X = desc_df_cleaned[top_desc_updated]\n",
    "y = df['logS']\n",
    "\n",
    "X_train, X_test, y_train, y_test = train_test_split(X, y, test_size=0.2, random_state=42)"
   ]
  },
  {
   "cell_type": "code",
   "execution_count": 66,
   "metadata": {},
   "outputs": [
    {
     "name": "stdout",
     "output_type": "stream",
     "text": [
      "                            OLS Regression Results                            \n",
      "==============================================================================\n",
      "Dep. Variable:                   logS   R-squared:                       0.515\n",
      "Model:                            OLS   Adj. R-squared:                  0.507\n",
      "Method:                 Least Squares   F-statistic:                     66.34\n",
      "Date:                Fri, 31 Jan 2025   Prob (F-statistic):           3.51e-38\n",
      "Time:                        15:13:55   Log-Likelihood:                -402.51\n",
      "No. Observations:                 255   AIC:                             815.0\n",
      "Df Residuals:                     250   BIC:                             832.7\n",
      "Df Model:                           4                                         \n",
      "Covariance Type:            nonrobust                                         \n",
      "==============================================================================\n",
      "                 coef    std err          t      P>|t|      [0.025      0.975]\n",
      "------------------------------------------------------------------------------\n",
      "const        -15.1920      2.650     -5.734      0.000     -20.410      -9.973\n",
      "AATS4i         0.0516      0.017      3.030      0.003       0.018       0.085\n",
      "ZMIC1         -0.0344      0.009     -3.791      0.000      -0.052      -0.017\n",
      "AATS3i         0.0363      0.019      1.939      0.054      -0.001       0.073\n",
      "PEOE_VSA6     -0.0226      0.005     -4.156      0.000      -0.033      -0.012\n",
      "==============================================================================\n",
      "Omnibus:                        6.467   Durbin-Watson:                   1.814\n",
      "Prob(Omnibus):                  0.039   Jarque-Bera (JB):                7.112\n",
      "Skew:                           0.256   Prob(JB):                       0.0286\n",
      "Kurtosis:                       3.637   Cond. No.                     8.26e+03\n",
      "==============================================================================\n",
      "\n",
      "Notes:\n",
      "[1] Standard Errors assume that the covariance matrix of the errors is correctly specified.\n",
      "[2] The condition number is large, 8.26e+03. This might indicate that there are\n",
      "strong multicollinearity or other numerical problems.\n"
     ]
    }
   ],
   "source": [
    "import statsmodels.api as sm\n",
    "\n",
    "X_train = sm.add_constant(X_train)\n",
    "model = sm.OLS(y_train, X_train).fit()\n",
    "\n",
    "print(model.summary())"
   ]
  },
  {
   "cell_type": "code",
   "execution_count": 47,
   "metadata": {},
   "outputs": [
    {
     "name": "stdout",
     "output_type": "stream",
     "text": [
      "Test MSE: 1.5258735801605583\n",
      "Test R-squared: 0.4165563560072776\n"
     ]
    }
   ],
   "source": [
    "X_test = sm.add_constant(X_test)\n",
    "\n",
    "y_pred = model.predict(X_test)\n",
    "\n",
    "from sklearn.metrics import mean_squared_error, r2_score\n",
    "\n",
    "mse = mean_squared_error(y_test, y_pred)\n",
    "r2 = r2_score(y_test, y_pred)\n",
    "\n",
    "print(f\"Test MSE: {mse}\")\n",
    "print(f\"Test R-squared: {r2}\")"
   ]
  },
  {
   "cell_type": "code",
   "execution_count": 67,
   "metadata": {},
   "outputs": [
    {
     "data": {
      "image/png": "[encoded data removed]",
      "text/plain": [
       "<Figure size 1000x800 with 5 Axes>"
      ]
     },
     "metadata": {},
     "output_type": "display_data"
    }
   ],
   "source": [
    "import matplotlib.pyplot as plt\n",
    "\n",
    "fig = plt.figure(figsize=(10,8))\n",
    "fig = sm.graphics.plot_partregress_grid(model, fig=fig)"
   ]
  },
  {
   "cell_type": "code",
   "execution_count": 85,
   "metadata": {},
   "outputs": [
    {
     "name": "stdout",
     "output_type": "stream",
     "text": [
      "Random Forest MSE: 1.3175756645981331\n",
      "Random Forest R-squared: 0.49620259700126723\n"
     ]
    }
   ],
   "source": [
    "from sklearn.ensemble import RandomForestRegressor\n",
    "from sklearn.metrics import mean_squared_error, r2_score\n",
    "\n",
    "X_train = X_train.drop(columns=['const'], errors='ignore')\n",
    "X_test = X_test.drop(columns=['const'], errors='ignore')\n",
    "\n",
    "assert list(X_train.columns) == list(X_test.columns), \"Feature mismatch between training and test data\"\n",
    "\n",
    "rf = RandomForestRegressor(n_estimators=100, random_state=42)\n",
    "rf.fit(X_train, y_train)\n",
    "y_pred = rf.predict(X_test)\n",
    "\n",
    "mse_rf = mean_squared_error(y_test, y_pred)\n",
    "r2_rf = r2_score(y_test, y_pred)\n",
    "\n",
    "print(f\"Random Forest MSE: {mse_rf}\")\n",
    "print(f\"Random Forest R-squared: {r2_rf}\")"
   ]
  },
  {
   "cell_type": "code",
   "execution_count": 86,
   "metadata": {},
   "outputs": [
    {
     "name": "stdout",
     "output_type": "stream",
     "text": [
      "SVR MSE: 1.4885201135604553\n",
      "SVR R-squared: 0.4308390875207436\n"
     ]
    }
   ],
   "source": [
    "from sklearn.svm import SVR\n",
    "\n",
    "svr_model = SVR(kernel='rbf')\n",
    "svr_model.fit(X_train, y_train)\n",
    "\n",
    "y_pred_svr = svr_model.predict(X_test)\n",
    "\n",
    "mse_svr = mean_squared_error(y_test, y_pred_svr)\n",
    "r2_svr = r2_score(y_test, y_pred_svr)\n",
    "\n",
    "print(f\"SVR MSE: {mse_svr}\")\n",
    "print(f\"SVR R-squared: {r2_svr}\")"
   ]
  },
  {
   "cell_type": "code",
   "execution_count": 80,
   "metadata": {},
   "outputs": [
    {
     "data": {
      "text/html": [
       "<div>\n",
       "<style scoped>\n",
       "    .dataframe tbody tr th:only-of-type {\n",
       "        vertical-align: middle;\n",
       "    }\n",
       "\n",
       "    .dataframe tbody tr th {\n",
       "        vertical-align: top;\n",
       "    }\n",
       "\n",
       "    .dataframe thead th {\n",
       "        text-align: right;\n",
       "    }\n",
       "</style>\n",
       "<table border=\"1\" class=\"dataframe\">\n",
       "  <thead>\n",
       "    <tr style=\"text-align: right;\">\n",
       "      <th></th>\n",
       "      <th>Name</th>\n",
       "      <th>logS</th>\n",
       "      <th>Canonical_SMILES</th>\n",
       "      <th>WienerIndex</th>\n",
       "    </tr>\n",
       "  </thead>\n",
       "  <tbody>\n",
       "    <tr>\n",
       "      <th>0</th>\n",
       "      <td>1,2,3-Trichlorobenzene</td>\n",
       "      <td>-3.760</td>\n",
       "      <td>C1=CC(=C(C(=C1)Cl)Cl)Cl</td>\n",
       "      <td>82</td>\n",
       "    </tr>\n",
       "    <tr>\n",
       "      <th>1</th>\n",
       "      <td>1,3,5-Trichlorobenzene</td>\n",
       "      <td>-4.440</td>\n",
       "      <td>C1=C(C=C(C=C1Cl)Cl)Cl</td>\n",
       "      <td>84</td>\n",
       "    </tr>\n",
       "    <tr>\n",
       "      <th>2</th>\n",
       "      <td>1,4-Dibromobenzene</td>\n",
       "      <td>-4.070</td>\n",
       "      <td>C1=CC(=CC=C1Br)Br</td>\n",
       "      <td>62</td>\n",
       "    </tr>\n",
       "    <tr>\n",
       "      <th>3</th>\n",
       "      <td>17Alpha-ethynylestradiol</td>\n",
       "      <td>-4.484</td>\n",
       "      <td>CC12CCC3C(C1CCC2(C#C)O)CCC4=C3C=CC(=C4)O</td>\n",
       "      <td>941</td>\n",
       "    </tr>\n",
       "    <tr>\n",
       "      <th>4</th>\n",
       "      <td>1-Butyltheobromine</td>\n",
       "      <td>-1.625</td>\n",
       "      <td>CCCCN1C(=O)C2=C(N=CN2C)N(C1=O)C</td>\n",
       "      <td>478</td>\n",
       "    </tr>\n",
       "    <tr>\n",
       "      <th>...</th>\n",
       "      <td>...</td>\n",
       "      <td>...</td>\n",
       "      <td>...</td>\n",
       "      <td>...</td>\n",
       "    </tr>\n",
       "    <tr>\n",
       "      <th>314</th>\n",
       "      <td>Uric acid</td>\n",
       "      <td>-3.402</td>\n",
       "      <td>C12=C(NC(=O)N1)NC(=O)NC2=O</td>\n",
       "      <td>178</td>\n",
       "    </tr>\n",
       "    <tr>\n",
       "      <th>315</th>\n",
       "      <td>Vinbarbital</td>\n",
       "      <td>-2.458</td>\n",
       "      <td>CCC=C(C)C1(C(=O)NC(=O)NC1=O)CC</td>\n",
       "      <td>398</td>\n",
       "    </tr>\n",
       "    <tr>\n",
       "      <th>316</th>\n",
       "      <td>Xanthine</td>\n",
       "      <td>-2.483</td>\n",
       "      <td>C1=NC2=C(N1)C(=O)NC(=O)N2</td>\n",
       "      <td>138</td>\n",
       "    </tr>\n",
       "    <tr>\n",
       "      <th>317</th>\n",
       "      <td>Zidovudine</td>\n",
       "      <td>-1.029</td>\n",
       "      <td>CC1=CN(C(=O)NC1=O)C2CC(C(O2)CO)N=[N+]=[N-]</td>\n",
       "      <td>701</td>\n",
       "    </tr>\n",
       "    <tr>\n",
       "      <th>318</th>\n",
       "      <td>Zileuton</td>\n",
       "      <td>-3.373</td>\n",
       "      <td>CC(C1=CC2=CC=CC=C2S1)N(C(=O)N)O</td>\n",
       "      <td>436</td>\n",
       "    </tr>\n",
       "  </tbody>\n",
       "</table>\n",
       "<p>319 rows × 4 columns</p>\n",
       "</div>"
      ],
      "text/plain": [
       "                         Name   logS  \\\n",
       "0      1,2,3-Trichlorobenzene -3.760   \n",
       "1      1,3,5-Trichlorobenzene -4.440   \n",
       "2          1,4-Dibromobenzene -4.070   \n",
       "3    17Alpha-ethynylestradiol -4.484   \n",
       "4          1-Butyltheobromine -1.625   \n",
       "..                        ...    ...   \n",
       "314                 Uric acid -3.402   \n",
       "315               Vinbarbital -2.458   \n",
       "316                  Xanthine -2.483   \n",
       "317                Zidovudine -1.029   \n",
       "318                  Zileuton -3.373   \n",
       "\n",
       "                               Canonical_SMILES  WienerIndex  \n",
       "0                       C1=CC(=C(C(=C1)Cl)Cl)Cl           82  \n",
       "1                         C1=C(C=C(C=C1Cl)Cl)Cl           84  \n",
       "2                             C1=CC(=CC=C1Br)Br           62  \n",
       "3      CC12CCC3C(C1CCC2(C#C)O)CCC4=C3C=CC(=C4)O          941  \n",
       "4               CCCCN1C(=O)C2=C(N=CN2C)N(C1=O)C          478  \n",
       "..                                          ...          ...  \n",
       "314                  C12=C(NC(=O)N1)NC(=O)NC2=O          178  \n",
       "315              CCC=C(C)C1(C(=O)NC(=O)NC1=O)CC          398  \n",
       "316                   C1=NC2=C(N1)C(=O)NC(=O)N2          138  \n",
       "317  CC1=CN(C(=O)NC1=O)C2CC(C(O2)CO)N=[N+]=[N-]          701  \n",
       "318             CC(C1=CC2=CC=CC=C2S1)N(C(=O)N)O          436  \n",
       "\n",
       "[319 rows x 4 columns]"
      ]
     },
     "execution_count": 80,
     "metadata": {},
     "output_type": "execute_result"
    }
   ],
   "source": [
    "from mordred import WienerIndex\n",
    "from rdkit import Chem\n",
    "\n",
    "wiener_index = WienerIndex.WienerIndex()\n",
    "result_wiener = []\n",
    "\n",
    "for index, row in df.iterrows():                \n",
    "    smile = row['Canonical_SMILES']                       \n",
    "    mol = Chem.MolFromSmiles(smile)             \n",
    "    result_wiener.append(wiener_index(mol)) \n",
    "\n",
    "df_new = df\n",
    "df_new['WienerIndex'] = result_wiener \n",
    "\n",
    "df_new"
   ]
  },
  {
   "cell_type": "code",
   "execution_count": 81,
   "metadata": {},
   "outputs": [
    {
     "data": {
      "image/png": "[encoded data removed]",
      "text/plain": [
       "<Figure size 640x480 with 1 Axes>"
      ]
     },
     "metadata": {},
     "output_type": "display_data"
    }
   ],
   "source": [
    "import matplotlib.pyplot as plt\n",
    "\n",
    "plt.scatter(df['logS'], df_new.WienerIndex) \n",
    "plt.xlabel('WienerIndex')\n",
    "plt.ylabel('logS')\n",
    "plt.show()"
   ]
  }
 ],
 "metadata": {
  "kernelspec": {
   "display_name": "Python 3",
   "language": "python",
   "name": "python3"
  },
  "language_info": {
   "codemirror_mode": {
    "name": "ipython",
    "version": 3
   },
   "file_extension": ".py",
   "mimetype": "text/x-python",
   "name": "python",
   "nbconvert_exporter": "python",
   "pygments_lexer": "ipython3",
   "version": "3.10.4"
  }
 },
 "nbformat": 4,
 "nbformat_minor": 2
}
